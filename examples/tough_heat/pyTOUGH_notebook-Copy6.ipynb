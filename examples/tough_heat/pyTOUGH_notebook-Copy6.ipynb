{
 "cells": [
  {
   "cell_type": "code",
   "execution_count": 1,
   "metadata": {},
   "outputs": [],
   "source": [
    "import math\n",
    "import os\n",
    "import pandas as pd\n",
    "import matplotlib.pyplot as plt\n",
    "%matplotlib inline\n",
    "import sys\n",
    "sys.path.insert(0, '/home/hojat/Desktop/TOUGH2/PyTOUGH-master')\n",
    "\n",
    "## PyTOUGH specific modules\n",
    "from mulgrids import *\n",
    "from t2thermo import *\n",
    "from t2data import *\n",
    "from t2incons import *\n",
    "from os import system\n",
    "import scipy.io as sio\n",
    "\n",
    "from pyPCGA import PCGA"
   ]
  },
  {
   "cell_type": "code",
   "execution_count": 2,
   "metadata": {},
   "outputs": [
    {
     "name": "stderr",
     "output_type": "stream",
     "text": [
      "/home/hojat/anaconda3/envs/py2/lib/python2.7/site-packages/ipykernel_launcher.py:294: DeprecationWarning: `Tracer` is deprecated since version 5.1, directly use `IPython.core.debugger.Pdb.set_trace()`\n"
     ]
    }
   ],
   "source": [
    "def clear_FOFT():\n",
    "    \"\"\"To delete previous FOFT qnd MESH files in the directory.\n",
    "You can delete SAVE, INCON, ... files the same way if you need to do it before running\"\"\"\n",
    "    for file in os.listdir(\".\"):\n",
    "        if file.startswith(\"FOFT\") or file.startswith(\"MES\"):\n",
    "            try:\n",
    "                os.remove(file)\n",
    "            except Exception.e:  # was a comma, changed to a period\n",
    "                print(e)         # was print e, changed to print(e)\n",
    "                \n",
    "def forward_run():\n",
    "    \"\"\" running the tough2 model\"\"\"\n",
    "    system(\"mpiexec tough2-mp-eos1.debug\")\n",
    "\n",
    "def read_FOFT():\n",
    "    \"\"\" Function to read all FOFT files in the directory.\n",
    "    The function returns a pandas dataframe containing measurements\"\"\"\n",
    "    FOFT_files = [filename for filename in os.listdir('.') if filename.startswith(\"FOFT\")]\n",
    "    columns_name = ['Element','Time', 'Pressure', 'Saturation','Temperature']\n",
    "    rows = [] \n",
    "    for filename in FOFT_files:\n",
    "        with open(filename, 'rb') as f_input:\n",
    "            count =0\n",
    "            for row in f_input:\n",
    "                if count > 1:\n",
    "                    a= str(row[0:-1])\n",
    "                    cols = [col for col in a[2:-1].split(' ') if len(col)]\n",
    "                    if len(cols)==7:\n",
    "                        cols[1] = cols[1].ljust(2)\n",
    "                        cols[1] = cols[1].rjust(3) + cols[2].rjust(2)\n",
    "                        cols.pop(2)\n",
    "                        cols.pop(0)\n",
    "                        rows.append(cols)\n",
    "                    if len(cols)==6:\n",
    "                        cols[1] = cols[1].rjust(5)\n",
    "                        cols.pop(0)\n",
    "                        rows.append(cols)\n",
    "                count+=1\n",
    "    frame = pd.DataFrame(rows, columns=columns_name)\n",
    "    frame[['Time','Pressure','Saturation','Temperature']] = frame[['Time','Pressure','Saturation','Temperature']].apply(pd.to_numeric)\n",
    "    return frame\n",
    "\n",
    "def read_FOFT_old():\n",
    "    \"\"\" Function to read all FOFT files in the directory.\n",
    "    The function returns a pandas dataframe containing measurements\"\"\"\n",
    "    FOFT_files = [filename for filename in os.listdir('.') if filename.startswith(\"FOFT\")]\n",
    "    columns = ['FOFT','Element','Time', 'Pressure', 'Saturation','Temperature']\n",
    "    b=pd.read_csv(FOFT_files[0],names =columns,  sep=\"\\s+\", header =None, skiprows=[0,1])\n",
    "    if len(b.columns) ==6:\n",
    "        b[1] = b[1].str.rjust(5)\n",
    "        b = b.drop([0], axis=1)\n",
    "    elif len(b.columns) ==7:\n",
    "        b[1] = b[1].str.ljust(2)\n",
    "        b[2]=b[2].astype(str)\n",
    "        b[1] = b[1].str.rjust(3) + b[2].str.rjust(2)\n",
    "        b = b.drop([0,2], axis=1)\n",
    "    b.columns= ['Element','Time', 'Gas Pressure', 'Gas Saturation','Temperature']\n",
    "    for i in range(1, len(FOFT_files)):\n",
    "        a=pd.read_csv(FOFT_files[i], sep=\"\\s+\", header =None, skiprows=[0,1])\n",
    "        if len(a.columns) ==6:\n",
    "            a[1] = a[1].str.rjust(5)\n",
    "            a = a.drop([0], axis=1)\n",
    "        elif len(a.columns) ==7:\n",
    "            a[1] = a[1].str.ljust(2)\n",
    "            a[2] = a[2].astype(str)\n",
    "            a[1] = a[1].str.rjust(3) + a[2].str.rjust(2)\n",
    "            a = a.drop([0,2], axis=1)\n",
    "        a.columns= ['Element','Time', 'Gas Pressure', 'Gas Saturation','Temperature']\n",
    "        b=pd.concat([b,a], ignore_index=True)\n",
    "\n",
    "    return b\n",
    "\n",
    "def set_measurement_blk_list(dat, x_mid, dx, y_mid, dy, z_mid, dz):\n",
    "    dat.history_block=[]\n",
    "    for blk in dat.grid.blocklist[1:]:\n",
    "        if z_mid-dz/2 < blk.centre[2] < z_mid+dz/2:\n",
    "            if x_mid-dx/2 < blk.centre[0] < x_mid+dx/2:\n",
    "                if y_mid-dy/2 < blk.centre[1] < y_mid+dy/2:\n",
    "                    dat.history_block.append(blk.name)\n",
    "                    \n",
    "def set_measurement_blk(dat, x, y, z, nx):\n",
    "    \n",
    "    \n",
    "    dat.history_block = []\n",
    "    x_obs = np.array(x)\n",
    "    y_obs = np.array(y)\n",
    "    z_obs = np.array(z)\n",
    "    block_list = nx[0]*nx[1]*(z_obs-1)+nx[0]*(y_obs-1)+x_obs\n",
    "    for blk_number in block_list:\n",
    "        dat.history_block.append(dat.grid.blocklist[blk_number].name)\n",
    "\n",
    "\n",
    "def heat_generator(dat, geo, center, L, qmax, L_scale, method = 'Square'):\n",
    "    \n",
    "    \n",
    "    cols =[]\n",
    "    if method =='Square':\n",
    "        #for col in geo.columnlist:\n",
    "        #    if center[0] - L/2 <= col.centre[0] <= center[0] + L/2:\n",
    "        #        if center[1] - L/2<= col.centre[1]<= center[1] + L/2:\n",
    "        #            cols.append(col)\n",
    "        #dxs=np.array([col.centre[0]-center[0] for col in cols])/L_scale\n",
    "        #dys=np.array([col.centre[1]-center[1] for col in cols])/L_scale\n",
    "        #print(dxs)\n",
    "        #print(dys)\n",
    "        #corlength = 0.5\n",
    "        #qcol=qmax*np.exp(-0.5*((dxs*dxs+dys*dys)/(corlength*corlength)))\n",
    "        #print(qcol)\n",
    "        \n",
    "        #layer=geo.layerlist[-1] Changing to add the heat in a non-boundary layer\n",
    "        layer=geo.layerlist[-5]\n",
    "        # Page 87 from pyTOUGH #####################################\n",
    "        # adding the generator to the problem\n",
    "        dat.clear_generators()\n",
    "        \n",
    "        dat.add_generator(t2generator(name=' in1', block=' d125', type='COM1', gx=.6, ex=3.E+5))\n",
    "        dat.add_generator(t2generator(name=' in2', block=' e125', type='COM1', gx=.6, ex=3.E+5))\n",
    "        dat.add_generator(t2generator(name=' in3', block=' f125', type='COM1', gx=.6, ex=3.E+5))\n",
    "        dat.add_generator(t2generator(name=' in4', block=' g125', type='COM1', gx=.6, ex=3.E+5))\n",
    "        \n",
    "        dat.add_generator(t2generator(name=' ex1', block=' d145', type='COM1', gx=-.6))\n",
    "        dat.add_generator(t2generator(name=' ex2', block=' e145', type='COM1', gx=-.6))\n",
    "        dat.add_generator(t2generator(name=' ex3', block=' f145', type='COM1', gx=-.6))\n",
    "        dat.add_generator(t2generator(name=' ex4', block=' g145', type='COM1', gx=-.6))\n",
    "        \n",
    "        #for col,q in zip(cols,qcol):\n",
    "        #    blkname=geo.block_name(layer.name,col.name)\n",
    "        #    genname=' q'+col.name\n",
    "        #    dat.add_generator(t2generator(name=genname, block=blkname, type='HEAT', gx=q*col.area))\n",
    "        dat.short_output={}\n",
    "    else:\n",
    "        raise NotImplementedError\n",
    "\n",
    "def construct_grid(dx_grid, nx):\n",
    "    \"\"\"Constructing a TOUGH2 input geometry file for a 3D rectangular\n",
    "    model with the domain size of 300*300*20 m^3 and grid size 10*10*2 m^3.\"\"\"\n",
    "\n",
    "    # Here we set up a rectangular grid. For other option, refer to pytough examples and tutorials\n",
    "    dx = [dx_grid[0]]*nx[0]\n",
    "    dy = [dx_grid[1]]*nx[1]\n",
    "    dz = [dx_grid[2]]*nx[2]\n",
    "    # use convention =2 for naming convention. Otherwise it will generate an error when you want to write INFILE\n",
    "    # for atmos_type, refer to page 124 pyTOUGH tutorial\n",
    "    geo = mulgrid().rectangular(dx, dy, dz, atmos_type = 0, convention=2) \n",
    "    geo.write('geom.dat')      # write the geometry file\n",
    "\n",
    "    return geo\n",
    "\n",
    "\n",
    "#def set_rocktype(dat, z_bottom, z_middle, z_top):\n",
    "    \n",
    "\n",
    "def read_SAVE():\n",
    "    data_SAVE= pd.read_csv('SAVE',sep=\"\\s+\", header =None, skiprows=[0], error_bad_lines = False)\n",
    "    data_SAVE = data_SAVE.drop([0,1, len(data_SAVE)-1])\n",
    "    blk_1 = []\n",
    "    blk_2 = []\n",
    "    blk_3 = []\n",
    "    for i in range(2,len(data_SAVE)+2):\n",
    "        if i%2 ==0:\n",
    "            if math.isnan(data_SAVE[2][i]):\n",
    "                blk_1.append(data_SAVE[1][i])\n",
    "            else:\n",
    "                blk_1.append(data_SAVE[2][i])\n",
    "        else:\n",
    "            blk_2.append(float(data_SAVE[0][i]))\n",
    "            blk_3.append(float(data_SAVE[1][i]))\n",
    "    data_save = {'Saturation': blk_1,\n",
    "                 'Pressure': blk_2,\n",
    "                 'Temperature': blk_3}\n",
    "    \n",
    "    df = pd.DataFrame.from_dict(data_save)\n",
    "    \n",
    "    return df\n",
    "\n",
    "def plot_FoFT(data_FOFT, Elem, variable = 'Temperature', ylim = [0, 100], xlim = [0, 86400]):\n",
    "    ###NOTE THAT PLOTFOFT WILL NOT PLOT ANY OF THE LOCATIONS THAT HAVE A BLANK IN THEIR NAME\n",
    "    x = np.array(data_FOFT[data_FOFT['Element']==Elem]['Time'])\n",
    "    plt.plot(x,data_FOFT[data_FOFT['Element']==Elem][variable])\n",
    "    #plt.axis([0, x[-1], ylim[0], ylim[1]])\n",
    "    plt.axis([xlim[0], xlim[1], ylim[0], ylim[1]])\n",
    "    #plt.yticks([])\n",
    "    plt.show()\n",
    "    \n",
    "def plot_SAVE(df, nx, y=0, col = 'Temperature', clim = [0, 100]):\n",
    "    # old code\n",
    "    #data_save=np.array(df['Col_1'])\n",
    "    #a = np.reshape(data_save,(nx[2],nx[1],nx[0])).T\n",
    "    #plt.imshow(a[:,:,5].T)\n",
    "    #plt.colorbar()\n",
    "    \n",
    "    #df: output of read_SAVE() function\n",
    "    # nx: number of grids in the domain in each direction\n",
    "    # col: can be 'Temperature', 'Pressure', or 'Saturation'\n",
    "    # clim: determines the range for colorbar\n",
    "    \n",
    "    #data_save=np.array(df[col])\n",
    "    #a = np.reshape(data_save,(nx[2],nx[1],nx[0])).T\n",
    "    #plt.imshow(a[:,y,:].T)\n",
    "    #plt.colorbar()\n",
    "    #plt.clim(clim[0],clim[1])\n",
    "    #plt.title(col)\n",
    "    n = len(dat.grid.blocklist)-1\n",
    "    elevation_save = np.zeros((n,1))\n",
    "    for idblock in range(1,n):\n",
    "        elevation_save[idblock-1] = dat.grid.blocklist[idblock].centre[2]\n",
    "        \n",
    "    z = np.reshape(elevation_save,(nx[2],nx[1],nx[0]))\n",
    "    \n",
    "    data_save=np.array(df[col])\n",
    "    \n",
    "    if col == 'Pressure':\n",
    "        # Gas pressure converted to m H2O + elevation = hydraulic head in water\n",
    "        a = np.reshape(data_save*0.00010197,(nx[2],nx[1],nx[0])).T + z.T\n",
    "        #a = np.reshape(data_save,(nx[2],nx[1],nx[0])).T \n",
    "        plt.imshow(a[:,y,:].T)\n",
    "        #plt.colorbar()\n",
    "        plt.clim(clim[0],clim[1])\n",
    "        plt.title('Hydraulic head (m)')\n",
    "    else:\n",
    "        a = np.reshape(data_save,(nx[2],nx[1],nx[0])).T\n",
    "        plt.imshow(a[:,y,:].T)\n",
    "        #plt.colorbar()\n",
    "        plt.clim(clim[0],clim[1])\n",
    "        plt.title(col)\n",
    "\n",
    "def modify_infile():\n",
    "    f = open(\"INFILE\", \"r\")\n",
    "    contents = f.readlines()\n",
    "    f.close()\n",
    "    contents.insert(5, 'SEED\\n')\n",
    "    f = open(\"INFILE\", \"w\")\n",
    "    contents = \"\".join(contents)\n",
    "    f.write(contents)\n",
    "    f.close()\n",
    "    \n",
    "    return\n",
    "\n",
    "def observation_model():\n",
    "    \n",
    "    obs_type = 'Temperature'\n",
    "    #obs_type = 'Pressure'\n",
    "    #measured_data = read_FOFT()\n",
    "    measured_data = read_SAVE()\n",
    "    obs = measured_data[obs_type]\n",
    "    m_s = np.array(obs)\n",
    "    meas = m_s[0::20]\n",
    "    return meas\n",
    "    \n",
    "    \n",
    "def forward_model(s, parallelization, ncores=None):\n",
    "    print('shape of s is:')\n",
    "    print(s.shape)\n",
    "    print('The first 10 elements of first three columns are:')\n",
    "    print(s[0:10,0:3])\n",
    "    measured_data = read_FOFT()\n",
    "    obs1=measured_data['Temperature']\n",
    "    b=np.array(obs1)\n",
    "    blk = dat.grid.blocklist[1:]\n",
    "    if parallelization:\n",
    "        obs = np.zeros((n_obs,s.shape[1]))\n",
    "        for j in range(s.shape[1]):\n",
    "            print(s.shape)\n",
    "            s_in = np.exp(s[:,j])\n",
    "            for blk, pmx in zip(dat.grid.blocklist[1:], s_in):\n",
    "                blk.pmx = pmx\n",
    "            dat.write('INFILE')\n",
    "            modify_infile()\n",
    "            clear_FOFT()\n",
    "            system(\"mpiexec tough2-mp-eos1.debug\")\n",
    "            #measured_data = read_FOFT()\n",
    "            #pressure=measured_data['Temperature']\n",
    "            measurements = observation_model()\n",
    "            b=np.array(measurements)\n",
    "            obs[:,j] = b.reshape(-1,)\n",
    "        print('The first 10 elements of first three columns of outputs are:')\n",
    "        print(s[0:10,0:3])\n",
    "        return obs\n",
    "            \n",
    "    for i in range(len(s)):\n",
    "        blk[i].pmx = float(s[i])\n",
    "    dat.write('INFILE')\n",
    "    modify_infile()\n",
    "    clear_FOFT()\n",
    "    system(\"mpiexec tough2-mp-eos1.debug\")\n",
    "    #measured_data = read_FOFT()\n",
    "    #pressure=measured_data['Temperature']\n",
    "    measurements = observation_model()\n",
    "    obs=np.array(measurements)\n",
    "    obs = obs.reshape(-1,1)\n",
    "    return obs\n",
    "\n",
    "## From Harry's code\n",
    "from IPython.core.debugger import Tracer; debug_here = Tracer()\n",
    "\n",
    "def DistanceVector(x, y, theta):\n",
    "    dim = x.shape[1]\n",
    "    DM = np.zeros(x.shape[0])\n",
    "\n",
    "    if dim == 1:\n",
    "        DM = (x[:] - y) ** 2. / theta ** 2.\n",
    "    else:\n",
    "        for i in np.arange(dim):\n",
    "            DM += (x[:, i] - y[i]) ** 2. / theta[i] ** 2.\n",
    "\n",
    "    DM = np.sqrt(DM)\n",
    "    return DM\n",
    "\n",
    "\n",
    "def CreateRow(xmin, xmax, N, kernel, theta):\n",
    "    \"\"\"\n",
    "    Create row column of covariance matrix\n",
    "    \"\"\"\n",
    "    dim = N.size\n",
    "\n",
    "    if dim == 1:\n",
    "        x = np.linspace(xmin[0], xmax[0], N[0])\n",
    "        x = x.reshape(-1,1) # make it 2D for consistency\n",
    "        R = DistanceVector(x, x[0], theta)\n",
    "    elif dim == 2:\n",
    "        x1 = np.linspace(xmin[0], xmax[0], N[0])\n",
    "        x2 = np.linspace(xmin[1], xmax[1], N[1])\n",
    "\n",
    "        xx, yy = np.meshgrid(x1, x2, indexing='ij')\n",
    "\n",
    "        x = np.vstack((np.ravel(xx, order='F'), np.ravel(yy, order='F'))).transpose()\n",
    "        R = DistanceVector(x, x[0, :].transpose(), theta)\n",
    "\n",
    "    elif dim == 3:\n",
    "        x1 = np.linspace(xmin[0], xmax[0], N[0])\n",
    "        x2 = np.linspace(xmin[1], xmax[1], N[1])\n",
    "        x3 = np.linspace(xmin[2], xmax[2], N[2])\n",
    "\n",
    "        #xx, yy, zz = np.meshgrid(x1, x2, x3, indexing='ij')\n",
    "        xx, yy, zz = np.meshgrid(x1, x2, x3, indexing='ij')\n",
    "\n",
    "        x = np.vstack((np.ravel(xx, order='F'), np.ravel(yy, order='F'), np.ravel(zz, order='F'))).transpose()\n",
    "        R = DistanceVector(x, x[0, :].transpose(), theta)\n",
    "\n",
    "    else:\n",
    "        raise ValueError(\"Support 1,2 and 3 dimensions\")\n",
    "\n",
    "    row = kernel(R)\n",
    "\n",
    "    return row, x\n",
    "\n",
    "\n",
    "def ToeplitzProduct(x, row, N):\n",
    "    ''' Toeplitz matrix times x\n",
    "    :param x: x for Qx\n",
    "    :param row: from CreateRow\n",
    "    :param N: size in each dimension ex) N = [2,3,4]\n",
    "    :return: Qx\n",
    "    '''\n",
    "    dim = N.size\n",
    "\n",
    "    if dim == 1:\n",
    "        circ = np.concatenate((row, row[-2:0:-1])).reshape(-1)\n",
    "        padded = np.concatenate((x, np.zeros(N[0] - 2)))\n",
    "        result = np.fft.ifft(np.fft.fft(circ) * np.fft.fft(padded))\n",
    "        result = np.real(result[0:N[0]])\n",
    "\n",
    "    elif dim == 2:\n",
    "        circ = np.reshape(row, (N[0], N[1]), order='F')\n",
    "        circ = np.concatenate((circ, circ[:, -2:0:-1]), axis=1)\n",
    "        circ = np.concatenate((circ, circ[-2:0:-1, :]), axis=0)\n",
    "\n",
    "        n = np.shape(circ)\n",
    "        padded = np.reshape(x, (N[0], N[1]), order='F')\n",
    "\n",
    "        result = np.fft.ifft2(np.fft.fft2(circ) * np.fft.fft2(padded, n))\n",
    "        result = np.real(result[0:N[0], 0:N[1]])\n",
    "        result = np.reshape(result, -1, order='F')\n",
    "\n",
    "    elif dim == 3:\n",
    "        circ = np.reshape(row, (N[0], N[1], N[2]), order='F')\n",
    "        circ = np.concatenate((circ, circ[:, :, -2:0:-1]), axis=2)\n",
    "        circ = np.concatenate((circ, circ[:, -2:0:-1, :]), axis=1)\n",
    "        circ = np.concatenate((circ, circ[-2:0:-1, :, :]), axis=0)\n",
    "\n",
    "        n = np.shape(circ)\n",
    "        padded = np.reshape(x, N, order='F')\n",
    "\n",
    "        result = np.fft.ifftn(np.fft.fftn(circ) * np.fft.fftn(padded, n))\n",
    "        result = np.real(result[0:N[0], 0:N[1], 0:N[2]])\n",
    "        result = np.reshape(result, -1, order='F')\n",
    "    else:\n",
    "        raise ValueError(\"Support 1,2 and 3 dimensions\")\n",
    "\n",
    "    return result\n",
    "\n",
    "\n",
    "def Realizations(row, N):\n",
    "    dim = N.size\n",
    "    if dim == 1:\n",
    "        circ = np.concatenate((row, row[-2:0:-1]))\n",
    "        n = circ.shape\n",
    "\n",
    "        eps = np.random.normal(0, 1, n) + 1j * np.random.normal(0, 1, n)\n",
    "        res = np.fft.ifft(np.sqrt(np.fft.fft(circ)) * eps) * np.sqrt(n)\n",
    "\n",
    "        r1 = np.real(res[0:N[0]])\n",
    "        r2 = np.imag(res[0:N[0]])\n",
    "\n",
    "    elif dim == 2:\n",
    "        circ = np.reshape(row, (N[0], N[1]), order='F')\n",
    "        circ = np.concatenate((circ, circ[:, -2:0:-1]), axis=1)\n",
    "        circ = np.concatenate((circ, circ[-2:0:-1, :]), axis=0)\n",
    "\n",
    "        n = np.shape(circ)\n",
    "        eps = np.random.normal(0, 1, n) + 1j * np.random.normal(0, 1, n)\n",
    "\n",
    "        res = np.fft.ifft2(np.sqrt(np.fft.fft2(circ)) * eps) * np.sqrt(n[0] * n[1])\n",
    "        res = res[0:N[0], 0:N[1]]\n",
    "        res = np.reshape(res, -1, order='F')\n",
    "\n",
    "        r1 = np.real(res)\n",
    "        r2 = np.imag(res)\n",
    "\n",
    "    elif dim == 3:\n",
    "        circ = np.reshape(row, (N[0], N[1], N[2]), order='F')\n",
    "        circ = np.concatenate((circ, circ[:, :, -2:0:-1]), axis=2)\n",
    "        circ = np.concatenate((circ, circ[:, -2:0:-1, :]), axis=1)\n",
    "        circ = np.concatenate((circ, circ[-2:0:-1, :, :]), axis=0)\n",
    "\n",
    "        n = np.shape(circ)\n",
    "        eps = np.random.normal(0, 1, n) + 1j * np.random.normal(0, 1, n)\n",
    "\n",
    "        res = np.fft.ifftn(np.sqrt(np.fft.fftn(circ)) * eps) * np.sqrt(n[0] * n[1] * n[2])\n",
    "        res = res[0:N[0], 0:N[1], 0:N[2]]\n",
    "        res = np.reshape(res, -1, order='F')\n",
    "\n",
    "        r1 = np.real(res)\n",
    "        r2 = np.imag(res)\n",
    "    else:\n",
    "        raise ValueError(\"Support 1,2 and 3 dimensions\")\n",
    "\n",
    "    return r1, r2, eps\n"
   ]
  },
  {
   "cell_type": "code",
   "execution_count": 3,
   "metadata": {},
   "outputs": [],
   "source": [
    "# Create TOUGH2 input data file:\n",
    "dat = t2data()\n",
    "dat.title = '3D synthetic Ex1'\n",
    "\n",
    "dx = [10., 10., 2.]   # grid size\n",
    "nx = [30, 10, 10]     # number of grids in each dimension. Don't use large grid because of pytough naming convention\n",
    "geo = construct_grid(dx, nx)\n",
    "dat.grid = t2grid().fromgeo(geo)\n"
   ]
  },
  {
   "cell_type": "code",
   "execution_count": 4,
   "metadata": {},
   "outputs": [
    {
     "name": "stdout",
     "output_type": "stream",
     "text": [
      "33.11271807442939\n",
      "15.784224964766244\n"
     ]
    },
    {
     "data": {
      "image/png": "[encoded data removed]",
      "text/plain": [
       "<Figure size 432x288 with 2 Axes>"
      ]
     },
     "metadata": {},
     "output_type": "display_data"
    }
   ],
   "source": [
    "alpha = 100\n",
    "def kernel(R):\n",
    "        return alpha * np.exp(-R)\n",
    "prior_std = 1\n",
    "prior_cov_scale = np.array([300., 300., 10])\n",
    "\n",
    "dim = 3\n",
    "np.random.seed(101)\n",
    "N = np.array(nx)\n",
    "dX = np.array(dx)\n",
    "x_max = N*dX\n",
    "x_min = np.zeros(dim)\n",
    "theta = np.array([1000,1000,1000])\n",
    "row, pts = CreateRow(x_min, x_max, N, kernel,theta)\n",
    "r1, r2, ep = Realizations(row, N)\n",
    "realization = np.sqrt(r1**2+r2**2)\n",
    "realization1 = realization.reshape(N[2],N[1],N[0])\n",
    "plt.imshow(realization1[6,:,:] )\n",
    "plt.colorbar(orientation='horizontal')\n",
    "plt.clim(0,50)\n",
    "print(np.max(realization))\n",
    "print(np.min(realization))\n",
    "s_t = realization1\n",
    "\n",
    "def kernel(r): return (prior_std**2)*np.exp(-r**2)"
   ]
  },
  {
   "cell_type": "code",
   "execution_count": 141,
   "metadata": {},
   "outputs": [
    {
     "data": {
      "image/png": "[encoded data removed]",
      "text/plain": [
       "<Figure size 432x288 with 2 Axes>"
      ]
     },
     "metadata": {},
     "output_type": "display_data"
    }
   ],
   "source": [
    "data_pmx = sio.loadmat('true_pmx.mat')\n",
    "s_true = data_pmx['s_true']\n",
    "s_true = s_true-np.min(s_true)\n",
    "s_true = s_true/2\n",
    "pts = data_pmx['pts']\n",
    "#s_t = np.log(s_t)\n",
    "plt.imshow(s_true[:,6,:].T)\n",
    "plt.colorbar()\n",
    "s_true = s_true.reshape(-1,1)\n",
    "realization = s_true"
   ]
  },
  {
   "cell_type": "code",
   "execution_count": 94,
   "metadata": {},
   "outputs": [],
   "source": [
    "# simulation parameters:\n",
    "# Table 4.9 page 78 pytough tutorial and Appendix E of TOUGH2 tutorial\n",
    "# data.parameter is a dictionary\n",
    "# each parameter can be called as dat.parameter['parameter name']\n",
    "dat.parameter.update(\n",
    "    {'max_timesteps': 9000,                 # maximum number of time steps\n",
    "     'tstop': 0.32342126E+07,                   # stop time\n",
    "     #'tstop': 100000,                   # stop time\n",
    "     'const_timestep': 6,                   # time step length\n",
    "     'max_timestep':86400,                   # maximum time step size\n",
    "     'absolute_error': 1,                   # absolute convergence tolerance\n",
    "     'relative_error': 5.e-6,               # relative convergence tolerance\n",
    "     'print_interval': 9000,                # time step interval for printing\n",
    "     'timestep_reduction': 3.,              # time step reduction factor\n",
    "     'gravity': 9.81,                       # gravitational acceleration\n",
    "     'default_incons': [100.e4, 10]})      # default initial conditions\n",
    "    # Pressure in Pa, 100 m water = 10.e5 Pa water, 10 is the temperature in Celcius\n",
    "dat.start = True"
   ]
  },
  {
   "cell_type": "code",
   "execution_count": 95,
   "metadata": {},
   "outputs": [
    {
     "name": "stdout",
     "output_type": "stream",
     "text": [
      "{'num_components': 1, 'num_phases': 2, 'num_secondary_parameters': 6, 'num_equations': 2}\n"
     ]
    },
    {
     "data": {
      "text/plain": [
       "array([1.e-13, 1.e-13, 1.e-13])"
      ]
     },
     "execution_count": 95,
     "metadata": {},
     "output_type": "execute_result"
    }
   ],
   "source": [
    "\n",
    "# Table 4.9 page 78 pytough tutorial and Appendix E of TOUGH2 tutorial\n",
    "# http://citeseerx.ist.psu.edu/viewdoc/download?doi=10.1.1.396.8810&rep=rep1&type=pdf\n",
    "# Set MOPs: PARAM option in INFILE\n",
    "dat.parameter['option'][1] = 1\n",
    "dat.parameter['option'][5] = 3\n",
    "dat.parameter['option'][7] = 1\n",
    "dat.parameter['option'][11] = 2\n",
    "dat.parameter['option'][12] = 2\n",
    "dat.parameter['option'][15] = 1\n",
    "dat.parameter['option'][16] = 4\n",
    "dat.parameter['option'][20] = 0\n",
    "dat.parameter['option'][21] = 1\n",
    "\n",
    "\n",
    "# Set relative permeability (Corey) and capillarity functions:\n",
    "# Table 4.10, page 79 PYTOUGH\n",
    "dat.relative_permeability = {'type': 7, 'parameters': [0.95, 0.5, 1., 0.25, 0.]}\n",
    "dat.capillarity = {'type': 7, 'parameters': [0.8, 0.32, 1.e-4, 1.e7, 0.999]}\n",
    "\n",
    "\n",
    "# rocktype object, Table 3.3, page 67 PyTOUGH\n",
    "r1 = rocktype('dfalt', permeability = [0.e-13]*3,density = 2600, porosity = 0.25,conductivity =2.51 , specific_heat = 920,)\n",
    "r2 = rocktype('HOMO1', permeability = [9.e-13, 3.e-14, 3.e-14],density = 2600, porosity = 0.25,conductivity =2.51 , specific_heat = 920,)\n",
    "#r4 = rocktype('HOMO2', permeability = [9.e-15, 3.e-15, 3.e-15],density = 2600, porosity = 0.25,conductivity =2.51 , specific_heat = 920,)\n",
    "r3 = rocktype('OUTB1', permeability = [1.e-13]*3,density = 2600, porosity = 0.25,conductivity =2.51 , specific_heat = 20000,)\n",
    "\n",
    "dat.grid.add_rocktype(r2)\n",
    "dat.grid.add_rocktype(r3)\n",
    "#dat.grid.add_rocktype(r4)\n",
    "\n",
    "#dat.grid.add_rocktype(r3)\n",
    "dat.multi.update({'num_components': 1, 'num_equations':2, 'num_phases':2, 'num_secondary_parameters':6})\n",
    "\n",
    "\n",
    "print(dat.multi)\n",
    "dat.grid.rocktype\n",
    "dat.grid.rocktype\n",
    "dat.grid.check\n",
    "r3.permeability"
   ]
  },
  {
   "cell_type": "code",
   "execution_count": 96,
   "metadata": {},
   "outputs": [
    {
     "name": "stdout",
     "output_type": "stream",
     "text": [
      "374.330162037\n"
     ]
    },
    {
     "data": {
      "text/plain": [
       "array([95., 35., -7.])"
      ]
     },
     "execution_count": 96,
     "metadata": {},
     "output_type": "execute_result"
    }
   ],
   "source": [
    "# SOLVR Table 4.11 page 79 PyTough\n",
    "dat.solver.update({'type': 5, 'z_precond':1,'o_precond': 0, 'relative_max_iterations':.8,'closure':1.e-7 })\n",
    "# TIMES table 4.8\n",
    "dat.output_times.update({'num_times_specified':2, 'time': [0.8640E+04, 0.32342126E+08]})\n",
    "print(dat.output_times['time'][1]/86400)\n",
    "# prints output times in days\n",
    "\n",
    "dat.grid.blocklist[1000].centre"
   ]
  },
  {
   "cell_type": "code",
   "execution_count": 126,
   "metadata": {},
   "outputs": [
    {
     "name": "stdout",
     "output_type": "stream",
     "text": [
      "3 rock types; 3001 blocks; 8600 connections\n",
      "HOMO1\n"
     ]
    }
   ],
   "source": [
    "# rocktypes:\n",
    "# Setting rocktype based on the block's 'z' coordinate\n",
    "z_bottom = -17\n",
    "z_top = -2\n",
    "\n",
    "# assign all non boundary elements to r2\n",
    "for blk in dat.grid.blocklist[1:]: \n",
    "    if z_bottom < blk.centre[2] < z_top:\n",
    "        blk.rocktype=r2\n",
    "    else: blk.rocktype=r3\n",
    "   \n",
    "lense = 0\n",
    "\n",
    "if lense==1:\n",
    "    # within homeogeneous domain, assign a lense that is in the way of the injection\n",
    "    lense_bottom_z = -14\n",
    "    lense_top_z = -8\n",
    "    lense_start_x = 65\n",
    "    lense_end_x = 115\n",
    "    for blk in dat.grid.blocklist[1:]:\n",
    "        if lense_bottom_z < blk.centre[2] < lense_top_z:\n",
    "            if lense_start_x < blk.centre[0] < lense_end_x:\n",
    "                blk.rocktype=r4\n",
    "    \n",
    "dat.grid.clean_rocktypes()\n",
    "\n",
    "\n",
    "for blk, pmx in zip(dat.grid.blocklist[1:], np.exp(s_true)):\n",
    "    #blk.pmx = 1\n",
    "    blk.pmx = pmx\n",
    "    #print(pmxb)\n",
    "\n",
    "print(dat.grid)\n",
    "print(r2)"
   ]
  },
  {
   "cell_type": "code",
   "execution_count": 127,
   "metadata": {},
   "outputs": [],
   "source": [
    "# setting the blocks for FOFT\n",
    "# this section needs to be modified. FOFT blocks can be given by the coordinate of the block, or by the block name\n",
    "# currently, it accepts the cell number in each direction\n",
    "# for example the first cell here is located in grid (2,2) in 5th layer\n",
    "#x_obs = [7,15,20]#[2,4,14,16]\n",
    "#y_obs = [14,14,14]#[2,4,14,16]\n",
    "#z_obs = [6,6,6]\n",
    "\n",
    "# from function definition above \n",
    "# set_measurement_blk(dat, x, y, z, nx):\n",
    "#set_measurement_blk(dat, x_obs, y_obs, z_obs, nx)\n",
    "\n",
    "## you can add duplicates of this block with different xyz locations\n",
    "x_mid = 150\n",
    "y_mid = 50\n",
    "z_mid = -10\n",
    "dx = 80\n",
    "dy = 60\n",
    "dz = 8\n",
    "dat.history_block=[]\n",
    "set_measurement_blk_list(dat, x_mid, dx, y_mid, dy, z_mid, dz)\n",
    "\n",
    "#print(dat.history_block)\n",
    "#print(nx)\n"
   ]
  },
  {
   "cell_type": "code",
   "execution_count": 128,
   "metadata": {},
   "outputs": [],
   "source": [
    "# just checking the name of measurement blocks\n",
    "# f124 coordinates are 35,45,10  and it is the 2nd observationn point at 4,4,5 element :1\n",
    "\n",
    "len(dat.history_block)\n",
    "\n",
    "# adding generators to the model\n",
    "\n",
    "center = [150, 150] # [x,y] position of the center\n",
    "L = 40     # length of one side of square\n",
    "qmax = 15000\n",
    "L_scale = 300\n",
    "\n",
    "\n",
    "heat_generator(dat, geo, center, L, qmax, L_scale, method = 'Square')\n",
    "# just checking the generator blocks\n",
    "\n",
    "\n",
    "# Write data file\n",
    "\n",
    "dat.write('INFILE')\n",
    "modify_infile()\n",
    "\n",
    "clear_FOFT()\n"
   ]
  },
  {
   "cell_type": "code",
   "execution_count": 129,
   "metadata": {},
   "outputs": [],
   "source": [
    "# running tough2_mp\n",
    "forward_run()"
   ]
  },
  {
   "cell_type": "code",
   "execution_count": 63,
   "metadata": {},
   "outputs": [],
   "source": [
    "measured_data = read_FOFT()\n"
   ]
  },
  {
   "cell_type": "code",
   "execution_count": 130,
   "metadata": {},
   "outputs": [
    {
     "name": "stderr",
     "output_type": "stream",
     "text": [
      "Skipping line 6005: expected 3 fields, saw 5\n",
      "Skipping line 6006: expected 3 fields, saw 10\n",
      "\n"
     ]
    }
   ],
   "source": [
    "#measured_data = read_FOFT()\n",
    "measurements = observation_model()\n",
    "obs = np.array(measurements)\n",
    "#obs = obs+.1*np.random.randn(obs.shape[0],1)  # ADDING NOISE TO MEASUREMENTS\n",
    "n_obs = len(obs)"
   ]
  },
  {
   "cell_type": "code",
   "execution_count": 131,
   "metadata": {},
   "outputs": [
    {
     "data": {
      "text/plain": [
       "150"
      ]
     },
     "execution_count": 131,
     "metadata": {},
     "output_type": "execute_result"
    }
   ],
   "source": [
    "n_obs"
   ]
  },
  {
   "cell_type": "code",
   "execution_count": 132,
   "metadata": {},
   "outputs": [
    {
     "data": {
      "text/plain": [
       "0.0"
      ]
     },
     "execution_count": 132,
     "metadata": {},
     "output_type": "execute_result"
    }
   ],
   "source": [
    "np.linalg.norm(obs-obs1)"
   ]
  },
  {
   "cell_type": "code",
   "execution_count": 133,
   "metadata": {},
   "outputs": [],
   "source": [
    "#s_true = realization #'post_cov':\"diag\","
   ]
  },
  {
   "cell_type": "code",
   "execution_count": 134,
   "metadata": {},
   "outputs": [],
   "source": [
    "params = {'R':(.01)**2, 'n_pc':20,\n",
    "          'maxiter':5, 'restol':0.01,\n",
    "          'matvec':'FFT','xmin':x_min, 'xmax':x_max, 'N':N,\n",
    "          'prior_std':prior_std,'prior_cov_scale':prior_cov_scale,\n",
    "          'kernel':kernel, \n",
    "          'precond':True, 'LM': True,\n",
    "          'parallel':True, 'linesearch' : True,'precision':0.00001,\n",
    "          'forward_model_verbose': True, 'verbose': True,\n",
    "          'iter_save': True}"
   ]
  },
  {
   "cell_type": "code",
   "execution_count": 135,
   "metadata": {},
   "outputs": [],
   "source": [
    "s_init = np.mean(s_true)*np.ones((len(s_true),1))\n"
   ]
  },
  {
   "cell_type": "code",
   "execution_count": 136,
   "metadata": {},
   "outputs": [
    {
     "name": "stdout",
     "output_type": "stream",
     "text": [
      "##### PCGA Inversion #####\n",
      "##### 1. Initialize forward and inversion parameters\n",
      "------------ Inversion Parameters -------------------------\n",
      "   Number of unknowns                               : 3000\n",
      "   Number of observations                           : 150\n",
      "   Number of principal components (n_pc)            : 20\n",
      "   Prior model                                      : def kernel(r): return (prior_std**2)*np.exp(-r**2)\n",
      "\n",
      "   Prior variance                                   : 1.000000e+00\n",
      "   Prior scale (correlation) parameter              : [300. 300.  10.]\n",
      "   Posterior cov computation                        : False\n",
      "   Number of CPU cores (n_core)                     : 12\n",
      "   Maximum GN iterations                            : 5\n",
      "   machine precision (delta = sqrt(precision))      : 1.000000e-05\n",
      "   Tol for iterations (norm(sol_diff)/norm(sol))    : 1.000000e-02\n",
      "   Levenberg-Marquardt (LM)                         : True\n",
      "   LM solution range constraints (LM_smin, LM_smax) : None, None\n",
      "   Line search                                      : True\n",
      "-----------------------------------------------------------\n"
     ]
    }
   ],
   "source": [
    "prob = PCGA(forward_model, s_init = s_init, pts = pts, params = params, s_true = s_true, obs = obs)"
   ]
  },
  {
   "cell_type": "code",
   "execution_count": 137,
   "metadata": {},
   "outputs": [
    {
     "name": "stdout",
     "output_type": "stream",
     "text": [
      "##### 2. Construct Prior Covariance Matrix\n",
      "- time for covariance matrix construction (m = 3000) is 0 sec\n",
      "##### 3. Eigendecomposition of Prior Covariance\n",
      "- time for eigendecomposition with k = 20 is 0 sec\n",
      "- 1st eigv : 1543.48, 20-th eigv : 0.790084, ratio: 0.000511884\n",
      "##### 4. Start PCGA Inversion #####\n",
      "-- evaluate initial solution\n",
      "shape of s is:\n",
      "(3000, 1)\n",
      "The first 10 elements of first three columns are:\n",
      "[[1.12784629]\n",
      " [1.12784629]\n",
      " [1.12784629]\n",
      " [1.12784629]\n",
      " [1.12784629]\n",
      " [1.12784629]\n",
      " [1.12784629]\n",
      " [1.12784629]\n",
      " [1.12784629]\n",
      " [1.12784629]]\n"
     ]
    },
    {
     "name": "stderr",
     "output_type": "stream",
     "text": [
      "Skipping line 6005: expected 3 fields, saw 5\n",
      "Skipping line 6006: expected 3 fields, saw 10\n",
      "\n"
     ]
    },
    {
     "name": "stdout",
     "output_type": "stream",
     "text": [
      "obs. RMSE (norm(obs. diff.)/sqrt(nobs)): 0.223155, normalized obs. RMSE (norm(obs. diff./sqrtR)/sqrt(nobs)): 22.3155\n",
      "***** Iteration 1 ******\n",
      "shape of s is:\n",
      "(3000, 22)\n",
      "The first 10 elements of first three columns are:\n",
      "[[1.13141285 1.12995385 1.13138944]\n",
      " [1.13141285 1.13001406 1.13149066]\n",
      " [1.13141285 1.13007148 1.1315872 ]\n",
      " [1.13141285 1.13012583 1.13167856]\n",
      " [1.13141285 1.13017679 1.13176425]\n",
      " [1.13141285 1.1302241  1.13184378]\n",
      " [1.13141285 1.13026749 1.13191672]\n",
      " [1.13141285 1.13030672 1.13198267]\n",
      " [1.13141285 1.13034155 1.13204123]\n",
      " [1.13141285 1.1303718  1.13209208]]\n",
      "(3000, 22)\n"
     ]
    },
    {
     "name": "stderr",
     "output_type": "stream",
     "text": [
      "Skipping line 6005: expected 3 fields, saw 5\n",
      "Skipping line 6006: expected 3 fields, saw 10\n",
      "\n"
     ]
    },
    {
     "name": "stdout",
     "output_type": "stream",
     "text": [
      "(3000, 22)\n"
     ]
    },
    {
     "name": "stderr",
     "output_type": "stream",
     "text": [
      "Skipping line 6005: expected 3 fields, saw 5\n",
      "Skipping line 6006: expected 3 fields, saw 10\n",
      "\n"
     ]
    },
    {
     "name": "stdout",
     "output_type": "stream",
     "text": [
      "(3000, 22)\n"
     ]
    },
    {
     "name": "stderr",
     "output_type": "stream",
     "text": [
      "Skipping line 6005: expected 3 fields, saw 5\n",
      "Skipping line 6006: expected 3 fields, saw 10\n",
      "\n"
     ]
    },
    {
     "name": "stdout",
     "output_type": "stream",
     "text": [
      "(3000, 22)\n"
     ]
    },
    {
     "name": "stderr",
     "output_type": "stream",
     "text": [
      "Skipping line 6005: expected 3 fields, saw 5\n",
      "Skipping line 6006: expected 3 fields, saw 10\n",
      "\n"
     ]
    },
    {
     "name": "stdout",
     "output_type": "stream",
     "text": [
      "(3000, 22)\n"
     ]
    },
    {
     "name": "stderr",
     "output_type": "stream",
     "text": [
      "Skipping line 6005: expected 3 fields, saw 5\n",
      "Skipping line 6006: expected 3 fields, saw 10\n",
      "\n"
     ]
    },
    {
     "name": "stdout",
     "output_type": "stream",
     "text": [
      "(3000, 22)\n"
     ]
    },
    {
     "name": "stderr",
     "output_type": "stream",
     "text": [
      "Skipping line 6005: expected 3 fields, saw 5\n",
      "Skipping line 6006: expected 3 fields, saw 10\n",
      "\n"
     ]
    },
    {
     "name": "stdout",
     "output_type": "stream",
     "text": [
      "(3000, 22)\n"
     ]
    },
    {
     "name": "stderr",
     "output_type": "stream",
     "text": [
      "Skipping line 6005: expected 3 fields, saw 5\n",
      "Skipping line 6006: expected 3 fields, saw 10\n",
      "\n"
     ]
    },
    {
     "name": "stdout",
     "output_type": "stream",
     "text": [
      "(3000, 22)\n"
     ]
    },
    {
     "name": "stderr",
     "output_type": "stream",
     "text": [
      "Skipping line 6005: expected 3 fields, saw 5\n",
      "Skipping line 6006: expected 3 fields, saw 10\n",
      "\n"
     ]
    },
    {
     "name": "stdout",
     "output_type": "stream",
     "text": [
      "(3000, 22)\n"
     ]
    },
    {
     "name": "stderr",
     "output_type": "stream",
     "text": [
      "Skipping line 6005: expected 3 fields, saw 5\n",
      "Skipping line 6006: expected 3 fields, saw 10\n",
      "\n"
     ]
    },
    {
     "name": "stdout",
     "output_type": "stream",
     "text": [
      "(3000, 22)\n"
     ]
    },
    {
     "name": "stderr",
     "output_type": "stream",
     "text": [
      "Skipping line 6005: expected 3 fields, saw 5\n",
      "Skipping line 6006: expected 3 fields, saw 10\n",
      "\n"
     ]
    },
    {
     "name": "stdout",
     "output_type": "stream",
     "text": [
      "(3000, 22)\n"
     ]
    },
    {
     "name": "stderr",
     "output_type": "stream",
     "text": [
      "Skipping line 6005: expected 3 fields, saw 5\n",
      "Skipping line 6006: expected 3 fields, saw 10\n",
      "\n"
     ]
    },
    {
     "name": "stdout",
     "output_type": "stream",
     "text": [
      "(3000, 22)\n"
     ]
    },
    {
     "name": "stderr",
     "output_type": "stream",
     "text": [
      "Skipping line 6005: expected 3 fields, saw 5\n",
      "Skipping line 6006: expected 3 fields, saw 10\n",
      "\n"
     ]
    },
    {
     "name": "stdout",
     "output_type": "stream",
     "text": [
      "(3000, 22)\n"
     ]
    },
    {
     "name": "stderr",
     "output_type": "stream",
     "text": [
      "Skipping line 6005: expected 3 fields, saw 5\n",
      "Skipping line 6006: expected 3 fields, saw 10\n",
      "\n"
     ]
    },
    {
     "name": "stdout",
     "output_type": "stream",
     "text": [
      "(3000, 22)\n"
     ]
    },
    {
     "name": "stderr",
     "output_type": "stream",
     "text": [
      "Skipping line 6005: expected 3 fields, saw 5\n",
      "Skipping line 6006: expected 3 fields, saw 10\n",
      "\n"
     ]
    },
    {
     "name": "stdout",
     "output_type": "stream",
     "text": [
      "(3000, 22)\n"
     ]
    },
    {
     "name": "stderr",
     "output_type": "stream",
     "text": [
      "Skipping line 6005: expected 3 fields, saw 5\n",
      "Skipping line 6006: expected 3 fields, saw 10\n",
      "\n"
     ]
    },
    {
     "name": "stdout",
     "output_type": "stream",
     "text": [
      "(3000, 22)\n"
     ]
    },
    {
     "name": "stderr",
     "output_type": "stream",
     "text": [
      "Skipping line 6005: expected 3 fields, saw 5\n",
      "Skipping line 6006: expected 3 fields, saw 10\n",
      "\n"
     ]
    },
    {
     "name": "stdout",
     "output_type": "stream",
     "text": [
      "(3000, 22)\n"
     ]
    },
    {
     "name": "stderr",
     "output_type": "stream",
     "text": [
      "Skipping line 6005: expected 3 fields, saw 5\n",
      "Skipping line 6006: expected 3 fields, saw 10\n",
      "\n"
     ]
    },
    {
     "name": "stdout",
     "output_type": "stream",
     "text": [
      "(3000, 22)\n"
     ]
    },
    {
     "name": "stderr",
     "output_type": "stream",
     "text": [
      "Skipping line 6005: expected 3 fields, saw 5\n",
      "Skipping line 6006: expected 3 fields, saw 10\n",
      "\n"
     ]
    },
    {
     "name": "stdout",
     "output_type": "stream",
     "text": [
      "(3000, 22)\n"
     ]
    },
    {
     "name": "stderr",
     "output_type": "stream",
     "text": [
      "Skipping line 6005: expected 3 fields, saw 5\n",
      "Skipping line 6006: expected 3 fields, saw 10\n",
      "\n"
     ]
    },
    {
     "name": "stdout",
     "output_type": "stream",
     "text": [
      "(3000, 22)\n"
     ]
    },
    {
     "name": "stderr",
     "output_type": "stream",
     "text": [
      "Skipping line 6005: expected 3 fields, saw 5\n",
      "Skipping line 6006: expected 3 fields, saw 10\n",
      "\n"
     ]
    },
    {
     "name": "stdout",
     "output_type": "stream",
     "text": [
      "(3000, 22)\n"
     ]
    },
    {
     "name": "stderr",
     "output_type": "stream",
     "text": [
      "Skipping line 6005: expected 3 fields, saw 5\n",
      "Skipping line 6006: expected 3 fields, saw 10\n",
      "\n"
     ]
    },
    {
     "name": "stdout",
     "output_type": "stream",
     "text": [
      "(3000, 22)\n"
     ]
    },
    {
     "name": "stderr",
     "output_type": "stream",
     "text": [
      "Skipping line 6005: expected 3 fields, saw 5\n",
      "Skipping line 6006: expected 3 fields, saw 10\n",
      "\n"
     ]
    },
    {
     "name": "stdout",
     "output_type": "stream",
     "text": [
      "The first 10 elements of first three columns of outputs are:\n",
      "[[1.13141285 1.12995385 1.13138944]\n",
      " [1.13141285 1.13001406 1.13149066]\n",
      " [1.13141285 1.13007148 1.1315872 ]\n",
      " [1.13141285 1.13012583 1.13167856]\n",
      " [1.13141285 1.13017679 1.13176425]\n",
      " [1.13141285 1.1302241  1.13184378]\n",
      " [1.13141285 1.13026749 1.13191672]\n",
      " [1.13141285 1.13030672 1.13198267]\n",
      " [1.13141285 1.13034155 1.13204123]\n",
      " [1.13141285 1.1303718  1.13209208]]\n",
      "computed Jacobian-Matrix products in 123.482045 secs\n",
      "eig. val. of generalized data covariance : 0.002391 secs (3.45e-04, 3.45e-04, 1.43e+00)\n",
      "time for data covarance construction : 0.034013 sec \n",
      "eig. val. of data covariance (2.15e+06, 1.05e-03, 2.15e+06)\n",
      "solve saddle point (co-kriging) systems with Levenberg-Marquardt\n",
      "-- Number of iterations for gmres 2\n",
      "0 - min(s): -6.71559, max(s) :5.289\n",
      "-- Number of iterations for gmres 2\n",
      "1 - min(s): -4.97453, max(s) :3.63405\n",
      "-- Number of iterations for gmres 2\n",
      "2 - min(s): -3.68704, max(s) :2.42447\n",
      "-- Number of iterations for gmres 1\n",
      "3 - min(s): -2.81861, max(s) :1.98166\n",
      "-- Number of iterations for gmres 1\n",
      "4 - min(s): -2.23515, max(s) :2.43662\n",
      "-- Number of iterations for gmres 1\n",
      "5 - min(s): -1.78049, max(s) :2.67507\n",
      "-- Number of iterations for gmres 1\n",
      "6 - min(s): -1.32906, max(s) :2.74614\n",
      "-- Number of iterations for gmres 1\n",
      "7 - min(s): -0.8372, max(s) :2.69671\n",
      "-- Number of iterations for gmres 1\n",
      "8 - min(s): -0.334802, max(s) :2.57732\n",
      "-- Number of iterations for gmres 1\n",
      "9 - min(s): 0.10028, max(s) :2.437\n",
      "-- Number of iterations for gmres 1\n",
      "10 - min(s): 0.273599, max(s) :2.30626\n",
      "-- Number of iterations for gmres 1\n",
      "11 - min(s): 0.302072, max(s) :2.19238\n",
      "evaluate LM solutions\n",
      "shape of s is:\n",
      "(3000, 12)\n",
      "The first 10 elements of first three columns are:\n",
      "[[-1.19451039  0.19231962  1.25429634]\n",
      " [-1.45760111 -0.04538232  1.03825882]\n",
      " [-1.7046689  -0.2742091   0.82505837]\n",
      " [-1.93377122 -0.49232819  0.61638488]\n",
      " [-2.14317233 -0.69802921  0.41387378]\n",
      " [-2.33136823 -0.88974772  0.21908406]\n",
      " [-2.49710779 -1.06608668  0.03347756]\n",
      " [-2.6394096  -1.22583504 -0.1416001 ]\n",
      " [-2.757574   -1.36798318 -0.30493663]\n",
      " [-2.85119034 -1.49173485 -0.45546785]]\n",
      "(3000, 12)\n"
     ]
    },
    {
     "name": "stderr",
     "output_type": "stream",
     "text": [
      "Skipping line 6005: expected 3 fields, saw 5\n",
      "Skipping line 6006: expected 3 fields, saw 10\n",
      "\n"
     ]
    },
    {
     "name": "stdout",
     "output_type": "stream",
     "text": [
      "(3000, 12)\n"
     ]
    },
    {
     "name": "stderr",
     "output_type": "stream",
     "text": [
      "Skipping line 6005: expected 3 fields, saw 5\n",
      "Skipping line 6006: expected 3 fields, saw 10\n",
      "\n"
     ]
    },
    {
     "name": "stdout",
     "output_type": "stream",
     "text": [
      "(3000, 12)\n"
     ]
    },
    {
     "name": "stderr",
     "output_type": "stream",
     "text": [
      "Skipping line 6005: expected 3 fields, saw 5\n",
      "Skipping line 6006: expected 3 fields, saw 10\n",
      "\n"
     ]
    },
    {
     "name": "stdout",
     "output_type": "stream",
     "text": [
      "(3000, 12)\n"
     ]
    },
    {
     "name": "stderr",
     "output_type": "stream",
     "text": [
      "Skipping line 6005: expected 3 fields, saw 5\n",
      "Skipping line 6006: expected 3 fields, saw 10\n",
      "\n"
     ]
    },
    {
     "name": "stdout",
     "output_type": "stream",
     "text": [
      "(3000, 12)\n"
     ]
    },
    {
     "name": "stderr",
     "output_type": "stream",
     "text": [
      "Skipping line 6005: expected 3 fields, saw 5\n",
      "Skipping line 6006: expected 3 fields, saw 10\n",
      "\n"
     ]
    },
    {
     "name": "stdout",
     "output_type": "stream",
     "text": [
      "(3000, 12)\n"
     ]
    },
    {
     "name": "stderr",
     "output_type": "stream",
     "text": [
      "Skipping line 6005: expected 3 fields, saw 5\n",
      "Skipping line 6006: expected 3 fields, saw 10\n",
      "\n"
     ]
    },
    {
     "name": "stdout",
     "output_type": "stream",
     "text": [
      "(3000, 12)\n"
     ]
    },
    {
     "name": "stderr",
     "output_type": "stream",
     "text": [
      "Skipping line 6005: expected 3 fields, saw 5\n",
      "Skipping line 6006: expected 3 fields, saw 10\n",
      "\n"
     ]
    },
    {
     "name": "stdout",
     "output_type": "stream",
     "text": [
      "(3000, 12)\n"
     ]
    },
    {
     "name": "stderr",
     "output_type": "stream",
     "text": [
      "Skipping line 6005: expected 3 fields, saw 5\n",
      "Skipping line 6006: expected 3 fields, saw 10\n",
      "\n"
     ]
    },
    {
     "name": "stdout",
     "output_type": "stream",
     "text": [
      "(3000, 12)\n"
     ]
    },
    {
     "name": "stderr",
     "output_type": "stream",
     "text": [
      "Skipping line 6005: expected 3 fields, saw 5\n",
      "Skipping line 6006: expected 3 fields, saw 10\n",
      "\n"
     ]
    },
    {
     "name": "stdout",
     "output_type": "stream",
     "text": [
      "(3000, 12)\n"
     ]
    },
    {
     "name": "stderr",
     "output_type": "stream",
     "text": [
      "Skipping line 6005: expected 3 fields, saw 5\n",
      "Skipping line 6006: expected 3 fields, saw 10\n",
      "\n"
     ]
    },
    {
     "name": "stdout",
     "output_type": "stream",
     "text": [
      "(3000, 12)\n"
     ]
    },
    {
     "name": "stderr",
     "output_type": "stream",
     "text": [
      "Skipping line 6005: expected 3 fields, saw 5\n",
      "Skipping line 6006: expected 3 fields, saw 10\n",
      "\n"
     ]
    },
    {
     "name": "stdout",
     "output_type": "stream",
     "text": [
      "(3000, 12)\n"
     ]
    },
    {
     "name": "stderr",
     "output_type": "stream",
     "text": [
      "Skipping line 6005: expected 3 fields, saw 5\n",
      "Skipping line 6006: expected 3 fields, saw 10\n",
      "\n"
     ]
    },
    {
     "name": "stdout",
     "output_type": "stream",
     "text": [
      "The first 10 elements of first three columns of outputs are:\n",
      "[[-1.19451039  0.19231962  1.25429634]\n",
      " [-1.45760111 -0.04538232  1.03825882]\n",
      " [-1.7046689  -0.2742091   0.82505837]\n",
      " [-1.93377122 -0.49232819  0.61638488]\n",
      " [-2.14317233 -0.69802921  0.41387378]\n",
      " [-2.33136823 -0.88974772  0.21908406]\n",
      " [-2.49710779 -1.06608668  0.03347756]\n",
      " [-2.6394096  -1.22583504 -0.1416001 ]\n",
      " [-2.757574   -1.36798318 -0.30493663]\n",
      " [-2.85119034 -1.49173485 -0.45546785]]\n",
      "LM solution evaluted\n",
      "12 objective value evaluations\n",
      "0-th solution obj 1.893146e+05 (alpha 1.000000)\n",
      "1-th solution obj 4.480546e+04 (alpha 1.873817)\n",
      "3-th solution obj 4.236617e+04 (alpha 6.579332)\n",
      "4-th solution obj 3.687453e+04 (alpha 12.328467)\n",
      "5-th solution obj 3.018678e+04 (alpha 23.101297)\n",
      "6-th solution obj 2.258788e+04 (alpha 43.287613)\n",
      "7-th solution obj 1.533326e+04 (alpha 81.113083)\n",
      "8-th solution obj 9.863227e+03 (alpha 151.991108)\n",
      "9-th solution obj 6.501155e+03 (alpha 284.803587)\n",
      "10-th solution obj 4.613796e+03 (alpha 533.669923)\n",
      "11-th solution obj 3.517911e+03 (alpha 1000.000000)\n",
      "- Geostat. inversion at iteration 1 is 384 sec\n",
      "== iteration 1 summary ==\n",
      "= objective function is 3.517911e+03, relative L2-norm diff btw sol 0 and sol 1 is 0.462092\n",
      "= L2-norm error (w.r.t truth) is 0.425843, obs. RMSE is 0.068467, obs. normalized RMSE is 6.8467\n",
      "- save results in text at iteration 1\n",
      "***** Iteration 2 ******\n",
      "shape of s is:\n",
      "(3000, 22)\n",
      "The first 10 elements of first three columns are:\n",
      "[[2.17890867 2.17775222 2.17904932]\n",
      " [2.11915316 2.11803965 2.11937381]\n",
      " [2.05686146 2.05578891 2.05715841]\n",
      " [1.99248133 1.99144754 1.99285048]\n",
      " [1.92648052 1.92548307 1.92691739]\n",
      " [1.85934115 1.85837745 1.85984088]\n",
      " [1.79155389 1.79062113 1.79211127]\n",
      " [1.72361194 1.72270715 1.72422143]\n",
      " [1.6560051  1.65512517 1.65666088]\n",
      " [1.5892139  1.58835553 1.58990987]]\n",
      "(3000, 22)\n"
     ]
    },
    {
     "name": "stderr",
     "output_type": "stream",
     "text": [
      "Skipping line 6005: expected 3 fields, saw 5\n",
      "Skipping line 6006: expected 3 fields, saw 10\n",
      "\n"
     ]
    },
    {
     "name": "stdout",
     "output_type": "stream",
     "text": [
      "(3000, 22)\n"
     ]
    },
    {
     "name": "stderr",
     "output_type": "stream",
     "text": [
      "Skipping line 6005: expected 3 fields, saw 5\n",
      "Skipping line 6006: expected 3 fields, saw 10\n",
      "\n"
     ]
    },
    {
     "name": "stdout",
     "output_type": "stream",
     "text": [
      "(3000, 22)\n"
     ]
    },
    {
     "name": "stderr",
     "output_type": "stream",
     "text": [
      "Skipping line 6005: expected 3 fields, saw 5\n",
      "Skipping line 6006: expected 3 fields, saw 10\n",
      "\n"
     ]
    },
    {
     "name": "stdout",
     "output_type": "stream",
     "text": [
      "(3000, 22)\n"
     ]
    },
    {
     "name": "stderr",
     "output_type": "stream",
     "text": [
      "Skipping line 6005: expected 3 fields, saw 5\n",
      "Skipping line 6006: expected 3 fields, saw 10\n",
      "\n"
     ]
    },
    {
     "name": "stdout",
     "output_type": "stream",
     "text": [
      "(3000, 22)\n"
     ]
    },
    {
     "name": "stderr",
     "output_type": "stream",
     "text": [
      "Skipping line 6005: expected 3 fields, saw 5\n",
      "Skipping line 6006: expected 3 fields, saw 10\n",
      "\n"
     ]
    },
    {
     "name": "stdout",
     "output_type": "stream",
     "text": [
      "(3000, 22)\n"
     ]
    },
    {
     "name": "stderr",
     "output_type": "stream",
     "text": [
      "Skipping line 6005: expected 3 fields, saw 5\n",
      "Skipping line 6006: expected 3 fields, saw 10\n",
      "\n"
     ]
    },
    {
     "name": "stdout",
     "output_type": "stream",
     "text": [
      "(3000, 22)\n"
     ]
    },
    {
     "name": "stderr",
     "output_type": "stream",
     "text": [
      "Skipping line 6005: expected 3 fields, saw 5\n",
      "Skipping line 6006: expected 3 fields, saw 10\n",
      "\n"
     ]
    },
    {
     "name": "stdout",
     "output_type": "stream",
     "text": [
      "(3000, 22)\n"
     ]
    },
    {
     "name": "stderr",
     "output_type": "stream",
     "text": [
      "Skipping line 6005: expected 3 fields, saw 5\n",
      "Skipping line 6006: expected 3 fields, saw 10\n",
      "\n"
     ]
    },
    {
     "name": "stdout",
     "output_type": "stream",
     "text": [
      "(3000, 22)\n"
     ]
    },
    {
     "name": "stderr",
     "output_type": "stream",
     "text": [
      "Skipping line 6005: expected 3 fields, saw 5\n",
      "Skipping line 6006: expected 3 fields, saw 10\n",
      "\n"
     ]
    },
    {
     "name": "stdout",
     "output_type": "stream",
     "text": [
      "(3000, 22)\n"
     ]
    },
    {
     "name": "stderr",
     "output_type": "stream",
     "text": [
      "Skipping line 6005: expected 3 fields, saw 5\n",
      "Skipping line 6006: expected 3 fields, saw 10\n",
      "\n"
     ]
    },
    {
     "name": "stdout",
     "output_type": "stream",
     "text": [
      "(3000, 22)\n"
     ]
    },
    {
     "name": "stderr",
     "output_type": "stream",
     "text": [
      "Skipping line 6005: expected 3 fields, saw 5\n",
      "Skipping line 6006: expected 3 fields, saw 10\n",
      "\n"
     ]
    },
    {
     "name": "stdout",
     "output_type": "stream",
     "text": [
      "(3000, 22)\n"
     ]
    },
    {
     "name": "stderr",
     "output_type": "stream",
     "text": [
      "Skipping line 6005: expected 3 fields, saw 5\n",
      "Skipping line 6006: expected 3 fields, saw 10\n",
      "\n"
     ]
    },
    {
     "name": "stdout",
     "output_type": "stream",
     "text": [
      "(3000, 22)\n"
     ]
    },
    {
     "name": "stderr",
     "output_type": "stream",
     "text": [
      "Skipping line 6005: expected 3 fields, saw 5\n",
      "Skipping line 6006: expected 3 fields, saw 10\n",
      "\n"
     ]
    },
    {
     "name": "stdout",
     "output_type": "stream",
     "text": [
      "(3000, 22)\n"
     ]
    },
    {
     "name": "stderr",
     "output_type": "stream",
     "text": [
      "Skipping line 6005: expected 3 fields, saw 5\n",
      "Skipping line 6006: expected 3 fields, saw 10\n",
      "\n"
     ]
    },
    {
     "name": "stdout",
     "output_type": "stream",
     "text": [
      "(3000, 22)\n"
     ]
    },
    {
     "name": "stderr",
     "output_type": "stream",
     "text": [
      "Skipping line 6005: expected 3 fields, saw 5\n",
      "Skipping line 6006: expected 3 fields, saw 10\n",
      "\n"
     ]
    },
    {
     "name": "stdout",
     "output_type": "stream",
     "text": [
      "(3000, 22)\n"
     ]
    },
    {
     "name": "stderr",
     "output_type": "stream",
     "text": [
      "Skipping line 6005: expected 3 fields, saw 5\n",
      "Skipping line 6006: expected 3 fields, saw 10\n",
      "\n"
     ]
    },
    {
     "name": "stdout",
     "output_type": "stream",
     "text": [
      "(3000, 22)\n"
     ]
    },
    {
     "name": "stderr",
     "output_type": "stream",
     "text": [
      "Skipping line 6005: expected 3 fields, saw 5\n",
      "Skipping line 6006: expected 3 fields, saw 10\n",
      "\n"
     ]
    },
    {
     "name": "stdout",
     "output_type": "stream",
     "text": [
      "(3000, 22)\n"
     ]
    },
    {
     "name": "stderr",
     "output_type": "stream",
     "text": [
      "Skipping line 6005: expected 3 fields, saw 5\n",
      "Skipping line 6006: expected 3 fields, saw 10\n",
      "\n"
     ]
    },
    {
     "name": "stdout",
     "output_type": "stream",
     "text": [
      "(3000, 22)\n"
     ]
    },
    {
     "name": "stderr",
     "output_type": "stream",
     "text": [
      "Skipping line 6005: expected 3 fields, saw 5\n",
      "Skipping line 6006: expected 3 fields, saw 10\n",
      "\n"
     ]
    },
    {
     "name": "stdout",
     "output_type": "stream",
     "text": [
      "(3000, 22)\n"
     ]
    },
    {
     "name": "stderr",
     "output_type": "stream",
     "text": [
      "Skipping line 6005: expected 3 fields, saw 5\n",
      "Skipping line 6006: expected 3 fields, saw 10\n",
      "\n"
     ]
    },
    {
     "name": "stdout",
     "output_type": "stream",
     "text": [
      "(3000, 22)\n"
     ]
    },
    {
     "name": "stderr",
     "output_type": "stream",
     "text": [
      "Skipping line 6005: expected 3 fields, saw 5\n",
      "Skipping line 6006: expected 3 fields, saw 10\n",
      "\n"
     ]
    },
    {
     "name": "stdout",
     "output_type": "stream",
     "text": [
      "(3000, 22)\n"
     ]
    },
    {
     "name": "stderr",
     "output_type": "stream",
     "text": [
      "Skipping line 6005: expected 3 fields, saw 5\n",
      "Skipping line 6006: expected 3 fields, saw 10\n",
      "\n"
     ]
    },
    {
     "name": "stdout",
     "output_type": "stream",
     "text": [
      "The first 10 elements of first three columns of outputs are:\n",
      "[[2.17890867 2.17775222 2.17904932]\n",
      " [2.11915316 2.11803965 2.11937381]\n",
      " [2.05686146 2.05578891 2.05715841]\n",
      " [1.99248133 1.99144754 1.99285048]\n",
      " [1.92648052 1.92548307 1.92691739]\n",
      " [1.85934115 1.85837745 1.85984088]\n",
      " [1.79155389 1.79062113 1.79211127]\n",
      " [1.72361194 1.72270715 1.72422143]\n",
      " [1.6560051  1.65512517 1.65666088]\n",
      " [1.5892139  1.58835553 1.58990987]]\n",
      "computed Jacobian-Matrix products in 118.340650 secs\n",
      "eig. val. of generalized data covariance : 0.002652 secs (4.07e-04, 4.07e-04, 2.10e+00)\n",
      "time for data covarance construction : 0.004268 sec \n",
      "eig. val. of data covariance (5.01e+04, 7.98e-04, 5.01e+04)\n",
      "solve saddle point (co-kriging) systems with Levenberg-Marquardt\n",
      "-- Number of iterations for gmres 1\n",
      "0 - min(s): -2.07133, max(s) :1.07202\n",
      "-- Number of iterations for gmres 1\n",
      "1 - min(s): -1.92352, max(s) :1.05597\n",
      "-- Number of iterations for gmres 1\n",
      "2 - min(s): -1.7966, max(s) :1.10367\n",
      "-- Number of iterations for gmres 1\n",
      "3 - min(s): -1.70482, max(s) :1.15715\n",
      "-- Number of iterations for gmres 1\n",
      "4 - min(s): -1.57675, max(s) :1.25936\n",
      "-- Number of iterations for gmres 1\n",
      "5 - min(s): -1.33167, max(s) :1.4469\n",
      "-- Number of iterations for gmres 1\n",
      "6 - min(s): -0.946222, max(s) :1.74259\n",
      "-- Number of iterations for gmres 1\n",
      "7 - min(s): -0.412253, max(s) :2.15251\n",
      "-- Number of iterations for gmres 1\n",
      "8 - min(s): 0.259645, max(s) :2.67112\n",
      "-- Number of iterations for gmres 1\n",
      "9 - min(s): 1.03693, max(s) :3.29236\n",
      "-- Number of iterations for gmres 1\n",
      "10 - min(s): 1.91879, max(s) :3.98449\n",
      "-- Number of iterations for gmres 1\n",
      "11 - min(s): 2.81471, max(s) :4.67803\n",
      "evaluate LM solutions\n",
      "shape of s is:\n",
      "(3000, 12)\n",
      "The first 10 elements of first three columns are:\n",
      "[[0.98049295 1.0177856  1.03575511]\n",
      " [0.93484436 0.97285272 0.9910803 ]\n",
      " [0.88903385 0.92652279 0.9442313 ]\n",
      " [0.84365313 0.87929785 0.89563848]\n",
      " [0.79926109 0.83166722 0.84573372]\n",
      " [0.75637416 0.78409968 0.7949441 ]\n",
      " [0.71545768 0.73703626 0.74368582]\n",
      " [0.67691816 0.69088352 0.69235842]\n",
      " [0.64109678 0.64600767 0.64133941]\n",
      " [0.60826423 0.60272947 0.59097945]]\n",
      "(3000, 12)\n"
     ]
    },
    {
     "name": "stderr",
     "output_type": "stream",
     "text": [
      "Skipping line 6005: expected 3 fields, saw 5\n",
      "Skipping line 6006: expected 3 fields, saw 10\n",
      "\n"
     ]
    },
    {
     "name": "stdout",
     "output_type": "stream",
     "text": [
      "(3000, 12)\n"
     ]
    },
    {
     "name": "stderr",
     "output_type": "stream",
     "text": [
      "Skipping line 6005: expected 3 fields, saw 5\n",
      "Skipping line 6006: expected 3 fields, saw 10\n",
      "\n"
     ]
    },
    {
     "name": "stdout",
     "output_type": "stream",
     "text": [
      "(3000, 12)\n"
     ]
    },
    {
     "name": "stderr",
     "output_type": "stream",
     "text": [
      "Skipping line 6005: expected 3 fields, saw 5\n",
      "Skipping line 6006: expected 3 fields, saw 10\n",
      "\n"
     ]
    },
    {
     "name": "stdout",
     "output_type": "stream",
     "text": [
      "(3000, 12)\n"
     ]
    },
    {
     "name": "stderr",
     "output_type": "stream",
     "text": [
      "Skipping line 6005: expected 3 fields, saw 5\n",
      "Skipping line 6006: expected 3 fields, saw 10\n",
      "\n"
     ]
    },
    {
     "name": "stdout",
     "output_type": "stream",
     "text": [
      "(3000, 12)\n"
     ]
    },
    {
     "name": "stderr",
     "output_type": "stream",
     "text": [
      "Skipping line 6005: expected 3 fields, saw 5\n",
      "Skipping line 6006: expected 3 fields, saw 10\n",
      "\n"
     ]
    },
    {
     "name": "stdout",
     "output_type": "stream",
     "text": [
      "(3000, 12)\n"
     ]
    },
    {
     "name": "stderr",
     "output_type": "stream",
     "text": [
      "Skipping line 6005: expected 3 fields, saw 5\n",
      "Skipping line 6006: expected 3 fields, saw 10\n",
      "\n"
     ]
    },
    {
     "name": "stdout",
     "output_type": "stream",
     "text": [
      "(3000, 12)\n"
     ]
    },
    {
     "name": "stderr",
     "output_type": "stream",
     "text": [
      "Skipping line 6005: expected 3 fields, saw 5\n",
      "Skipping line 6006: expected 3 fields, saw 10\n",
      "\n"
     ]
    },
    {
     "name": "stdout",
     "output_type": "stream",
     "text": [
      "(3000, 12)\n"
     ]
    },
    {
     "name": "stderr",
     "output_type": "stream",
     "text": [
      "Skipping line 6005: expected 3 fields, saw 5\n",
      "Skipping line 6006: expected 3 fields, saw 10\n",
      "\n"
     ]
    },
    {
     "name": "stdout",
     "output_type": "stream",
     "text": [
      "(3000, 12)\n"
     ]
    },
    {
     "name": "stderr",
     "output_type": "stream",
     "text": [
      "Skipping line 6005: expected 3 fields, saw 5\n",
      "Skipping line 6006: expected 3 fields, saw 10\n",
      "\n"
     ]
    },
    {
     "name": "stdout",
     "output_type": "stream",
     "text": [
      "(3000, 12)\n"
     ]
    },
    {
     "name": "stderr",
     "output_type": "stream",
     "text": [
      "Skipping line 6005: expected 3 fields, saw 5\n",
      "Skipping line 6006: expected 3 fields, saw 10\n",
      "\n"
     ]
    },
    {
     "name": "stdout",
     "output_type": "stream",
     "text": [
      "(3000, 12)\n"
     ]
    },
    {
     "name": "stderr",
     "output_type": "stream",
     "text": [
      "Skipping line 6005: expected 3 fields, saw 5\n",
      "Skipping line 6006: expected 3 fields, saw 10\n",
      "\n"
     ]
    },
    {
     "name": "stdout",
     "output_type": "stream",
     "text": [
      "(3000, 12)\n"
     ]
    },
    {
     "name": "stderr",
     "output_type": "stream",
     "text": [
      "Skipping line 6005: expected 3 fields, saw 5\n",
      "Skipping line 6006: expected 3 fields, saw 10\n",
      "\n"
     ]
    },
    {
     "name": "stdout",
     "output_type": "stream",
     "text": [
      "The first 10 elements of first three columns of outputs are:\n",
      "[[0.98049295 1.0177856  1.03575511]\n",
      " [0.93484436 0.97285272 0.9910803 ]\n",
      " [0.88903385 0.92652279 0.9442313 ]\n",
      " [0.84365313 0.87929785 0.89563848]\n",
      " [0.79926109 0.83166722 0.84573372]\n",
      " [0.75637416 0.78409968 0.7949441 ]\n",
      " [0.71545768 0.73703626 0.74368582]\n",
      " [0.67691816 0.69088352 0.69235842]\n",
      " [0.64109678 0.64600767 0.64133941]\n",
      " [0.60826423 0.60272947 0.59097945]]\n",
      "LM solution evaluted\n",
      "12 objective value evaluations\n",
      "0-th solution obj 8.052589e+02 (alpha 1.000000)\n",
      "1-th solution obj 5.181941e+02 (alpha 1.873817)\n",
      "2-th solution obj 3.696329e+02 (alpha 3.511192)\n",
      "5-th solution obj 3.377462e+02 (alpha 23.101297)\n",
      "- Geostat. inversion at iteration 2 is 187 sec\n",
      "== iteration 2 summary ==\n",
      "= objective function is 3.377462e+02, relative L2-norm diff btw sol 1 and sol 2 is 1.15763\n",
      "= L2-norm error (w.r.t truth) is 1.08872, obs. RMSE is 0.0210532, obs. normalized RMSE is 2.10532\n",
      "- save results in text at iteration 2\n",
      "***** Iteration 3 ******\n",
      "shape of s is:\n",
      "(3000, 22)\n",
      "The first 10 elements of first three columns are:\n",
      "[[1.38166606 1.38250595 1.38580591]\n",
      " [1.339242   1.34004863 1.34344286]\n",
      " [1.29442833 1.29520322 1.29868737]\n",
      " [1.24754896 1.24829382 1.25186306]\n",
      " [1.19894176 1.19965846 1.2033075 ]\n",
      " [1.14895436 1.14964492 1.15336803]\n",
      " [1.09793985 1.09860643 1.10239749]\n",
      " [1.04625246 1.04689737 1.05074983]\n",
      " [0.99424332 0.99486899 0.998776  ]\n",
      " [0.9422564  0.94286535 0.94681972]]\n",
      "(3000, 22)\n"
     ]
    },
    {
     "name": "stderr",
     "output_type": "stream",
     "text": [
      "Skipping line 6005: expected 3 fields, saw 5\n",
      "Skipping line 6006: expected 3 fields, saw 10\n",
      "\n"
     ]
    },
    {
     "name": "stdout",
     "output_type": "stream",
     "text": [
      "(3000, 22)\n"
     ]
    },
    {
     "name": "stderr",
     "output_type": "stream",
     "text": [
      "Skipping line 6005: expected 3 fields, saw 5\n",
      "Skipping line 6006: expected 3 fields, saw 10\n",
      "\n"
     ]
    },
    {
     "name": "stdout",
     "output_type": "stream",
     "text": [
      "(3000, 22)\n"
     ]
    },
    {
     "name": "stderr",
     "output_type": "stream",
     "text": [
      "Skipping line 6005: expected 3 fields, saw 5\n",
      "Skipping line 6006: expected 3 fields, saw 10\n",
      "\n"
     ]
    },
    {
     "name": "stdout",
     "output_type": "stream",
     "text": [
      "(3000, 22)\n"
     ]
    },
    {
     "name": "stderr",
     "output_type": "stream",
     "text": [
      "Skipping line 6005: expected 3 fields, saw 5\n",
      "Skipping line 6006: expected 3 fields, saw 10\n",
      "\n"
     ]
    },
    {
     "name": "stdout",
     "output_type": "stream",
     "text": [
      "(3000, 22)\n"
     ]
    },
    {
     "name": "stderr",
     "output_type": "stream",
     "text": [
      "Skipping line 6005: expected 3 fields, saw 5\n",
      "Skipping line 6006: expected 3 fields, saw 10\n",
      "\n"
     ]
    },
    {
     "name": "stdout",
     "output_type": "stream",
     "text": [
      "(3000, 22)\n"
     ]
    },
    {
     "name": "stderr",
     "output_type": "stream",
     "text": [
      "Skipping line 6005: expected 3 fields, saw 5\n",
      "Skipping line 6006: expected 3 fields, saw 10\n",
      "\n"
     ]
    },
    {
     "name": "stdout",
     "output_type": "stream",
     "text": [
      "(3000, 22)\n"
     ]
    },
    {
     "name": "stderr",
     "output_type": "stream",
     "text": [
      "Skipping line 6005: expected 3 fields, saw 5\n",
      "Skipping line 6006: expected 3 fields, saw 10\n",
      "\n"
     ]
    },
    {
     "name": "stdout",
     "output_type": "stream",
     "text": [
      "(3000, 22)\n"
     ]
    },
    {
     "name": "stderr",
     "output_type": "stream",
     "text": [
      "Skipping line 6005: expected 3 fields, saw 5\n",
      "Skipping line 6006: expected 3 fields, saw 10\n",
      "\n"
     ]
    },
    {
     "name": "stdout",
     "output_type": "stream",
     "text": [
      "(3000, 22)\n"
     ]
    },
    {
     "name": "stderr",
     "output_type": "stream",
     "text": [
      "Skipping line 6005: expected 3 fields, saw 5\n",
      "Skipping line 6006: expected 3 fields, saw 10\n",
      "\n"
     ]
    },
    {
     "name": "stdout",
     "output_type": "stream",
     "text": [
      "(3000, 22)\n"
     ]
    },
    {
     "name": "stderr",
     "output_type": "stream",
     "text": [
      "Skipping line 6005: expected 3 fields, saw 5\n",
      "Skipping line 6006: expected 3 fields, saw 10\n",
      "\n"
     ]
    },
    {
     "name": "stdout",
     "output_type": "stream",
     "text": [
      "(3000, 22)\n"
     ]
    },
    {
     "name": "stderr",
     "output_type": "stream",
     "text": [
      "Skipping line 6005: expected 3 fields, saw 5\n",
      "Skipping line 6006: expected 3 fields, saw 10\n",
      "\n"
     ]
    },
    {
     "name": "stdout",
     "output_type": "stream",
     "text": [
      "(3000, 22)\n"
     ]
    },
    {
     "name": "stderr",
     "output_type": "stream",
     "text": [
      "Skipping line 6005: expected 3 fields, saw 5\n",
      "Skipping line 6006: expected 3 fields, saw 10\n",
      "\n"
     ]
    },
    {
     "name": "stdout",
     "output_type": "stream",
     "text": [
      "(3000, 22)\n"
     ]
    },
    {
     "name": "stderr",
     "output_type": "stream",
     "text": [
      "Skipping line 6005: expected 3 fields, saw 5\n",
      "Skipping line 6006: expected 3 fields, saw 10\n",
      "\n"
     ]
    },
    {
     "name": "stdout",
     "output_type": "stream",
     "text": [
      "(3000, 22)\n"
     ]
    },
    {
     "name": "stderr",
     "output_type": "stream",
     "text": [
      "Skipping line 6005: expected 3 fields, saw 5\n",
      "Skipping line 6006: expected 3 fields, saw 10\n",
      "\n"
     ]
    },
    {
     "name": "stdout",
     "output_type": "stream",
     "text": [
      "(3000, 22)\n"
     ]
    },
    {
     "name": "stderr",
     "output_type": "stream",
     "text": [
      "Skipping line 6005: expected 3 fields, saw 5\n",
      "Skipping line 6006: expected 3 fields, saw 10\n",
      "\n"
     ]
    },
    {
     "name": "stdout",
     "output_type": "stream",
     "text": [
      "(3000, 22)\n"
     ]
    },
    {
     "name": "stderr",
     "output_type": "stream",
     "text": [
      "Skipping line 6005: expected 3 fields, saw 5\n",
      "Skipping line 6006: expected 3 fields, saw 10\n",
      "\n"
     ]
    },
    {
     "name": "stdout",
     "output_type": "stream",
     "text": [
      "(3000, 22)\n"
     ]
    },
    {
     "name": "stderr",
     "output_type": "stream",
     "text": [
      "Skipping line 6005: expected 3 fields, saw 5\n",
      "Skipping line 6006: expected 3 fields, saw 10\n",
      "\n"
     ]
    },
    {
     "name": "stdout",
     "output_type": "stream",
     "text": [
      "(3000, 22)\n"
     ]
    },
    {
     "name": "stderr",
     "output_type": "stream",
     "text": [
      "Skipping line 6005: expected 3 fields, saw 5\n",
      "Skipping line 6006: expected 3 fields, saw 10\n",
      "\n"
     ]
    },
    {
     "name": "stdout",
     "output_type": "stream",
     "text": [
      "(3000, 22)\n"
     ]
    },
    {
     "name": "stderr",
     "output_type": "stream",
     "text": [
      "Skipping line 6005: expected 3 fields, saw 5\n",
      "Skipping line 6006: expected 3 fields, saw 10\n",
      "\n"
     ]
    },
    {
     "name": "stdout",
     "output_type": "stream",
     "text": [
      "(3000, 22)\n"
     ]
    },
    {
     "name": "stderr",
     "output_type": "stream",
     "text": [
      "Skipping line 6005: expected 3 fields, saw 5\n",
      "Skipping line 6006: expected 3 fields, saw 10\n",
      "\n"
     ]
    },
    {
     "name": "stdout",
     "output_type": "stream",
     "text": [
      "(3000, 22)\n"
     ]
    },
    {
     "name": "stderr",
     "output_type": "stream",
     "text": [
      "Skipping line 6005: expected 3 fields, saw 5\n",
      "Skipping line 6006: expected 3 fields, saw 10\n",
      "\n"
     ]
    },
    {
     "name": "stdout",
     "output_type": "stream",
     "text": [
      "(3000, 22)\n"
     ]
    },
    {
     "name": "stderr",
     "output_type": "stream",
     "text": [
      "Skipping line 6005: expected 3 fields, saw 5\n",
      "Skipping line 6006: expected 3 fields, saw 10\n",
      "\n"
     ]
    },
    {
     "name": "stdout",
     "output_type": "stream",
     "text": [
      "The first 10 elements of first three columns of outputs are:\n",
      "[[1.38166606 1.38250595 1.38580591]\n",
      " [1.339242   1.34004863 1.34344286]\n",
      " [1.29442833 1.29520322 1.29868737]\n",
      " [1.24754896 1.24829382 1.25186306]\n",
      " [1.19894176 1.19965846 1.2033075 ]\n",
      " [1.14895436 1.14964492 1.15336803]\n",
      " [1.09793985 1.09860643 1.10239749]\n",
      " [1.04625246 1.04689737 1.05074983]\n",
      " [0.99424332 0.99486899 0.998776  ]\n",
      " [0.9422564  0.94286535 0.94681972]]\n",
      "computed Jacobian-Matrix products in 143.186407 secs\n",
      "eig. val. of generalized data covariance : 0.002412 secs (4.68e-04, 4.68e-04, 2.08e+00)\n",
      "time for data covarance construction : 0.004035 sec \n",
      "eig. val. of data covariance (4.92e+04, 1.32e-03, 4.92e+04)\n",
      "solve saddle point (co-kriging) systems with Levenberg-Marquardt\n",
      "-- Number of iterations for gmres 1\n",
      "0 - min(s): -0.97729, max(s) :1.94233\n",
      "-- Number of iterations for gmres 1\n",
      "1 - min(s): -0.909786, max(s) :1.97439\n",
      "-- Number of iterations for gmres 1\n",
      "2 - min(s): -0.836121, max(s) :2.00134\n",
      "-- Number of iterations for gmres 1\n",
      "3 - min(s): -0.755139, max(s) :2.02115\n",
      "-- Number of iterations for gmres 1\n",
      "4 - min(s): -0.666825, max(s) :2.03642\n",
      "-- Number of iterations for gmres 1\n",
      "5 - min(s): -0.572884, max(s) :2.04336\n",
      "-- Number of iterations for gmres 1\n",
      "6 - min(s): -0.468477, max(s) :2.06141\n",
      "-- Number of iterations for gmres 1\n",
      "7 - min(s): -0.341737, max(s) :2.13388\n",
      "-- Number of iterations for gmres 1\n",
      "8 - min(s): -0.179537, max(s) :2.18413\n",
      "-- Number of iterations for gmres 1\n",
      "9 - min(s): 0.0250444, max(s) :2.21442\n",
      "-- Number of iterations for gmres 1\n",
      "10 - min(s): 0.282317, max(s) :2.22455\n",
      "-- Number of iterations for gmres 1\n",
      "11 - min(s): 0.616204, max(s) :2.23705\n",
      "evaluate LM solutions\n",
      "shape of s is:\n",
      "(3000, 12)\n",
      "The first 10 elements of first three columns are:\n",
      "[[1.21011239 1.35323275 1.51200185]\n",
      " [1.15999124 1.30154669 1.45943353]\n",
      " [1.11187425 1.25158134 1.40816674]\n",
      " [1.0662244  1.20386362 1.35876317]\n",
      " [1.02346606 1.15888745 1.31175739]\n",
      " [0.98397834 1.11710606 1.26764847]\n",
      " [0.94808917 1.07892485 1.22689226]\n",
      " [0.91607039 1.0446952  1.18989434]\n",
      " [0.88813389 1.01470916 1.15700385]\n",
      " [0.86442875 0.9891952  1.12850828]]\n",
      "(3000, 12)\n"
     ]
    },
    {
     "name": "stderr",
     "output_type": "stream",
     "text": [
      "Skipping line 6005: expected 3 fields, saw 5\n",
      "Skipping line 6006: expected 3 fields, saw 10\n",
      "\n"
     ]
    },
    {
     "name": "stdout",
     "output_type": "stream",
     "text": [
      "(3000, 12)\n"
     ]
    },
    {
     "name": "stderr",
     "output_type": "stream",
     "text": [
      "Skipping line 6005: expected 3 fields, saw 5\n",
      "Skipping line 6006: expected 3 fields, saw 10\n",
      "\n"
     ]
    },
    {
     "name": "stdout",
     "output_type": "stream",
     "text": [
      "(3000, 12)\n"
     ]
    },
    {
     "name": "stderr",
     "output_type": "stream",
     "text": [
      "Skipping line 6005: expected 3 fields, saw 5\n",
      "Skipping line 6006: expected 3 fields, saw 10\n",
      "\n"
     ]
    },
    {
     "name": "stdout",
     "output_type": "stream",
     "text": [
      "(3000, 12)\n"
     ]
    },
    {
     "name": "stderr",
     "output_type": "stream",
     "text": [
      "Skipping line 6005: expected 3 fields, saw 5\n",
      "Skipping line 6006: expected 3 fields, saw 10\n",
      "\n"
     ]
    },
    {
     "name": "stdout",
     "output_type": "stream",
     "text": [
      "(3000, 12)\n"
     ]
    },
    {
     "name": "stderr",
     "output_type": "stream",
     "text": [
      "Skipping line 6005: expected 3 fields, saw 5\n",
      "Skipping line 6006: expected 3 fields, saw 10\n",
      "\n"
     ]
    },
    {
     "name": "stdout",
     "output_type": "stream",
     "text": [
      "(3000, 12)\n"
     ]
    },
    {
     "name": "stderr",
     "output_type": "stream",
     "text": [
      "Skipping line 6005: expected 3 fields, saw 5\n",
      "Skipping line 6006: expected 3 fields, saw 10\n",
      "\n"
     ]
    },
    {
     "name": "stdout",
     "output_type": "stream",
     "text": [
      "(3000, 12)\n"
     ]
    },
    {
     "name": "stderr",
     "output_type": "stream",
     "text": [
      "Skipping line 6005: expected 3 fields, saw 5\n",
      "Skipping line 6006: expected 3 fields, saw 10\n",
      "\n"
     ]
    },
    {
     "name": "stdout",
     "output_type": "stream",
     "text": [
      "(3000, 12)\n"
     ]
    },
    {
     "name": "stderr",
     "output_type": "stream",
     "text": [
      "Skipping line 6005: expected 3 fields, saw 5\n",
      "Skipping line 6006: expected 3 fields, saw 10\n",
      "\n"
     ]
    },
    {
     "name": "stdout",
     "output_type": "stream",
     "text": [
      "(3000, 12)\n"
     ]
    },
    {
     "name": "stderr",
     "output_type": "stream",
     "text": [
      "Skipping line 6005: expected 3 fields, saw 5\n",
      "Skipping line 6006: expected 3 fields, saw 10\n",
      "\n"
     ]
    },
    {
     "name": "stdout",
     "output_type": "stream",
     "text": [
      "(3000, 12)\n"
     ]
    },
    {
     "name": "stderr",
     "output_type": "stream",
     "text": [
      "Skipping line 6005: expected 3 fields, saw 5\n",
      "Skipping line 6006: expected 3 fields, saw 10\n",
      "\n"
     ]
    },
    {
     "name": "stdout",
     "output_type": "stream",
     "text": [
      "(3000, 12)\n"
     ]
    },
    {
     "name": "stderr",
     "output_type": "stream",
     "text": [
      "Skipping line 6005: expected 3 fields, saw 5\n",
      "Skipping line 6006: expected 3 fields, saw 10\n",
      "\n"
     ]
    },
    {
     "name": "stdout",
     "output_type": "stream",
     "text": [
      "(3000, 12)\n"
     ]
    },
    {
     "name": "stderr",
     "output_type": "stream",
     "text": [
      "Skipping line 6005: expected 3 fields, saw 5\n",
      "Skipping line 6006: expected 3 fields, saw 10\n",
      "\n"
     ]
    },
    {
     "name": "stdout",
     "output_type": "stream",
     "text": [
      "The first 10 elements of first three columns of outputs are:\n",
      "[[1.21011239 1.35323275 1.51200185]\n",
      " [1.15999124 1.30154669 1.45943353]\n",
      " [1.11187425 1.25158134 1.40816674]\n",
      " [1.0662244  1.20386362 1.35876317]\n",
      " [1.02346606 1.15888745 1.31175739]\n",
      " [0.98397834 1.11710606 1.26764847]\n",
      " [0.94808917 1.07892485 1.22689226]\n",
      " [0.91607039 1.0446952  1.18989434]\n",
      " [0.88813389 1.01470916 1.15700385]\n",
      " [0.86442875 0.9891952  1.12850828]]\n",
      "LM solution evaluted\n",
      "12 objective value evaluations\n",
      "0-th solution obj 1.808116e+03 (alpha 1.000000)\n",
      "1-th solution obj 1.452452e+03 (alpha 1.873817)\n",
      "2-th solution obj 1.252597e+03 (alpha 3.511192)\n",
      "3-th solution obj 1.165198e+03 (alpha 6.579332)\n",
      "4-th solution obj 1.148575e+03 (alpha 12.328467)\n",
      "- Geostat. inversion at iteration 3 is 210 sec\n",
      "perform simple linesearch due to no progress in obj value\n",
      "evaluate linesearch solutions\n",
      "shape of s is:\n",
      "(3000, 12)\n",
      "The first 10 elements of first three columns are:\n",
      "[[1.87075499 1.82244909 1.77414319]\n",
      " [1.81722329 1.77001898 1.72281466]\n",
      " [1.7643441  1.71793967 1.67153524]\n",
      " [1.71271596 1.66678248 1.620849  ]\n",
      " [1.66291736 1.61710204 1.57128671]\n",
      " [1.6154978  1.56942782 1.52335783]\n",
      " [1.57096928 1.52425606 1.47754284]\n",
      " [1.5297984  1.48204222 1.43428604]\n",
      " [1.49239921 1.44319411 1.39398901]\n",
      " [1.45912695 1.40806585 1.35700475]]\n",
      "(3000, 12)\n"
     ]
    },
    {
     "name": "stderr",
     "output_type": "stream",
     "text": [
      "Skipping line 6005: expected 3 fields, saw 5\n",
      "Skipping line 6006: expected 3 fields, saw 10\n",
      "\n"
     ]
    },
    {
     "name": "stdout",
     "output_type": "stream",
     "text": [
      "(3000, 12)\n"
     ]
    },
    {
     "name": "stderr",
     "output_type": "stream",
     "text": [
      "Skipping line 6005: expected 3 fields, saw 5\n",
      "Skipping line 6006: expected 3 fields, saw 10\n",
      "\n"
     ]
    },
    {
     "name": "stdout",
     "output_type": "stream",
     "text": [
      "(3000, 12)\n"
     ]
    },
    {
     "name": "stderr",
     "output_type": "stream",
     "text": [
      "Skipping line 6005: expected 3 fields, saw 5\n",
      "Skipping line 6006: expected 3 fields, saw 10\n",
      "\n"
     ]
    },
    {
     "name": "stdout",
     "output_type": "stream",
     "text": [
      "(3000, 12)\n"
     ]
    },
    {
     "name": "stderr",
     "output_type": "stream",
     "text": [
      "Skipping line 6005: expected 3 fields, saw 5\n",
      "Skipping line 6006: expected 3 fields, saw 10\n",
      "\n"
     ]
    },
    {
     "name": "stdout",
     "output_type": "stream",
     "text": [
      "(3000, 12)\n"
     ]
    },
    {
     "name": "stderr",
     "output_type": "stream",
     "text": [
      "Skipping line 6005: expected 3 fields, saw 5\n",
      "Skipping line 6006: expected 3 fields, saw 10\n",
      "\n"
     ]
    },
    {
     "name": "stdout",
     "output_type": "stream",
     "text": [
      "(3000, 12)\n"
     ]
    },
    {
     "name": "stderr",
     "output_type": "stream",
     "text": [
      "Skipping line 6005: expected 3 fields, saw 5\n",
      "Skipping line 6006: expected 3 fields, saw 10\n",
      "\n"
     ]
    },
    {
     "name": "stdout",
     "output_type": "stream",
     "text": [
      "(3000, 12)\n"
     ]
    },
    {
     "name": "stderr",
     "output_type": "stream",
     "text": [
      "Skipping line 6005: expected 3 fields, saw 5\n",
      "Skipping line 6006: expected 3 fields, saw 10\n",
      "\n"
     ]
    },
    {
     "name": "stdout",
     "output_type": "stream",
     "text": [
      "(3000, 12)\n"
     ]
    },
    {
     "name": "stderr",
     "output_type": "stream",
     "text": [
      "Skipping line 6005: expected 3 fields, saw 5\n",
      "Skipping line 6006: expected 3 fields, saw 10\n",
      "\n"
     ]
    },
    {
     "name": "stdout",
     "output_type": "stream",
     "text": [
      "(3000, 12)\n"
     ]
    },
    {
     "name": "stderr",
     "output_type": "stream",
     "text": [
      "Skipping line 6005: expected 3 fields, saw 5\n",
      "Skipping line 6006: expected 3 fields, saw 10\n",
      "\n"
     ]
    },
    {
     "name": "stdout",
     "output_type": "stream",
     "text": [
      "(3000, 12)\n"
     ]
    },
    {
     "name": "stderr",
     "output_type": "stream",
     "text": [
      "Skipping line 6005: expected 3 fields, saw 5\n",
      "Skipping line 6006: expected 3 fields, saw 10\n",
      "\n"
     ]
    },
    {
     "name": "stdout",
     "output_type": "stream",
     "text": [
      "(3000, 12)\n"
     ]
    },
    {
     "name": "stderr",
     "output_type": "stream",
     "text": [
      "Skipping line 6005: expected 3 fields, saw 5\n",
      "Skipping line 6006: expected 3 fields, saw 10\n",
      "\n"
     ]
    },
    {
     "name": "stdout",
     "output_type": "stream",
     "text": [
      "(3000, 12)\n"
     ]
    },
    {
     "name": "stderr",
     "output_type": "stream",
     "text": [
      "Skipping line 6005: expected 3 fields, saw 5\n",
      "Skipping line 6006: expected 3 fields, saw 10\n",
      "\n"
     ]
    },
    {
     "name": "stdout",
     "output_type": "stream",
     "text": [
      "The first 10 elements of first three columns of outputs are:\n",
      "[[1.87075499 1.82244909 1.77414319]\n",
      " [1.81722329 1.77001898 1.72281466]\n",
      " [1.7643441  1.71793967 1.67153524]\n",
      " [1.71271596 1.66678248 1.620849  ]\n",
      " [1.66291736 1.61710204 1.57128671]\n",
      " [1.6154978  1.56942782 1.52335783]\n",
      " [1.57096928 1.52425606 1.47754284]\n",
      " [1.5297984  1.48204222 1.43428604]\n",
      " [1.49239921 1.44319411 1.39398901]\n",
      " [1.45912695 1.40806585 1.35700475]]\n",
      "0-th solution obj 1.413791e+03 (delta -0.100000)\n",
      "1-th solution obj 1.125208e+03 (delta 0.009091)\n",
      "2-th solution obj 8.762223e+02 (delta 0.118182)\n",
      "3-th solution obj 6.662485e+02 (delta 0.227273)\n",
      "4-th solution obj 4.970732e+02 (delta 0.336364)\n",
      "5-th solution obj 3.650364e+02 (delta 0.445455)\n",
      "6-th solution obj 2.744146e+02 (delta 0.554545)\n",
      "7-th solution obj 2.243127e+02 (delta 0.663636)\n",
      "8-th solution obj 2.152231e+02 (delta 0.772727)\n",
      "== iteration 3 summary ==\n",
      "= objective function is 2.152231e+02, relative L2-norm diff btw sol 2 and sol 3 is 0.311809\n",
      "= L2-norm error (w.r.t truth) is 0.935721, obs. RMSE is 0.0167262, obs. normalized RMSE is 1.67262\n",
      "- save results in text at iteration 3\n",
      "***** Iteration 4 ******\n",
      "shape of s is:\n",
      "(3000, 22)\n",
      "The first 10 elements of first three columns are:\n",
      "[[1.48616632 1.48325292 1.48639733]\n",
      " [1.4414473  1.43850375 1.441738  ]\n",
      " [1.3949672  1.39199491 1.39531484]\n",
      " [1.34710667 1.34410718 1.34750819]\n",
      " [1.29825331 1.29522832 1.29870536]\n",
      " [1.24879646 1.24574778 1.24929541]\n",
      " [1.19912203 1.19605164 1.199664  ]\n",
      " [1.14960747 1.14651745 1.15018833]\n",
      " [1.10061692 1.09750946 1.10123232]\n",
      " [1.05249667 1.04937407 1.05314205]]\n",
      "(3000, 22)\n"
     ]
    },
    {
     "name": "stderr",
     "output_type": "stream",
     "text": [
      "Skipping line 6005: expected 3 fields, saw 5\n",
      "Skipping line 6006: expected 3 fields, saw 10\n",
      "\n"
     ]
    },
    {
     "name": "stdout",
     "output_type": "stream",
     "text": [
      "(3000, 22)\n"
     ]
    },
    {
     "name": "stderr",
     "output_type": "stream",
     "text": [
      "Skipping line 6005: expected 3 fields, saw 5\n",
      "Skipping line 6006: expected 3 fields, saw 10\n",
      "\n"
     ]
    },
    {
     "name": "stdout",
     "output_type": "stream",
     "text": [
      "(3000, 22)\n"
     ]
    },
    {
     "name": "stderr",
     "output_type": "stream",
     "text": [
      "Skipping line 6005: expected 3 fields, saw 5\n",
      "Skipping line 6006: expected 3 fields, saw 10\n",
      "\n"
     ]
    },
    {
     "name": "stdout",
     "output_type": "stream",
     "text": [
      "(3000, 22)\n"
     ]
    },
    {
     "name": "stderr",
     "output_type": "stream",
     "text": [
      "Skipping line 6005: expected 3 fields, saw 5\n",
      "Skipping line 6006: expected 3 fields, saw 10\n",
      "\n"
     ]
    },
    {
     "name": "stdout",
     "output_type": "stream",
     "text": [
      "(3000, 22)\n"
     ]
    },
    {
     "name": "stderr",
     "output_type": "stream",
     "text": [
      "Skipping line 6005: expected 3 fields, saw 5\n",
      "Skipping line 6006: expected 3 fields, saw 10\n",
      "\n"
     ]
    },
    {
     "name": "stdout",
     "output_type": "stream",
     "text": [
      "(3000, 22)\n"
     ]
    },
    {
     "name": "stderr",
     "output_type": "stream",
     "text": [
      "Skipping line 6005: expected 3 fields, saw 5\n",
      "Skipping line 6006: expected 3 fields, saw 10\n",
      "\n"
     ]
    },
    {
     "name": "stdout",
     "output_type": "stream",
     "text": [
      "(3000, 22)\n"
     ]
    },
    {
     "name": "stderr",
     "output_type": "stream",
     "text": [
      "Skipping line 6005: expected 3 fields, saw 5\n",
      "Skipping line 6006: expected 3 fields, saw 10\n",
      "\n"
     ]
    },
    {
     "name": "stdout",
     "output_type": "stream",
     "text": [
      "(3000, 22)\n"
     ]
    },
    {
     "name": "stderr",
     "output_type": "stream",
     "text": [
      "Skipping line 6005: expected 3 fields, saw 5\n",
      "Skipping line 6006: expected 3 fields, saw 10\n",
      "\n"
     ]
    },
    {
     "name": "stdout",
     "output_type": "stream",
     "text": [
      "(3000, 22)\n"
     ]
    },
    {
     "name": "stderr",
     "output_type": "stream",
     "text": [
      "Skipping line 6005: expected 3 fields, saw 5\n",
      "Skipping line 6006: expected 3 fields, saw 10\n",
      "\n"
     ]
    },
    {
     "name": "stdout",
     "output_type": "stream",
     "text": [
      "(3000, 22)\n"
     ]
    },
    {
     "name": "stderr",
     "output_type": "stream",
     "text": [
      "Skipping line 6005: expected 3 fields, saw 5\n",
      "Skipping line 6006: expected 3 fields, saw 10\n",
      "\n"
     ]
    },
    {
     "name": "stdout",
     "output_type": "stream",
     "text": [
      "(3000, 22)\n"
     ]
    },
    {
     "name": "stderr",
     "output_type": "stream",
     "text": [
      "Skipping line 6005: expected 3 fields, saw 5\n",
      "Skipping line 6006: expected 3 fields, saw 10\n",
      "\n"
     ]
    },
    {
     "name": "stdout",
     "output_type": "stream",
     "text": [
      "(3000, 22)\n"
     ]
    },
    {
     "name": "stderr",
     "output_type": "stream",
     "text": [
      "Skipping line 6005: expected 3 fields, saw 5\n",
      "Skipping line 6006: expected 3 fields, saw 10\n",
      "\n"
     ]
    },
    {
     "name": "stdout",
     "output_type": "stream",
     "text": [
      "(3000, 22)\n"
     ]
    },
    {
     "name": "stderr",
     "output_type": "stream",
     "text": [
      "Skipping line 6005: expected 3 fields, saw 5\n",
      "Skipping line 6006: expected 3 fields, saw 10\n",
      "\n"
     ]
    },
    {
     "name": "stdout",
     "output_type": "stream",
     "text": [
      "(3000, 22)\n"
     ]
    },
    {
     "name": "stderr",
     "output_type": "stream",
     "text": [
      "Skipping line 6005: expected 3 fields, saw 5\n",
      "Skipping line 6006: expected 3 fields, saw 10\n",
      "\n"
     ]
    },
    {
     "name": "stdout",
     "output_type": "stream",
     "text": [
      "(3000, 22)\n"
     ]
    },
    {
     "name": "stderr",
     "output_type": "stream",
     "text": [
      "Skipping line 6005: expected 3 fields, saw 5\n",
      "Skipping line 6006: expected 3 fields, saw 10\n",
      "\n"
     ]
    },
    {
     "name": "stdout",
     "output_type": "stream",
     "text": [
      "(3000, 22)\n"
     ]
    },
    {
     "name": "stderr",
     "output_type": "stream",
     "text": [
      "Skipping line 6005: expected 3 fields, saw 5\n",
      "Skipping line 6006: expected 3 fields, saw 10\n",
      "\n"
     ]
    },
    {
     "name": "stdout",
     "output_type": "stream",
     "text": [
      "(3000, 22)\n"
     ]
    },
    {
     "name": "stderr",
     "output_type": "stream",
     "text": [
      "Skipping line 6005: expected 3 fields, saw 5\n",
      "Skipping line 6006: expected 3 fields, saw 10\n",
      "\n"
     ]
    },
    {
     "name": "stdout",
     "output_type": "stream",
     "text": [
      "(3000, 22)\n"
     ]
    },
    {
     "name": "stderr",
     "output_type": "stream",
     "text": [
      "Skipping line 6005: expected 3 fields, saw 5\n",
      "Skipping line 6006: expected 3 fields, saw 10\n",
      "\n"
     ]
    },
    {
     "name": "stdout",
     "output_type": "stream",
     "text": [
      "(3000, 22)\n"
     ]
    },
    {
     "name": "stderr",
     "output_type": "stream",
     "text": [
      "Skipping line 6005: expected 3 fields, saw 5\n",
      "Skipping line 6006: expected 3 fields, saw 10\n",
      "\n"
     ]
    },
    {
     "name": "stdout",
     "output_type": "stream",
     "text": [
      "(3000, 22)\n"
     ]
    },
    {
     "name": "stderr",
     "output_type": "stream",
     "text": [
      "Skipping line 6005: expected 3 fields, saw 5\n",
      "Skipping line 6006: expected 3 fields, saw 10\n",
      "\n"
     ]
    },
    {
     "name": "stdout",
     "output_type": "stream",
     "text": [
      "(3000, 22)\n"
     ]
    },
    {
     "name": "stderr",
     "output_type": "stream",
     "text": [
      "Skipping line 6005: expected 3 fields, saw 5\n",
      "Skipping line 6006: expected 3 fields, saw 10\n",
      "\n"
     ]
    },
    {
     "name": "stdout",
     "output_type": "stream",
     "text": [
      "(3000, 22)\n"
     ]
    },
    {
     "name": "stderr",
     "output_type": "stream",
     "text": [
      "Skipping line 6005: expected 3 fields, saw 5\n",
      "Skipping line 6006: expected 3 fields, saw 10\n",
      "\n"
     ]
    },
    {
     "name": "stdout",
     "output_type": "stream",
     "text": [
      "The first 10 elements of first three columns of outputs are:\n",
      "[[1.48616632 1.48325292 1.48639733]\n",
      " [1.4414473  1.43850375 1.441738  ]\n",
      " [1.3949672  1.39199491 1.39531484]\n",
      " [1.34710667 1.34410718 1.34750819]\n",
      " [1.29825331 1.29522832 1.29870536]\n",
      " [1.24879646 1.24574778 1.24929541]\n",
      " [1.19912203 1.19605164 1.199664  ]\n",
      " [1.14960747 1.14651745 1.15018833]\n",
      " [1.10061692 1.09750946 1.10123232]\n",
      " [1.05249667 1.04937407 1.05314205]]\n",
      "computed Jacobian-Matrix products in 117.734132 secs\n",
      "eig. val. of generalized data covariance : 0.002410 secs (5.55e-04, 5.55e-04, 1.81e+00)\n",
      "time for data covarance construction : 0.004141 sec \n",
      "eig. val. of data covariance (5.42e+04, 1.49e-03, 5.42e+04)\n",
      "solve saddle point (co-kriging) systems with Levenberg-Marquardt\n",
      "-- Number of iterations for gmres 1\n",
      "0 - min(s): -0.528949, max(s) :2.34992\n",
      "-- Number of iterations for gmres 1\n",
      "1 - min(s): -0.643687, max(s) :2.30337\n",
      "-- Number of iterations for gmres 1\n",
      "2 - min(s): -0.783093, max(s) :2.24021\n",
      "-- Number of iterations for gmres 1\n",
      "3 - min(s): -0.907901, max(s) :2.16744\n",
      "-- Number of iterations for gmres 1\n",
      "4 - min(s): -1.02401, max(s) :2.08344\n",
      "-- Number of iterations for gmres 1\n",
      "5 - min(s): -1.14247, max(s) :1.94556\n",
      "-- Number of iterations for gmres 1\n",
      "6 - min(s): -1.29473, max(s) :1.72463\n",
      "-- Number of iterations for gmres 1\n",
      "7 - min(s): -1.5188, max(s) :1.38991\n",
      "-- Number of iterations for gmres 1\n",
      "8 - min(s): -1.83008, max(s) :0.94963\n",
      "-- Number of iterations for gmres 1\n",
      "9 - min(s): -2.20608, max(s) :0.433943\n",
      "-- Number of iterations for gmres 1\n",
      "10 - min(s): -2.49661, max(s) :-0.0353466\n",
      "-- Number of iterations for gmres 1\n",
      "11 - min(s): -2.53893, max(s) :-0.29939\n",
      "evaluate LM solutions\n",
      "shape of s is:\n",
      "(3000, 12)\n",
      "The first 10 elements of first three columns are:\n",
      "[[2.34991749 2.30336982 2.24021169]\n",
      " [2.30983193 2.26624773 2.20479593]\n",
      " [2.26549258 2.22466197 2.1648307 ]\n",
      " [2.21723669 2.17895111 2.12065524]\n",
      " [2.16541086 2.12946952 2.07262849]\n",
      " [2.11036608 2.07658223 2.02112399]\n",
      " [2.052453   2.02066005 1.96652476]\n",
      " [1.99201749 1.96207469 1.90921826]\n",
      " [1.92939663 1.90119421 1.84959151]\n",
      " [1.86491517 1.83837884 1.78802645]]\n",
      "(3000, 12)\n"
     ]
    },
    {
     "name": "stderr",
     "output_type": "stream",
     "text": [
      "Skipping line 6005: expected 3 fields, saw 5\n",
      "Skipping line 6006: expected 3 fields, saw 10\n",
      "\n"
     ]
    },
    {
     "name": "stdout",
     "output_type": "stream",
     "text": [
      "(3000, 12)\n"
     ]
    },
    {
     "name": "stderr",
     "output_type": "stream",
     "text": [
      "Skipping line 6005: expected 3 fields, saw 5\n",
      "Skipping line 6006: expected 3 fields, saw 10\n",
      "\n"
     ]
    },
    {
     "name": "stdout",
     "output_type": "stream",
     "text": [
      "(3000, 12)\n"
     ]
    },
    {
     "name": "stderr",
     "output_type": "stream",
     "text": [
      "Skipping line 6005: expected 3 fields, saw 5\n",
      "Skipping line 6006: expected 3 fields, saw 10\n",
      "\n"
     ]
    },
    {
     "name": "stdout",
     "output_type": "stream",
     "text": [
      "(3000, 12)\n"
     ]
    },
    {
     "name": "stderr",
     "output_type": "stream",
     "text": [
      "Skipping line 6005: expected 3 fields, saw 5\n",
      "Skipping line 6006: expected 3 fields, saw 10\n",
      "\n"
     ]
    },
    {
     "name": "stdout",
     "output_type": "stream",
     "text": [
      "(3000, 12)\n"
     ]
    },
    {
     "name": "stderr",
     "output_type": "stream",
     "text": [
      "Skipping line 6005: expected 3 fields, saw 5\n",
      "Skipping line 6006: expected 3 fields, saw 10\n",
      "\n"
     ]
    },
    {
     "name": "stdout",
     "output_type": "stream",
     "text": [
      "(3000, 12)\n"
     ]
    },
    {
     "name": "stderr",
     "output_type": "stream",
     "text": [
      "Skipping line 6005: expected 3 fields, saw 5\n",
      "Skipping line 6006: expected 3 fields, saw 10\n",
      "\n"
     ]
    },
    {
     "name": "stdout",
     "output_type": "stream",
     "text": [
      "(3000, 12)\n"
     ]
    },
    {
     "name": "stderr",
     "output_type": "stream",
     "text": [
      "Skipping line 6005: expected 3 fields, saw 5\n",
      "Skipping line 6006: expected 3 fields, saw 10\n",
      "\n"
     ]
    },
    {
     "name": "stdout",
     "output_type": "stream",
     "text": [
      "(3000, 12)\n"
     ]
    },
    {
     "name": "stderr",
     "output_type": "stream",
     "text": [
      "Skipping line 6005: expected 3 fields, saw 5\n",
      "Skipping line 6006: expected 3 fields, saw 10\n",
      "\n"
     ]
    },
    {
     "name": "stdout",
     "output_type": "stream",
     "text": [
      "(3000, 12)\n"
     ]
    },
    {
     "name": "stderr",
     "output_type": "stream",
     "text": [
      "Skipping line 6005: expected 3 fields, saw 5\n",
      "Skipping line 6006: expected 3 fields, saw 10\n",
      "\n"
     ]
    },
    {
     "name": "stdout",
     "output_type": "stream",
     "text": [
      "(3000, 12)\n"
     ]
    },
    {
     "name": "stderr",
     "output_type": "stream",
     "text": [
      "Skipping line 6005: expected 3 fields, saw 5\n",
      "Skipping line 6006: expected 3 fields, saw 10\n",
      "\n"
     ]
    },
    {
     "name": "stdout",
     "output_type": "stream",
     "text": [
      "(3000, 12)\n"
     ]
    },
    {
     "name": "stderr",
     "output_type": "stream",
     "text": [
      "Skipping line 6005: expected 3 fields, saw 5\n",
      "Skipping line 6006: expected 3 fields, saw 10\n",
      "\n"
     ]
    },
    {
     "name": "stdout",
     "output_type": "stream",
     "text": [
      "(3000, 12)\n"
     ]
    },
    {
     "name": "stderr",
     "output_type": "stream",
     "text": [
      "Skipping line 6005: expected 3 fields, saw 5\n",
      "Skipping line 6006: expected 3 fields, saw 10\n",
      "\n"
     ]
    },
    {
     "name": "stdout",
     "output_type": "stream",
     "text": [
      "The first 10 elements of first three columns of outputs are:\n",
      "[[2.34991749 2.30336982 2.24021169]\n",
      " [2.30983193 2.26624773 2.20479593]\n",
      " [2.26549258 2.22466197 2.1648307 ]\n",
      " [2.21723669 2.17895111 2.12065524]\n",
      " [2.16541086 2.12946952 2.07262849]\n",
      " [2.11036608 2.07658223 2.02112399]\n",
      " [2.052453   2.02066005 1.96652476]\n",
      " [1.99201749 1.96207469 1.90921826]\n",
      " [1.92939663 1.90119421 1.84959151]\n",
      " [1.86491517 1.83837884 1.78802645]]\n",
      "LM solution evaluted\n",
      "12 objective value evaluations\n",
      "0-th solution obj 9.894368e+02 (alpha 1.000000)\n",
      "2-th solution obj 9.870576e+02 (alpha 3.511192)\n",
      "3-th solution obj 9.401570e+02 (alpha 6.579332)\n",
      "4-th solution obj 9.086720e+02 (alpha 12.328467)\n",
      "- Geostat. inversion at iteration 4 is 190 sec\n",
      "perform simple linesearch due to no progress in obj value\n",
      "evaluate linesearch solutions\n",
      "shape of s is:\n",
      "(3000, 12)\n",
      "The first 10 elements of first three columns are:\n",
      "[[2.12122703 2.05806148 1.99489594]\n",
      " [2.0877189  2.02344153 1.95916416]\n",
      " [2.04942376 1.98433466 1.91924556]\n",
      " [2.00667667 1.94108045 1.87548423]\n",
      " [1.95983739 1.89404143 1.82824547]\n",
      " [1.90928539 1.84359804 1.77791069]\n",
      " [1.85541461 1.79014342 1.72487224]\n",
      " [1.79862825 1.73407824 1.66952822]\n",
      " [1.73933361 1.67580549 1.61227737]\n",
      " [1.67793703 1.61572557 1.55351411]]\n",
      "(3000, 12)\n"
     ]
    },
    {
     "name": "stderr",
     "output_type": "stream",
     "text": [
      "Skipping line 6005: expected 3 fields, saw 5\n",
      "Skipping line 6006: expected 3 fields, saw 10\n",
      "\n"
     ]
    },
    {
     "name": "stdout",
     "output_type": "stream",
     "text": [
      "(3000, 12)\n"
     ]
    },
    {
     "name": "stderr",
     "output_type": "stream",
     "text": [
      "Skipping line 6005: expected 3 fields, saw 5\n",
      "Skipping line 6006: expected 3 fields, saw 10\n",
      "\n"
     ]
    },
    {
     "name": "stdout",
     "output_type": "stream",
     "text": [
      "(3000, 12)\n"
     ]
    },
    {
     "name": "stderr",
     "output_type": "stream",
     "text": [
      "Skipping line 6005: expected 3 fields, saw 5\n",
      "Skipping line 6006: expected 3 fields, saw 10\n",
      "\n"
     ]
    },
    {
     "name": "stdout",
     "output_type": "stream",
     "text": [
      "(3000, 12)\n"
     ]
    },
    {
     "name": "stderr",
     "output_type": "stream",
     "text": [
      "Skipping line 6005: expected 3 fields, saw 5\n",
      "Skipping line 6006: expected 3 fields, saw 10\n",
      "\n"
     ]
    },
    {
     "name": "stdout",
     "output_type": "stream",
     "text": [
      "(3000, 12)\n"
     ]
    },
    {
     "name": "stderr",
     "output_type": "stream",
     "text": [
      "Skipping line 6005: expected 3 fields, saw 5\n",
      "Skipping line 6006: expected 3 fields, saw 10\n",
      "\n"
     ]
    },
    {
     "name": "stdout",
     "output_type": "stream",
     "text": [
      "(3000, 12)\n"
     ]
    },
    {
     "name": "stderr",
     "output_type": "stream",
     "text": [
      "Skipping line 6005: expected 3 fields, saw 5\n",
      "Skipping line 6006: expected 3 fields, saw 10\n",
      "\n"
     ]
    },
    {
     "name": "stdout",
     "output_type": "stream",
     "text": [
      "(3000, 12)\n"
     ]
    },
    {
     "name": "stderr",
     "output_type": "stream",
     "text": [
      "Skipping line 6005: expected 3 fields, saw 5\n",
      "Skipping line 6006: expected 3 fields, saw 10\n",
      "\n"
     ]
    },
    {
     "name": "stdout",
     "output_type": "stream",
     "text": [
      "(3000, 12)\n"
     ]
    },
    {
     "name": "stderr",
     "output_type": "stream",
     "text": [
      "Skipping line 6005: expected 3 fields, saw 5\n",
      "Skipping line 6006: expected 3 fields, saw 10\n",
      "\n"
     ]
    },
    {
     "name": "stdout",
     "output_type": "stream",
     "text": [
      "(3000, 12)\n"
     ]
    },
    {
     "name": "stderr",
     "output_type": "stream",
     "text": [
      "Skipping line 6005: expected 3 fields, saw 5\n",
      "Skipping line 6006: expected 3 fields, saw 10\n",
      "\n"
     ]
    },
    {
     "name": "stdout",
     "output_type": "stream",
     "text": [
      "(3000, 12)\n"
     ]
    },
    {
     "name": "stderr",
     "output_type": "stream",
     "text": [
      "Skipping line 6005: expected 3 fields, saw 5\n",
      "Skipping line 6006: expected 3 fields, saw 10\n",
      "\n"
     ]
    },
    {
     "name": "stdout",
     "output_type": "stream",
     "text": [
      "(3000, 12)\n"
     ]
    },
    {
     "name": "stderr",
     "output_type": "stream",
     "text": [
      "Skipping line 6005: expected 3 fields, saw 5\n",
      "Skipping line 6006: expected 3 fields, saw 10\n",
      "\n"
     ]
    },
    {
     "name": "stdout",
     "output_type": "stream",
     "text": [
      "(3000, 12)\n"
     ]
    },
    {
     "name": "stderr",
     "output_type": "stream",
     "text": [
      "Skipping line 6005: expected 3 fields, saw 5\n",
      "Skipping line 6006: expected 3 fields, saw 10\n",
      "\n"
     ]
    },
    {
     "name": "stdout",
     "output_type": "stream",
     "text": [
      "The first 10 elements of first three columns of outputs are:\n",
      "[[2.12122703 2.05806148 1.99489594]\n",
      " [2.0877189  2.02344153 1.95916416]\n",
      " [2.04942376 1.98433466 1.91924556]\n",
      " [2.00667667 1.94108045 1.87548423]\n",
      " [1.95983739 1.89404143 1.82824547]\n",
      " [1.90928539 1.84359804 1.77791069]\n",
      " [1.85541461 1.79014342 1.72487224]\n",
      " [1.79862825 1.73407824 1.66952822]\n",
      " [1.73933361 1.67580549 1.61227737]\n",
      " [1.67793703 1.61572557 1.55351411]]\n",
      "0-th solution obj 1.094010e+03 (delta -0.100000)\n",
      "1-th solution obj 8.867575e+02 (delta 0.009091)\n",
      "2-th solution obj 7.172494e+02 (delta 0.118182)\n",
      "3-th solution obj 5.651693e+02 (delta 0.227273)\n",
      "4-th solution obj 4.400027e+02 (delta 0.336364)\n",
      "5-th solution obj 3.368519e+02 (delta 0.445455)\n",
      "6-th solution obj 2.608421e+02 (delta 0.554545)\n",
      "7-th solution obj 2.097368e+02 (delta 0.663636)\n",
      "8-th solution obj 1.856879e+02 (delta 0.772727)\n",
      "== iteration 4 summary ==\n",
      "= objective function is 1.856879e+02, relative L2-norm diff btw sol 3 and sol 4 is 0.128371\n",
      "= L2-norm error (w.r.t truth) is 0.898837, obs. RMSE is 0.0155114, obs. normalized RMSE is 1.55114\n",
      "- save results in text at iteration 4\n",
      "***** Iteration 5 ******\n",
      "shape of s is:\n",
      "(3000, 22)\n",
      "The first 10 elements of first three columns are:\n",
      "[[1.61782639 1.61698704 1.61807123]\n",
      " [1.57542367 1.5746153  1.57573045]\n",
      " [1.53063467 1.52985585 1.53100055]\n",
      " [1.48383064 1.48307978 1.48425243]\n",
      " [1.43539342 1.43466877 1.43586765]\n",
      " [1.38571029 1.38500999 1.3862332 ]\n",
      " [1.33516885 1.33449087 1.3357364 ]\n",
      " [1.28415185 1.28349406 1.28475977]\n",
      " [1.23303236 1.23239249 1.23367612]\n",
      " [1.18216906 1.18154475 1.18284394]]\n",
      "(3000, 22)\n"
     ]
    },
    {
     "name": "stderr",
     "output_type": "stream",
     "text": [
      "Skipping line 6005: expected 3 fields, saw 5\n",
      "Skipping line 6006: expected 3 fields, saw 10\n",
      "\n"
     ]
    },
    {
     "name": "stdout",
     "output_type": "stream",
     "text": [
      "(3000, 22)\n"
     ]
    },
    {
     "name": "stderr",
     "output_type": "stream",
     "text": [
      "Skipping line 6005: expected 3 fields, saw 5\n",
      "Skipping line 6006: expected 3 fields, saw 10\n",
      "\n"
     ]
    },
    {
     "name": "stdout",
     "output_type": "stream",
     "text": [
      "(3000, 22)\n"
     ]
    },
    {
     "name": "stderr",
     "output_type": "stream",
     "text": [
      "Skipping line 6005: expected 3 fields, saw 5\n",
      "Skipping line 6006: expected 3 fields, saw 10\n",
      "\n"
     ]
    },
    {
     "name": "stdout",
     "output_type": "stream",
     "text": [
      "(3000, 22)\n"
     ]
    },
    {
     "name": "stderr",
     "output_type": "stream",
     "text": [
      "Skipping line 6005: expected 3 fields, saw 5\n",
      "Skipping line 6006: expected 3 fields, saw 10\n",
      "\n"
     ]
    },
    {
     "name": "stdout",
     "output_type": "stream",
     "text": [
      "(3000, 22)\n"
     ]
    },
    {
     "name": "stderr",
     "output_type": "stream",
     "text": [
      "Skipping line 6005: expected 3 fields, saw 5\n",
      "Skipping line 6006: expected 3 fields, saw 10\n",
      "\n"
     ]
    },
    {
     "name": "stdout",
     "output_type": "stream",
     "text": [
      "(3000, 22)\n"
     ]
    },
    {
     "name": "stderr",
     "output_type": "stream",
     "text": [
      "Skipping line 6005: expected 3 fields, saw 5\n",
      "Skipping line 6006: expected 3 fields, saw 10\n",
      "\n"
     ]
    },
    {
     "name": "stdout",
     "output_type": "stream",
     "text": [
      "(3000, 22)\n"
     ]
    },
    {
     "name": "stderr",
     "output_type": "stream",
     "text": [
      "Skipping line 6005: expected 3 fields, saw 5\n",
      "Skipping line 6006: expected 3 fields, saw 10\n",
      "\n"
     ]
    },
    {
     "name": "stdout",
     "output_type": "stream",
     "text": [
      "(3000, 22)\n"
     ]
    },
    {
     "name": "stderr",
     "output_type": "stream",
     "text": [
      "Skipping line 6005: expected 3 fields, saw 5\n",
      "Skipping line 6006: expected 3 fields, saw 10\n",
      "\n"
     ]
    },
    {
     "name": "stdout",
     "output_type": "stream",
     "text": [
      "(3000, 22)\n"
     ]
    },
    {
     "name": "stderr",
     "output_type": "stream",
     "text": [
      "Skipping line 6005: expected 3 fields, saw 5\n",
      "Skipping line 6006: expected 3 fields, saw 10\n",
      "\n"
     ]
    },
    {
     "name": "stdout",
     "output_type": "stream",
     "text": [
      "(3000, 22)\n"
     ]
    },
    {
     "name": "stderr",
     "output_type": "stream",
     "text": [
      "Skipping line 6005: expected 3 fields, saw 5\n",
      "Skipping line 6006: expected 3 fields, saw 10\n",
      "\n"
     ]
    },
    {
     "name": "stdout",
     "output_type": "stream",
     "text": [
      "(3000, 22)\n"
     ]
    },
    {
     "name": "stderr",
     "output_type": "stream",
     "text": [
      "Skipping line 6005: expected 3 fields, saw 5\n",
      "Skipping line 6006: expected 3 fields, saw 10\n",
      "\n"
     ]
    },
    {
     "name": "stdout",
     "output_type": "stream",
     "text": [
      "(3000, 22)\n"
     ]
    },
    {
     "name": "stderr",
     "output_type": "stream",
     "text": [
      "Skipping line 6005: expected 3 fields, saw 5\n",
      "Skipping line 6006: expected 3 fields, saw 10\n",
      "\n"
     ]
    },
    {
     "name": "stdout",
     "output_type": "stream",
     "text": [
      "(3000, 22)\n"
     ]
    },
    {
     "name": "stderr",
     "output_type": "stream",
     "text": [
      "Skipping line 6005: expected 3 fields, saw 5\n",
      "Skipping line 6006: expected 3 fields, saw 10\n",
      "\n"
     ]
    },
    {
     "name": "stdout",
     "output_type": "stream",
     "text": [
      "(3000, 22)\n"
     ]
    },
    {
     "name": "stderr",
     "output_type": "stream",
     "text": [
      "Skipping line 6005: expected 3 fields, saw 5\n",
      "Skipping line 6006: expected 3 fields, saw 10\n",
      "\n"
     ]
    },
    {
     "name": "stdout",
     "output_type": "stream",
     "text": [
      "(3000, 22)\n"
     ]
    },
    {
     "name": "stderr",
     "output_type": "stream",
     "text": [
      "Skipping line 6005: expected 3 fields, saw 5\n",
      "Skipping line 6006: expected 3 fields, saw 10\n",
      "\n"
     ]
    },
    {
     "name": "stdout",
     "output_type": "stream",
     "text": [
      "(3000, 22)\n"
     ]
    },
    {
     "name": "stderr",
     "output_type": "stream",
     "text": [
      "Skipping line 6005: expected 3 fields, saw 5\n",
      "Skipping line 6006: expected 3 fields, saw 10\n",
      "\n"
     ]
    },
    {
     "name": "stdout",
     "output_type": "stream",
     "text": [
      "(3000, 22)\n"
     ]
    },
    {
     "name": "stderr",
     "output_type": "stream",
     "text": [
      "Skipping line 6005: expected 3 fields, saw 5\n",
      "Skipping line 6006: expected 3 fields, saw 10\n",
      "\n"
     ]
    },
    {
     "name": "stdout",
     "output_type": "stream",
     "text": [
      "(3000, 22)\n"
     ]
    },
    {
     "name": "stderr",
     "output_type": "stream",
     "text": [
      "Skipping line 6005: expected 3 fields, saw 5\n",
      "Skipping line 6006: expected 3 fields, saw 10\n",
      "\n"
     ]
    },
    {
     "name": "stdout",
     "output_type": "stream",
     "text": [
      "(3000, 22)\n"
     ]
    },
    {
     "name": "stderr",
     "output_type": "stream",
     "text": [
      "Skipping line 6005: expected 3 fields, saw 5\n",
      "Skipping line 6006: expected 3 fields, saw 10\n",
      "\n"
     ]
    },
    {
     "name": "stdout",
     "output_type": "stream",
     "text": [
      "(3000, 22)\n"
     ]
    },
    {
     "name": "stderr",
     "output_type": "stream",
     "text": [
      "Skipping line 6005: expected 3 fields, saw 5\n",
      "Skipping line 6006: expected 3 fields, saw 10\n",
      "\n"
     ]
    },
    {
     "name": "stdout",
     "output_type": "stream",
     "text": [
      "(3000, 22)\n"
     ]
    },
    {
     "name": "stderr",
     "output_type": "stream",
     "text": [
      "Skipping line 6005: expected 3 fields, saw 5\n",
      "Skipping line 6006: expected 3 fields, saw 10\n",
      "\n"
     ]
    },
    {
     "name": "stdout",
     "output_type": "stream",
     "text": [
      "(3000, 22)\n"
     ]
    },
    {
     "name": "stderr",
     "output_type": "stream",
     "text": [
      "Skipping line 6005: expected 3 fields, saw 5\n",
      "Skipping line 6006: expected 3 fields, saw 10\n",
      "\n"
     ]
    },
    {
     "name": "stdout",
     "output_type": "stream",
     "text": [
      "The first 10 elements of first three columns of outputs are:\n",
      "[[1.61782639 1.61698704 1.61807123]\n",
      " [1.57542367 1.5746153  1.57573045]\n",
      " [1.53063467 1.52985585 1.53100055]\n",
      " [1.48383064 1.48307978 1.48425243]\n",
      " [1.43539342 1.43466877 1.43586765]\n",
      " [1.38571029 1.38500999 1.3862332 ]\n",
      " [1.33516885 1.33449087 1.3357364 ]\n",
      " [1.28415185 1.28349406 1.28475977]\n",
      " [1.23303236 1.23239249 1.23367612]\n",
      " [1.18216906 1.18154475 1.18284394]]\n",
      "computed Jacobian-Matrix products in 117.081125 secs\n",
      "eig. val. of generalized data covariance : 0.002377 secs (5.91e-04, 5.91e-04, 2.02e+00)\n",
      "time for data covarance construction : 0.004084 sec \n",
      "eig. val. of data covariance (5.50e+04, 9.62e-04, 5.50e+04)\n",
      "solve saddle point (co-kriging) systems with Levenberg-Marquardt\n",
      "-- Number of iterations for gmres 1\n",
      "0 - min(s): -0.993138, max(s) :2.66277\n",
      "-- Number of iterations for gmres 1\n",
      "1 - min(s): -1.0565, max(s) :2.66532\n",
      "-- Number of iterations for gmres 1\n",
      "2 - min(s): -1.05368, max(s) :2.57289\n",
      "-- Number of iterations for gmres 1\n",
      "3 - min(s): -0.999634, max(s) :2.35406\n",
      "-- Number of iterations for gmres 1\n",
      "4 - min(s): -0.943539, max(s) :1.99263\n",
      "-- Number of iterations for gmres 1\n",
      "5 - min(s): -1.26666, max(s) :1.48507\n",
      "-- Number of iterations for gmres 1\n",
      "6 - min(s): -1.82987, max(s) :0.863194\n",
      "-- Number of iterations for gmres 1\n",
      "7 - min(s): -2.41362, max(s) :0.198046\n",
      "-- Number of iterations for gmres 1\n",
      "8 - min(s): -2.92787, max(s) :-0.423919\n",
      "-- Number of iterations for gmres 1\n",
      "9 - min(s): -3.33004, max(s) :-0.963871\n",
      "-- Number of iterations for gmres 1\n",
      "10 - min(s): -3.63702, max(s) :-1.4541\n",
      "-- Number of iterations for gmres 1\n",
      "11 - min(s): -3.90015, max(s) :-1.95877\n",
      "evaluate LM solutions\n",
      "shape of s is:\n",
      "(3000, 12)\n",
      "The first 10 elements of first three columns are:\n",
      "[[2.65278287 2.66531941 2.57288567]\n",
      " [2.59421637 2.60876125 2.51810753]\n",
      " [2.52916279 2.54521327 2.4562768 ]\n",
      " [2.45768425 2.4747274  2.38746021]\n",
      " [2.37986573 2.3973881  2.3117622 ]\n",
      " [2.295816   2.31331344 2.22932581]\n",
      " [2.2056688  2.22265632 2.1403334 ]\n",
      " [2.10958425 2.12560565 2.04500727]\n",
      " [2.00775042 2.02238741 1.94361016]\n",
      " [1.90038497 1.9132658  1.83644545]]\n",
      "(3000, 12)\n"
     ]
    },
    {
     "name": "stderr",
     "output_type": "stream",
     "text": [
      "Skipping line 6005: expected 3 fields, saw 5\n",
      "Skipping line 6006: expected 3 fields, saw 10\n",
      "\n"
     ]
    },
    {
     "name": "stdout",
     "output_type": "stream",
     "text": [
      "(3000, 12)\n"
     ]
    },
    {
     "name": "stderr",
     "output_type": "stream",
     "text": [
      "Skipping line 6005: expected 3 fields, saw 5\n",
      "Skipping line 6006: expected 3 fields, saw 10\n",
      "\n"
     ]
    },
    {
     "name": "stdout",
     "output_type": "stream",
     "text": [
      "(3000, 12)\n"
     ]
    },
    {
     "name": "stderr",
     "output_type": "stream",
     "text": [
      "Skipping line 6005: expected 3 fields, saw 5\n",
      "Skipping line 6006: expected 3 fields, saw 10\n",
      "\n"
     ]
    },
    {
     "name": "stdout",
     "output_type": "stream",
     "text": [
      "(3000, 12)\n"
     ]
    },
    {
     "name": "stderr",
     "output_type": "stream",
     "text": [
      "Skipping line 6005: expected 3 fields, saw 5\n",
      "Skipping line 6006: expected 3 fields, saw 10\n",
      "\n"
     ]
    },
    {
     "name": "stdout",
     "output_type": "stream",
     "text": [
      "(3000, 12)\n"
     ]
    },
    {
     "name": "stderr",
     "output_type": "stream",
     "text": [
      "Skipping line 6005: expected 3 fields, saw 5\n",
      "Skipping line 6006: expected 3 fields, saw 10\n",
      "\n"
     ]
    },
    {
     "name": "stdout",
     "output_type": "stream",
     "text": [
      "(3000, 12)\n"
     ]
    },
    {
     "name": "stderr",
     "output_type": "stream",
     "text": [
      "Skipping line 6005: expected 3 fields, saw 5\n",
      "Skipping line 6006: expected 3 fields, saw 10\n",
      "\n"
     ]
    },
    {
     "name": "stdout",
     "output_type": "stream",
     "text": [
      "(3000, 12)\n"
     ]
    },
    {
     "name": "stderr",
     "output_type": "stream",
     "text": [
      "Skipping line 6005: expected 3 fields, saw 5\n",
      "Skipping line 6006: expected 3 fields, saw 10\n",
      "\n"
     ]
    },
    {
     "name": "stdout",
     "output_type": "stream",
     "text": [
      "(3000, 12)\n"
     ]
    },
    {
     "name": "stderr",
     "output_type": "stream",
     "text": [
      "Skipping line 6005: expected 3 fields, saw 5\n",
      "Skipping line 6006: expected 3 fields, saw 10\n",
      "\n"
     ]
    },
    {
     "name": "stdout",
     "output_type": "stream",
     "text": [
      "(3000, 12)\n"
     ]
    },
    {
     "name": "stderr",
     "output_type": "stream",
     "text": [
      "Skipping line 6005: expected 3 fields, saw 5\n",
      "Skipping line 6006: expected 3 fields, saw 10\n",
      "\n"
     ]
    },
    {
     "name": "stdout",
     "output_type": "stream",
     "text": [
      "(3000, 12)\n"
     ]
    },
    {
     "name": "stderr",
     "output_type": "stream",
     "text": [
      "Skipping line 6005: expected 3 fields, saw 5\n",
      "Skipping line 6006: expected 3 fields, saw 10\n",
      "\n"
     ]
    },
    {
     "name": "stdout",
     "output_type": "stream",
     "text": [
      "(3000, 12)\n"
     ]
    },
    {
     "name": "stderr",
     "output_type": "stream",
     "text": [
      "Skipping line 6005: expected 3 fields, saw 5\n",
      "Skipping line 6006: expected 3 fields, saw 10\n",
      "\n"
     ]
    },
    {
     "name": "stdout",
     "output_type": "stream",
     "text": [
      "(3000, 12)\n"
     ]
    },
    {
     "name": "stderr",
     "output_type": "stream",
     "text": [
      "Skipping line 6005: expected 3 fields, saw 5\n",
      "Skipping line 6006: expected 3 fields, saw 10\n",
      "\n"
     ]
    },
    {
     "name": "stdout",
     "output_type": "stream",
     "text": [
      "The first 10 elements of first three columns of outputs are:\n",
      "[[2.65278287 2.66531941 2.57288567]\n",
      " [2.59421637 2.60876125 2.51810753]\n",
      " [2.52916279 2.54521327 2.4562768 ]\n",
      " [2.45768425 2.4747274  2.38746021]\n",
      " [2.37986573 2.3973881  2.3117622 ]\n",
      " [2.295816   2.31331344 2.22932581]\n",
      " [2.2056688  2.22265632 2.1403334 ]\n",
      " [2.10958425 2.12560565 2.04500727]\n",
      " [2.00775042 2.02238741 1.94361016]\n",
      " [1.90038497 1.9132658  1.83644545]]\n",
      "LM solution evaluted\n",
      "12 objective value evaluations\n",
      "0-th solution obj 1.100600e+03 (alpha 1.000000)\n",
      "1-th solution obj 8.575960e+02 (alpha 1.873817)\n",
      "2-th solution obj 6.487637e+02 (alpha 3.511192)\n",
      "3-th solution obj 4.582430e+02 (alpha 6.579332)\n",
      "4-th solution obj 3.005466e+02 (alpha 12.328467)\n",
      "- Geostat. inversion at iteration 5 is 182 sec\n",
      "perform simple linesearch due to no progress in obj value\n",
      "evaluate linesearch solutions\n",
      "shape of s is:\n",
      "(3000, 12)\n",
      "The first 10 elements of first three columns are:\n",
      "[[2.0297639  1.98871981 1.94767572]\n",
      " [1.97988931 1.93958623 1.89928316]\n",
      " [1.92367398 1.88450409 1.8453342 ]\n",
      " [1.86125087 1.82362999 1.7860091 ]\n",
      " [1.79279142 1.7571562  1.72152099]\n",
      " [1.71850496 1.68530975 1.65211454]\n",
      " [1.6386381  1.6083512  1.57806429]\n",
      " [1.55347371 1.52657332 1.49967293]\n",
      " [1.46332974 1.44029955 1.41726936]\n",
      " [1.36855784 1.34988222 1.3312066 ]]\n",
      "(3000, 12)\n"
     ]
    },
    {
     "name": "stderr",
     "output_type": "stream",
     "text": [
      "Skipping line 6005: expected 3 fields, saw 5\n",
      "Skipping line 6006: expected 3 fields, saw 10\n",
      "\n"
     ]
    },
    {
     "name": "stdout",
     "output_type": "stream",
     "text": [
      "(3000, 12)\n"
     ]
    },
    {
     "name": "stderr",
     "output_type": "stream",
     "text": [
      "Skipping line 6005: expected 3 fields, saw 5\n",
      "Skipping line 6006: expected 3 fields, saw 10\n",
      "\n"
     ]
    },
    {
     "name": "stdout",
     "output_type": "stream",
     "text": [
      "(3000, 12)\n"
     ]
    },
    {
     "name": "stderr",
     "output_type": "stream",
     "text": [
      "Skipping line 6005: expected 3 fields, saw 5\n",
      "Skipping line 6006: expected 3 fields, saw 10\n",
      "\n"
     ]
    },
    {
     "name": "stdout",
     "output_type": "stream",
     "text": [
      "(3000, 12)\n"
     ]
    },
    {
     "name": "stderr",
     "output_type": "stream",
     "text": [
      "Skipping line 6005: expected 3 fields, saw 5\n",
      "Skipping line 6006: expected 3 fields, saw 10\n",
      "\n"
     ]
    },
    {
     "name": "stdout",
     "output_type": "stream",
     "text": [
      "(3000, 12)\n"
     ]
    },
    {
     "name": "stderr",
     "output_type": "stream",
     "text": [
      "Skipping line 6005: expected 3 fields, saw 5\n",
      "Skipping line 6006: expected 3 fields, saw 10\n",
      "\n"
     ]
    },
    {
     "name": "stdout",
     "output_type": "stream",
     "text": [
      "(3000, 12)\n"
     ]
    },
    {
     "name": "stderr",
     "output_type": "stream",
     "text": [
      "Skipping line 6005: expected 3 fields, saw 5\n",
      "Skipping line 6006: expected 3 fields, saw 10\n",
      "\n"
     ]
    },
    {
     "name": "stdout",
     "output_type": "stream",
     "text": [
      "(3000, 12)\n"
     ]
    },
    {
     "name": "stderr",
     "output_type": "stream",
     "text": [
      "Skipping line 6005: expected 3 fields, saw 5\n",
      "Skipping line 6006: expected 3 fields, saw 10\n",
      "\n"
     ]
    },
    {
     "name": "stdout",
     "output_type": "stream",
     "text": [
      "(3000, 12)\n"
     ]
    },
    {
     "name": "stderr",
     "output_type": "stream",
     "text": [
      "Skipping line 6005: expected 3 fields, saw 5\n",
      "Skipping line 6006: expected 3 fields, saw 10\n",
      "\n"
     ]
    },
    {
     "name": "stdout",
     "output_type": "stream",
     "text": [
      "(3000, 12)\n"
     ]
    },
    {
     "name": "stderr",
     "output_type": "stream",
     "text": [
      "Skipping line 6005: expected 3 fields, saw 5\n",
      "Skipping line 6006: expected 3 fields, saw 10\n",
      "\n"
     ]
    },
    {
     "name": "stdout",
     "output_type": "stream",
     "text": [
      "(3000, 12)\n"
     ]
    },
    {
     "name": "stderr",
     "output_type": "stream",
     "text": [
      "Skipping line 6005: expected 3 fields, saw 5\n",
      "Skipping line 6006: expected 3 fields, saw 10\n",
      "\n"
     ]
    },
    {
     "name": "stdout",
     "output_type": "stream",
     "text": [
      "(3000, 12)\n"
     ]
    },
    {
     "name": "stderr",
     "output_type": "stream",
     "text": [
      "Skipping line 6005: expected 3 fields, saw 5\n",
      "Skipping line 6006: expected 3 fields, saw 10\n",
      "\n"
     ]
    },
    {
     "name": "stdout",
     "output_type": "stream",
     "text": [
      "(3000, 12)\n"
     ]
    },
    {
     "name": "stderr",
     "output_type": "stream",
     "text": [
      "Skipping line 6005: expected 3 fields, saw 5\n",
      "Skipping line 6006: expected 3 fields, saw 10\n",
      "\n"
     ]
    },
    {
     "name": "stdout",
     "output_type": "stream",
     "text": [
      "The first 10 elements of first three columns of outputs are:\n",
      "[[2.0297639  1.98871981 1.94767572]\n",
      " [1.97988931 1.93958623 1.89928316]\n",
      " [1.92367398 1.88450409 1.8453342 ]\n",
      " [1.86125087 1.82362999 1.7860091 ]\n",
      " [1.79279142 1.7571562  1.72152099]\n",
      " [1.71850496 1.68530975 1.65211454]\n",
      " [1.6386381  1.6083512  1.57806429]\n",
      " [1.55347371 1.52657332 1.49967293]\n",
      " [1.46332974 1.44029955 1.41726936]\n",
      " [1.36855784 1.34988222 1.3312066 ]]\n",
      "0-th solution obj 3.702186e+02 (delta -0.100000)\n",
      "1-th solution obj 2.938264e+02 (delta 0.009091)\n",
      "2-th solution obj 2.190310e+02 (delta 0.118182)\n",
      "3-th solution obj 1.637824e+02 (delta 0.227273)\n",
      "4-th solution obj 1.331646e+02 (delta 0.336364)\n",
      "5-th solution obj 1.089753e+02 (delta 0.445455)\n",
      "6-th solution obj 9.921535e+01 (delta 0.554545)\n",
      "== iteration 5 summary ==\n",
      "= objective function is 9.921535e+01, relative L2-norm diff btw sol 4 and sol 5 is 0.249531\n",
      "= L2-norm error (w.r.t truth) is 0.886212, obs. RMSE is 0.0110962, obs. normalized RMSE is 1.10962\n",
      "- save results in text at iteration 5\n",
      "------------ Inversion Summary ---------------------------\n",
      "** Found solution at iteration 5\n",
      "** Solution RMSE 0.0110962 , initial RMSE 0.223155, where RMSE = (norm(obs. diff.)/sqrt(nobs)), Solution nRMSE 1.10962, init. nRMSE 22.3155\n",
      "** Final objective function value is 9.921535e+01\n",
      "** Final predictive model checking Q2, cR is 1.247581e-01, 3.463727e-04\n",
      "** Total elapsed time is 1369.292035 secs\n",
      "----------------------------------------------------------\n"
     ]
    }
   ],
   "source": [
    "#s_hat, simul_obs, post_diagv, iter_best = prob.Run()\n",
    "s_hat, simul_obs, iter_best = prob.Run()"
   ]
  },
  {
   "cell_type": "code",
   "execution_count": 138,
   "metadata": {},
   "outputs": [
    {
     "data": {
      "text/plain": [
       "<matplotlib.colorbar.Colorbar at 0x7efd6c11fa10>"
      ]
     },
     "execution_count": 138,
     "metadata": {},
     "output_type": "execute_result"
    },
    {
     "data": {
      "image/png": "[encoded data removed]",
      "text/plain": [
       "<Figure size 432x288 with 2 Axes>"
      ]
     },
     "metadata": {},
     "output_type": "display_data"
    }
   ],
   "source": [
    "pred = s_hat.reshape(N[2],N[1],N[0])\n",
    "plt.imshow(pred[:,:,:])\n",
    "plt.colorbar()"
   ]
  },
  {
   "cell_type": "code",
   "execution_count": 139,
   "metadata": {},
   "outputs": [
    {
     "data": {
      "text/plain": [
       "1.6409453898613118"
      ]
     },
     "execution_count": 139,
     "metadata": {},
     "output_type": "execute_result"
    }
   ],
   "source": [
    "np.max(pred[:,6,:])"
   ]
  },
  {
   "cell_type": "code",
   "execution_count": 140,
   "metadata": {},
   "outputs": [
    {
     "data": {
      "text/plain": [
       "<matplotlib.colorbar.Colorbar at 0x7efd67fc6510>"
      ]
     },
     "execution_count": 140,
     "metadata": {},
     "output_type": "execute_result"
    },
    {
     "data": {
      "image/png": "[encoded data removed]",
      "text/plain": [
       "<Figure size 432x288 with 2 Axes>"
      ]
     },
     "metadata": {},
     "output_type": "display_data"
    }
   ],
   "source": [
    "tr_val = s_true.reshape(N[0],N[1],N[2])\n",
    "plt.imshow(tr_val[:,6,:].T)\n",
    "plt.colorbar()"
   ]
  },
  {
   "cell_type": "code",
   "execution_count": null,
   "metadata": {},
   "outputs": [],
   "source": [
    "## The following cells are for visualization purpose. You can run them after the first run of forward model."
   ]
  },
  {
   "cell_type": "code",
   "execution_count": 104,
   "metadata": {},
   "outputs": [
    {
     "name": "stderr",
     "output_type": "stream",
     "text": [
      "Skipping line 6005: expected 3 fields, saw 5\n",
      "Skipping line 6006: expected 3 fields, saw 10\n",
      "\n"
     ]
    },
    {
     "data": {
      "text/plain": [
       "Text(0,0.5,'z(m)')"
      ]
     },
     "execution_count": 104,
     "metadata": {},
     "output_type": "execute_result"
    },
    {
     "data": {
      "image/png": "[encoded data removed]",
      "text/plain": [
       "<Figure size 432x288 with 2 Axes>"
      ]
     },
     "metadata": {},
     "output_type": "display_data"
    }
   ],
   "source": [
    "data_save = read_SAVE()\n",
    "\n",
    "#data_save, 'y' variable here sets which y cross=section you want to plot\n",
    "plot_SAVE(data_save, nx, y=4, col = 'Temperature', clim = [0, 20])\n",
    "#data_save=np.array(data_save['Temperature'])\n",
    "#a = np.reshape(data_save,(nx[2],nx[1],nx[0])).T\n",
    "#plt.imshow(a[:,:,5].T)\n",
    "plt.colorbar(orientation='horizontal')\n",
    "plt.title('Pressure in Pa')\n",
    "plt.xlabel('x(m)')\n",
    "plt.ylabel('z(m)')\n"
   ]
  },
  {
   "cell_type": "code",
   "execution_count": null,
   "metadata": {},
   "outputs": [],
   "source": [
    "print(dat.history_block[2])\n",
    "plot_FoFT(measured_data, dat.history_block[2], variable = 'Temperature', ylim = [0, 100], xlim = [0, 86400*347]) # ylim sets the range fo"
   ]
  },
  {
   "cell_type": "code",
   "execution_count": null,
   "metadata": {},
   "outputs": [],
   "source": [
    "print(dat.history_block[0])\n",
    "plot_FoFT(measured_data, dat.history_block[0], variable = 'Temperature', ylim = [0, 100], xlim = [0, 86400*347]) # ylim sets the range fo\n"
   ]
  },
  {
   "cell_type": "code",
   "execution_count": null,
   "metadata": {},
   "outputs": [],
   "source": [
    "print(dat.history_block[1])\n",
    "plot_FoFT(measured_data, dat.history_block[1], variable = 'Temperature', ylim = [0, 20], xlim = [0, 86400*347]) # ylim sets the range fo\n"
   ]
  },
  {
   "cell_type": "code",
   "execution_count": null,
   "metadata": {},
   "outputs": [],
   "source": [
    "## Here you are printing the same \n",
    "##Elem = dat.history_block[1]\n",
    "##print(dat.history_block[:])\n",
    "#for Elm in dat.history_block:\n",
    "#    print(Elm)\n",
    "#    plot_FoFT(measured_data, Elm, variable = 'Temperature', ylim = [0, 100], xlim = [0, 86400]) # ylim sets the range for y axis"
   ]
  },
  {
   "cell_type": "code",
   "execution_count": null,
   "metadata": {},
   "outputs": [],
   "source": [
    "data_save_T=np.array(data_save['Temperature']) # you should give the whole data frame as input to plot_SAVE function\n",
    "data_save_T                                    # so you don't need to read the Temperature column here. I renamed the variable here"
   ]
  },
  {
   "cell_type": "code",
   "execution_count": null,
   "metadata": {},
   "outputs": [],
   "source": []
  },
  {
   "cell_type": "code",
   "execution_count": null,
   "metadata": {},
   "outputs": [],
   "source": []
  },
  {
   "cell_type": "code",
   "execution_count": null,
   "metadata": {},
   "outputs": [],
   "source": [
    "dat.grid.blocklist[1].centre[2]"
   ]
  },
  {
   "cell_type": "code",
   "execution_count": null,
   "metadata": {},
   "outputs": [],
   "source": [
    "plot_SAVE(data_save, nx, y=14, col = 'Temperature', clim = [0, 60])\n",
    "plt.title('Temperature in C')\n",
    "plt.xlabel('x(m)')\n",
    "plt.ylabel('z(m)')\n",
    "plt.colorbar(orientation='horizontal')"
   ]
  },
  {
   "cell_type": "code",
   "execution_count": null,
   "metadata": {},
   "outputs": [],
   "source": []
  },
  {
   "cell_type": "code",
   "execution_count": null,
   "metadata": {},
   "outputs": [],
   "source": []
  },
  {
   "cell_type": "code",
   "execution_count": null,
   "metadata": {},
   "outputs": [],
   "source": []
  },
  {
   "cell_type": "code",
   "execution_count": null,
   "metadata": {},
   "outputs": [],
   "source": []
  },
  {
   "cell_type": "code",
   "execution_count": null,
   "metadata": {},
   "outputs": [],
   "source": []
  },
  {
   "cell_type": "code",
   "execution_count": null,
   "metadata": {},
   "outputs": [],
   "source": []
  },
  {
   "cell_type": "code",
   "execution_count": null,
   "metadata": {},
   "outputs": [],
   "source": []
  },
  {
   "cell_type": "code",
   "execution_count": null,
   "metadata": {},
   "outputs": [],
   "source": []
  },
  {
   "cell_type": "code",
   "execution_count": null,
   "metadata": {},
   "outputs": [],
   "source": []
  },
  {
   "cell_type": "code",
   "execution_count": null,
   "metadata": {},
   "outputs": [],
   "source": []
  },
  {
   "cell_type": "code",
   "execution_count": null,
   "metadata": {},
   "outputs": [],
   "source": []
  },
  {
   "cell_type": "code",
   "execution_count": null,
   "metadata": {},
   "outputs": [],
   "source": []
  },
  {
   "cell_type": "code",
   "execution_count": null,
   "metadata": {},
   "outputs": [],
   "source": []
  },
  {
   "cell_type": "code",
   "execution_count": null,
   "metadata": {},
   "outputs": [],
   "source": []
  },
  {
   "cell_type": "code",
   "execution_count": null,
   "metadata": {},
   "outputs": [],
   "source": []
  },
  {
   "cell_type": "code",
   "execution_count": null,
   "metadata": {},
   "outputs": [],
   "source": []
  },
  {
   "cell_type": "code",
   "execution_count": null,
   "metadata": {},
   "outputs": [],
   "source": []
  }
 ],
 "metadata": {
  "kernelspec": {
   "display_name": "Python 3",
   "language": "python",
   "name": "python3"
  },
  "language_info": {
   "codemirror_mode": {
    "name": "ipython",
    "version": 3
   },
   "file_extension": ".py",
   "mimetype": "text/x-python",
   "name": "python",
   "nbconvert_exporter": "python",
   "pygments_lexer": "ipython3",
   "version": "3.6.4"
  }
 },
 "nbformat": 4,
 "nbformat_minor": 2
}
