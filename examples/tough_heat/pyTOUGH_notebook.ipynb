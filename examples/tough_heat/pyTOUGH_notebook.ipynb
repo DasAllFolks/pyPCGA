{
 "cells": [
  {
   "cell_type": "code",
   "execution_count": 1,
   "metadata": {},
   "outputs": [],
   "source": [
    "import math\n",
    "import os\n",
    "import pandas as pd\n",
    "import matplotlib.pyplot as plt\n",
    "%matplotlib inline\n",
    "import sys\n",
    "sys.path.insert(0, '/home/hojat/Desktop/TOUGH2/PyTOUGH-master')\n",
    "\n",
    "## PyTOUGH specific modules\n",
    "from mulgrids import *\n",
    "from t2thermo import *\n",
    "from t2data import *\n",
    "from t2incons import *\n",
    "from os import system\n",
    "import scipy.io as sio\n",
    "\n",
    "from pyPCGA import PCGA"
   ]
  },
  {
   "cell_type": "code",
   "execution_count": 31,
   "metadata": {},
   "outputs": [
    {
     "name": "stderr",
     "output_type": "stream",
     "text": [
      "/home/hojat/anaconda3/envs/py2/lib/python2.7/site-packages/ipykernel_launcher.py:290: DeprecationWarning: `Tracer` is deprecated since version 5.1, directly use `IPython.core.debugger.Pdb.set_trace()`\n"
     ]
    }
   ],
   "source": [
    "def clear_FOFT():\n",
    "    \"\"\"To delete previous FOFT qnd MESH files in the directory.\n",
    "You can delete SAVE, INCON, ... files the same way if you need to do it before running\"\"\"\n",
    "    for file in os.listdir(\".\"):\n",
    "        if file.startswith(\"FOFT\") or file.startswith(\"MES\"):\n",
    "            try:\n",
    "                os.remove(file)\n",
    "            except Exception.e:  # was a comma, changed to a period\n",
    "                print(e)         # was print e, changed to print(e)\n",
    "                \n",
    "def forward_run():\n",
    "    \"\"\" running the tough2 model\"\"\"\n",
    "    system(\"mpiexec tough2-mp-eos1.debug\")\n",
    "\n",
    "def read_FOFT():\n",
    "    \"\"\" Function to read all FOFT files in the directory.\n",
    "    The function returns a pandas dataframe containing measurements\"\"\"\n",
    "    FOFT_files = [filename for filename in os.listdir('.') if filename.startswith(\"FOFT\")]\n",
    "    columns_name = ['Element','Time', 'Pressure', 'Saturation','Temperature']\n",
    "    rows = [] \n",
    "    for filename in FOFT_files:\n",
    "        with open(filename, 'rb') as f_input:\n",
    "            count =0\n",
    "            for row in f_input:\n",
    "                if count > 1:\n",
    "                    a= str(row[0:-1])\n",
    "                    cols = [col for col in a[2:-1].split(' ') if len(col)]\n",
    "                    if len(cols)==7:\n",
    "                        cols[1] = cols[1].ljust(2)\n",
    "                        cols[1] = cols[1].rjust(3) + cols[2].rjust(2)\n",
    "                        cols.pop(2)\n",
    "                        cols.pop(0)\n",
    "                        rows.append(cols)\n",
    "                    if len(cols)==6:\n",
    "                        cols[1] = cols[1].rjust(5)\n",
    "                        cols.pop(0)\n",
    "                        rows.append(cols)\n",
    "                count+=1\n",
    "    frame = pd.DataFrame(rows, columns=columns_name)\n",
    "    frame[['Time','Pressure','Saturation','Temperature']] = frame[['Time','Pressure','Saturation','Temperature']].apply(pd.to_numeric)\n",
    "    return frame\n",
    "\n",
    "def read_FOFT_old():\n",
    "    \"\"\" Function to read all FOFT files in the directory.\n",
    "    The function returns a pandas dataframe containing measurements\"\"\"\n",
    "    FOFT_files = [filename for filename in os.listdir('.') if filename.startswith(\"FOFT\")]\n",
    "    columns = ['FOFT','Element','Time', 'Pressure', 'Saturation','Temperature']\n",
    "    b=pd.read_csv(FOFT_files[0],names =columns,  sep=\"\\s+\", header =None, skiprows=[0,1])\n",
    "    if len(b.columns) ==6:\n",
    "        b[1] = b[1].str.rjust(5)\n",
    "        b = b.drop([0], axis=1)\n",
    "    elif len(b.columns) ==7:\n",
    "        b[1] = b[1].str.ljust(2)\n",
    "        b[2]=b[2].astype(str)\n",
    "        b[1] = b[1].str.rjust(3) + b[2].str.rjust(2)\n",
    "        b = b.drop([0,2], axis=1)\n",
    "    b.columns= ['Element','Time', 'Gas Pressure', 'Gas Saturation','Temperature']\n",
    "    for i in range(1, len(FOFT_files)):\n",
    "        a=pd.read_csv(FOFT_files[i], sep=\"\\s+\", header =None, skiprows=[0,1])\n",
    "        if len(a.columns) ==6:\n",
    "            a[1] = a[1].str.rjust(5)\n",
    "            a = a.drop([0], axis=1)\n",
    "        elif len(a.columns) ==7:\n",
    "            a[1] = a[1].str.ljust(2)\n",
    "            a[2] = a[2].astype(str)\n",
    "            a[1] = a[1].str.rjust(3) + a[2].str.rjust(2)\n",
    "            a = a.drop([0,2], axis=1)\n",
    "        a.columns= ['Element','Time', 'Gas Pressure', 'Gas Saturation','Temperature']\n",
    "        b=pd.concat([b,a], ignore_index=True)\n",
    "\n",
    "    return b\n",
    "\n",
    "def set_measurement_blk_list(dat, x_mid, dx, y_mid, dy, z_mid, dz):\n",
    "    dat.history_block=[]\n",
    "    for blk in dat.grid.blocklist[1:]:\n",
    "        if z_mid-dz/2 < blk.centre[2] < z_mid+dz/2:\n",
    "            if x_mid-dx/2 < blk.centre[0] < x_mid+dx/2:\n",
    "                if y_mid-dy/2 < blk.centre[1] < y_mid+dy/2:\n",
    "                    dat.history_block.append(blk.name)\n",
    "                    \n",
    "def set_measurement_blk(dat, x, y, z, nx):\n",
    "    \n",
    "    \n",
    "    dat.history_block = []\n",
    "    x_obs = np.array(x)\n",
    "    y_obs = np.array(y)\n",
    "    z_obs = np.array(z)\n",
    "    block_list = nx[0]*nx[1]*(z_obs-1)+nx[0]*(y_obs-1)+x_obs\n",
    "    for blk_number in block_list:\n",
    "        dat.history_block.append(dat.grid.blocklist[blk_number].name)\n",
    "\n",
    "\n",
    "def heat_generator(dat, geo, center, L, qmax, L_scale, method = 'Square'):\n",
    "    \n",
    "    \n",
    "    cols =[]\n",
    "    if method =='Square':\n",
    "        #for col in geo.columnlist:\n",
    "        #    if center[0] - L/2 <= col.centre[0] <= center[0] + L/2:\n",
    "        #        if center[1] - L/2<= col.centre[1]<= center[1] + L/2:\n",
    "        #            cols.append(col)\n",
    "        #dxs=np.array([col.centre[0]-center[0] for col in cols])/L_scale\n",
    "        #dys=np.array([col.centre[1]-center[1] for col in cols])/L_scale\n",
    "        #print(dxs)\n",
    "        #print(dys)\n",
    "        #corlength = 0.5\n",
    "        #qcol=qmax*np.exp(-0.5*((dxs*dxs+dys*dys)/(corlength*corlength)))\n",
    "        #print(qcol)\n",
    "        \n",
    "        #layer=geo.layerlist[-1] Changing to add the heat in a non-boundary layer\n",
    "        layer=geo.layerlist[-5]\n",
    "        # Page 87 from pyTOUGH #####################################\n",
    "        # adding the generator to the problem\n",
    "        dat.clear_generators()\n",
    "        \n",
    "        dat.add_generator(t2generator(name=' in1', block=' d425', type='COM1', gx=.6, ex=3.E+5))\n",
    "        dat.add_generator(t2generator(name=' in2', block=' e425', type='COM1', gx=.6, ex=3.E+5))\n",
    "        dat.add_generator(t2generator(name=' in3', block=' f425', type='COM1', gx=.6, ex=3.E+5))\n",
    "        dat.add_generator(t2generator(name=' in4', block=' g425', type='COM1', gx=.6, ex=3.E+5))\n",
    "        \n",
    "        dat.add_generator(t2generator(name=' ex1', block=' d445', type='COM1', gx=-.6))\n",
    "        dat.add_generator(t2generator(name=' ex2', block=' e445', type='COM1', gx=-.6))\n",
    "        dat.add_generator(t2generator(name=' ex3', block=' f445', type='COM1', gx=-.6))\n",
    "        dat.add_generator(t2generator(name=' ex4', block=' g445', type='COM1', gx=-.6))\n",
    "        \n",
    "        #for col,q in zip(cols,qcol):\n",
    "        #    blkname=geo.block_name(layer.name,col.name)\n",
    "        #    genname=' q'+col.name\n",
    "        #    dat.add_generator(t2generator(name=genname, block=blkname, type='HEAT', gx=q*col.area))\n",
    "        dat.short_output={}\n",
    "    else:\n",
    "        raise NotImplementedError\n",
    "\n",
    "def construct_grid(dx_grid, nx):\n",
    "    \"\"\"Constructing a TOUGH2 input geometry file for a 3D rectangular\n",
    "    model with the domain size of 300*300*20 m^3 and grid size 10*10*2 m^3.\"\"\"\n",
    "\n",
    "    # Here we set up a rectangular grid. For other option, refer to pytough examples and tutorials\n",
    "    dx = [dx_grid[0]]*nx[0]\n",
    "    dy = [dx_grid[1]]*nx[1]\n",
    "    dz = [dx_grid[2]]*nx[2]\n",
    "    # use convention =2 for naming convention. Otherwise it will generate an error when you want to write INFILE\n",
    "    # for atmos_type, refer to page 124 pyTOUGH tutorial\n",
    "    geo = mulgrid().rectangular(dx, dy, dz, atmos_type = 0, convention=2) \n",
    "    geo.write('geom.dat')      # write the geometry file\n",
    "\n",
    "    return geo\n",
    "\n",
    "\n",
    "#def set_rocktype(dat, z_bottom, z_middle, z_top):\n",
    "    \n",
    "\n",
    "def read_SAVE():\n",
    "    data_SAVE= pd.read_csv('SAVE',sep=\"\\s+\", header =None, skiprows=[0], error_bad_lines = False)\n",
    "    data_SAVE = data_SAVE.drop([0,1, len(data_SAVE)-1])\n",
    "    blk_1 = []\n",
    "    blk_2 = []\n",
    "    blk_3 = []\n",
    "    for i in range(2,len(data_SAVE)+2):\n",
    "        if i%2 ==0:\n",
    "            if math.isnan(data_SAVE[2][i]):\n",
    "                blk_1.append(data_SAVE[1][i])\n",
    "            else:\n",
    "                blk_1.append(data_SAVE[2][i])\n",
    "        else:\n",
    "            blk_2.append(float(data_SAVE[0][i]))\n",
    "            blk_3.append(float(data_SAVE[1][i]))\n",
    "    data_save = {'Saturation': blk_1,\n",
    "                 'Pressure': blk_2,\n",
    "                 'Temperature': blk_3}\n",
    "    \n",
    "    df = pd.DataFrame.from_dict(data_save)\n",
    "    \n",
    "    return df\n",
    "\n",
    "def plot_FoFT(data_FOFT, Elem, variable = 'Temperature', ylim = [0, 100], xlim = [0, 86400]):\n",
    "    ###NOTE THAT PLOTFOFT WILL NOT PLOT ANY OF THE LOCATIONS THAT HAVE A BLANK IN THEIR NAME\n",
    "    x = np.array(data_FOFT[data_FOFT['Element']==Elem]['Time'])\n",
    "    plt.plot(x,data_FOFT[data_FOFT['Element']==Elem][variable])\n",
    "    #plt.axis([0, x[-1], ylim[0], ylim[1]])\n",
    "    plt.axis([xlim[0], xlim[1], ylim[0], ylim[1]])\n",
    "    #plt.yticks([])\n",
    "    plt.show()\n",
    "    \n",
    "def plot_SAVE(df, nx, y=0, col = 'Temperature', clim = [0, 100]):\n",
    "    # old code\n",
    "    #data_save=np.array(df['Col_1'])\n",
    "    #a = np.reshape(data_save,(nx[2],nx[1],nx[0])).T\n",
    "    #plt.imshow(a[:,:,5].T)\n",
    "    #plt.colorbar()\n",
    "    \n",
    "    #df: output of read_SAVE() function\n",
    "    # nx: number of grids in the domain in each direction\n",
    "    # col: can be 'Temperature', 'Pressure', or 'Saturation'\n",
    "    # clim: determines the range for colorbar\n",
    "    \n",
    "    #data_save=np.array(df[col])\n",
    "    #a = np.reshape(data_save,(nx[2],nx[1],nx[0])).T\n",
    "    #plt.imshow(a[:,y,:].T)\n",
    "    #plt.colorbar()\n",
    "    #plt.clim(clim[0],clim[1])\n",
    "    #plt.title(col)\n",
    "    \n",
    "    elevation_save = np.zeros((9000,1))\n",
    "    for idblock in range(1,9001):\n",
    "        elevation_save[idblock-1] = dat.grid.blocklist[idblock].centre[2]\n",
    "        \n",
    "    z = np.reshape(elevation_save,(nx[2],nx[1],nx[0]))\n",
    "    \n",
    "    data_save=np.array(df[col])\n",
    "    \n",
    "    if col == 'Pressure':\n",
    "        # Gas pressure converted to m H2O + elevation = hydraulic head in water\n",
    "        a = np.reshape(data_save*0.00010197,(nx[2],nx[1],nx[0])).T + z.T\n",
    "        #a = np.reshape(data_save,(nx[2],nx[1],nx[0])).T \n",
    "        plt.imshow(a[:,y,:].T)\n",
    "        #plt.colorbar()\n",
    "        plt.clim(clim[0],clim[1])\n",
    "        plt.title('Hydraulic head (m)')\n",
    "    else:\n",
    "        a = np.reshape(data_save,(nx[2],nx[1],nx[0])).T\n",
    "        plt.imshow(a[:,y,:].T)\n",
    "        #plt.colorbar()\n",
    "        plt.clim(clim[0],clim[1])\n",
    "        plt.title(col)\n",
    "\n",
    "def modify_infile():\n",
    "    f = open(\"INFILE\", \"r\")\n",
    "    contents = f.readlines()\n",
    "    f.close()\n",
    "    contents.insert(5, 'SEED\\n')\n",
    "    f = open(\"INFILE\", \"w\")\n",
    "    contents = \"\".join(contents)\n",
    "    f.write(contents)\n",
    "    f.close()\n",
    "    \n",
    "    return\n",
    "\n",
    "def observation_model():\n",
    "    \n",
    "    #obs_type = 'Temperature'\n",
    "    obs_type = 'Pressure'\n",
    "    #measured_data = read_FOFT()\n",
    "    measured_data = read_SAVE()\n",
    "    obs = measured_data[obs_type]\n",
    "    return obs\n",
    "    \n",
    "    \n",
    "def forward_model(s, parallelization, ncores=None):\n",
    "    print('shape of s is:')\n",
    "    print(s.shape)\n",
    "    print('The first 10 elements of first three columns are:')\n",
    "    print(s[0:10,0:3])\n",
    "    measured_data = read_FOFT()\n",
    "    obs1=measured_data['Temperature']\n",
    "    b=np.array(obs1)\n",
    "    blk = dat.grid.blocklist[1:]\n",
    "    if parallelization:\n",
    "        obs = np.zeros((n_obs,s.shape[1]))\n",
    "        for j in range(s.shape[1]):\n",
    "            print(s.shape)\n",
    "            s_in = np.exp(s[:,j])\n",
    "            for blk, pmx in zip(dat.grid.blocklist[1:], s_in):\n",
    "                blk.pmx = pmx\n",
    "            dat.write('INFILE')\n",
    "            modify_infile()\n",
    "            clear_FOFT()\n",
    "            system(\"mpiexec tough2-mp-eos1.debug\")\n",
    "            #measured_data = read_FOFT()\n",
    "            #pressure=measured_data['Temperature']\n",
    "            measurements = observation_model()\n",
    "            b=np.array(measurements)\n",
    "            obs[:,j] = b.reshape(-1,)\n",
    "        return obs\n",
    "            \n",
    "    for i in range(len(s)):\n",
    "        blk[i].pmx = float(s[i])\n",
    "    dat.write('INFILE')\n",
    "    modify_infile()\n",
    "    clear_FOFT()\n",
    "    system(\"mpiexec tough2-mp-eos1.debug\")\n",
    "    #measured_data = read_FOFT()\n",
    "    #pressure=measured_data['Temperature']\n",
    "    measurements = observation_model()\n",
    "    obs=np.array(measurements)\n",
    "    obs = obs.reshape(-1,1)\n",
    "    return obs\n",
    "\n",
    "## From Harry's code\n",
    "from IPython.core.debugger import Tracer; debug_here = Tracer()\n",
    "\n",
    "def DistanceVector(x, y, theta):\n",
    "    dim = x.shape[1]\n",
    "    DM = np.zeros(x.shape[0])\n",
    "\n",
    "    if dim == 1:\n",
    "        DM = (x[:] - y) ** 2. / theta ** 2.\n",
    "    else:\n",
    "        for i in np.arange(dim):\n",
    "            DM += (x[:, i] - y[i]) ** 2. / theta[i] ** 2.\n",
    "\n",
    "    DM = np.sqrt(DM)\n",
    "    return DM\n",
    "\n",
    "\n",
    "def CreateRow(xmin, xmax, N, kernel, theta):\n",
    "    \"\"\"\n",
    "    Create row column of covariance matrix\n",
    "    \"\"\"\n",
    "    dim = N.size\n",
    "\n",
    "    if dim == 1:\n",
    "        x = np.linspace(xmin[0], xmax[0], N[0])\n",
    "        x = x.reshape(-1,1) # make it 2D for consistency\n",
    "        R = DistanceVector(x, x[0], theta)\n",
    "    elif dim == 2:\n",
    "        x1 = np.linspace(xmin[0], xmax[0], N[0])\n",
    "        x2 = np.linspace(xmin[1], xmax[1], N[1])\n",
    "\n",
    "        xx, yy = np.meshgrid(x1, x2, indexing='ij')\n",
    "\n",
    "        x = np.vstack((np.ravel(xx, order='F'), np.ravel(yy, order='F'))).transpose()\n",
    "        R = DistanceVector(x, x[0, :].transpose(), theta)\n",
    "\n",
    "    elif dim == 3:\n",
    "        x1 = np.linspace(xmin[0], xmax[0], N[0])\n",
    "        x2 = np.linspace(xmin[1], xmax[1], N[1])\n",
    "        x3 = np.linspace(xmin[2], xmax[2], N[2])\n",
    "\n",
    "        #xx, yy, zz = np.meshgrid(x1, x2, x3, indexing='ij')\n",
    "        xx, yy, zz = np.meshgrid(x1, x2, x3, indexing='ij')\n",
    "\n",
    "        x = np.vstack((np.ravel(xx, order='F'), np.ravel(yy, order='F'), np.ravel(zz, order='F'))).transpose()\n",
    "        R = DistanceVector(x, x[0, :].transpose(), theta)\n",
    "\n",
    "    else:\n",
    "        raise ValueError(\"Support 1,2 and 3 dimensions\")\n",
    "\n",
    "    row = kernel(R)\n",
    "\n",
    "    return row, x\n",
    "\n",
    "\n",
    "def ToeplitzProduct(x, row, N):\n",
    "    ''' Toeplitz matrix times x\n",
    "    :param x: x for Qx\n",
    "    :param row: from CreateRow\n",
    "    :param N: size in each dimension ex) N = [2,3,4]\n",
    "    :return: Qx\n",
    "    '''\n",
    "    dim = N.size\n",
    "\n",
    "    if dim == 1:\n",
    "        circ = np.concatenate((row, row[-2:0:-1])).reshape(-1)\n",
    "        padded = np.concatenate((x, np.zeros(N[0] - 2)))\n",
    "        result = np.fft.ifft(np.fft.fft(circ) * np.fft.fft(padded))\n",
    "        result = np.real(result[0:N[0]])\n",
    "\n",
    "    elif dim == 2:\n",
    "        circ = np.reshape(row, (N[0], N[1]), order='F')\n",
    "        circ = np.concatenate((circ, circ[:, -2:0:-1]), axis=1)\n",
    "        circ = np.concatenate((circ, circ[-2:0:-1, :]), axis=0)\n",
    "\n",
    "        n = np.shape(circ)\n",
    "        padded = np.reshape(x, (N[0], N[1]), order='F')\n",
    "\n",
    "        result = np.fft.ifft2(np.fft.fft2(circ) * np.fft.fft2(padded, n))\n",
    "        result = np.real(result[0:N[0], 0:N[1]])\n",
    "        result = np.reshape(result, -1, order='F')\n",
    "\n",
    "    elif dim == 3:\n",
    "        circ = np.reshape(row, (N[0], N[1], N[2]), order='F')\n",
    "        circ = np.concatenate((circ, circ[:, :, -2:0:-1]), axis=2)\n",
    "        circ = np.concatenate((circ, circ[:, -2:0:-1, :]), axis=1)\n",
    "        circ = np.concatenate((circ, circ[-2:0:-1, :, :]), axis=0)\n",
    "\n",
    "        n = np.shape(circ)\n",
    "        padded = np.reshape(x, N, order='F')\n",
    "\n",
    "        result = np.fft.ifftn(np.fft.fftn(circ) * np.fft.fftn(padded, n))\n",
    "        result = np.real(result[0:N[0], 0:N[1], 0:N[2]])\n",
    "        result = np.reshape(result, -1, order='F')\n",
    "    else:\n",
    "        raise ValueError(\"Support 1,2 and 3 dimensions\")\n",
    "\n",
    "    return result\n",
    "\n",
    "\n",
    "def Realizations(row, N):\n",
    "    dim = N.size\n",
    "    if dim == 1:\n",
    "        circ = np.concatenate((row, row[-2:0:-1]))\n",
    "        n = circ.shape\n",
    "\n",
    "        eps = np.random.normal(0, 1, n) + 1j * np.random.normal(0, 1, n)\n",
    "        res = np.fft.ifft(np.sqrt(np.fft.fft(circ)) * eps) * np.sqrt(n)\n",
    "\n",
    "        r1 = np.real(res[0:N[0]])\n",
    "        r2 = np.imag(res[0:N[0]])\n",
    "\n",
    "    elif dim == 2:\n",
    "        circ = np.reshape(row, (N[0], N[1]), order='F')\n",
    "        circ = np.concatenate((circ, circ[:, -2:0:-1]), axis=1)\n",
    "        circ = np.concatenate((circ, circ[-2:0:-1, :]), axis=0)\n",
    "\n",
    "        n = np.shape(circ)\n",
    "        eps = np.random.normal(0, 1, n) + 1j * np.random.normal(0, 1, n)\n",
    "\n",
    "        res = np.fft.ifft2(np.sqrt(np.fft.fft2(circ)) * eps) * np.sqrt(n[0] * n[1])\n",
    "        res = res[0:N[0], 0:N[1]]\n",
    "        res = np.reshape(res, -1, order='F')\n",
    "\n",
    "        r1 = np.real(res)\n",
    "        r2 = np.imag(res)\n",
    "\n",
    "    elif dim == 3:\n",
    "        circ = np.reshape(row, (N[0], N[1], N[2]), order='F')\n",
    "        circ = np.concatenate((circ, circ[:, :, -2:0:-1]), axis=2)\n",
    "        circ = np.concatenate((circ, circ[:, -2:0:-1, :]), axis=1)\n",
    "        circ = np.concatenate((circ, circ[-2:0:-1, :, :]), axis=0)\n",
    "\n",
    "        n = np.shape(circ)\n",
    "        eps = np.random.normal(0, 1, n) + 1j * np.random.normal(0, 1, n)\n",
    "\n",
    "        res = np.fft.ifftn(np.sqrt(np.fft.fftn(circ)) * eps) * np.sqrt(n[0] * n[1] * n[2])\n",
    "        res = res[0:N[0], 0:N[1], 0:N[2]]\n",
    "        res = np.reshape(res, -1, order='F')\n",
    "\n",
    "        r1 = np.real(res)\n",
    "        r2 = np.imag(res)\n",
    "    else:\n",
    "        raise ValueError(\"Support 1,2 and 3 dimensions\")\n",
    "\n",
    "    return r1, r2, eps\n"
   ]
  },
  {
   "cell_type": "code",
   "execution_count": 48,
   "metadata": {},
   "outputs": [],
   "source": [
    "# Create TOUGH2 input data file:\n",
    "dat = t2data()\n",
    "dat.title = '3D synthetic Ex1'\n",
    "\n",
    "dx = [10., 10., 2.]   # grid size\n",
    "nx = [30, 30, 10]     # number of grids in each dimension. Don't use large grid because of pytough naming convention\n",
    "geo = construct_grid(dx, nx)\n",
    "dat.grid = t2grid().fromgeo(geo)\n"
   ]
  },
  {
   "cell_type": "code",
   "execution_count": 49,
   "metadata": {},
   "outputs": [
    {
     "name": "stdout",
     "output_type": "stream",
     "text": [
      "49.28699018176869\n",
      "1.381912600245294\n"
     ]
    },
    {
     "data": {
      "image/png": "[encoded data removed]",
      "text/plain": [
       "<Figure size 432x288 with 2 Axes>"
      ]
     },
     "metadata": {},
     "output_type": "display_data"
    }
   ],
   "source": [
    "alpha = 100\n",
    "def kernel(R):\n",
    "        return alpha * np.exp(-R)\n",
    "prior_std = 1\n",
    "prior_cov_scale = np.array([100., 100., 10])\n",
    "#def kernel(r): return (prior_std**2)*np.exp(-r**2)\n",
    "\n",
    "dim = 3\n",
    "np.random.seed(101)\n",
    "N = np.array(nx)\n",
    "dX = np.array(dx)\n",
    "x_max = N*dX\n",
    "x_min = np.zeros(dim)\n",
    "theta = np.array([800,600,40])\n",
    "row, pts = CreateRow(x_min, x_max, N, kernel,theta)\n",
    "r1, r2, ep = Realizations(row, N)\n",
    "realization = np.sqrt(r1**2+r2**2)\n",
    "realization1 = realization.reshape(N[2],N[1],N[0])\n",
    "plt.imshow(realization1[6,:,:] )\n",
    "plt.colorbar(orientation='horizontal')\n",
    "plt.clim(0,50)\n",
    "print(np.max(realization))\n",
    "print(np.min(realization))\n",
    "s_true = realization1"
   ]
  },
  {
   "cell_type": "code",
   "execution_count": 50,
   "metadata": {},
   "outputs": [
    {
     "data": {
      "image/png": "[encoded data removed]",
      "text/plain": [
       "<Figure size 432x288 with 2 Axes>"
      ]
     },
     "metadata": {},
     "output_type": "display_data"
    }
   ],
   "source": [
    "#data_pmx = sio.loadmat('true_pmx.mat')\n",
    "#s_true = data_pmx['s_true']\n",
    "#pts = data_pmx['pts']\n",
    "s_true = np.log(s_true)\n",
    "plt.imshow(s_true[1,:,:])\n",
    "plt.colorbar()\n",
    "s_true = s_true.reshape(-1,1)\n",
    "realization = s_true"
   ]
  },
  {
   "cell_type": "code",
   "execution_count": 51,
   "metadata": {},
   "outputs": [],
   "source": [
    "# simulation parameters:\n",
    "# Table 4.9 page 78 pytough tutorial and Appendix E of TOUGH2 tutorial\n",
    "# data.parameter is a dictionary\n",
    "# each parameter can be called as dat.parameter['parameter name']\n",
    "dat.parameter.update(\n",
    "    {'max_timesteps': 9000,                 # maximum number of time steps\n",
    "     #'tstop': 0.32342126E+08,                   # stop time\n",
    "     'tstop': 1000000,                   # stop time\n",
    "     'const_timestep': 6,                   # time step length\n",
    "     'max_timestep':86400,                   # maximum time step size\n",
    "     'absolute_error': 1,                   # absolute convergence tolerance\n",
    "     'relative_error': 5.e-6,               # relative convergence tolerance\n",
    "     'print_interval': 9000,                # time step interval for printing\n",
    "     'timestep_reduction': 3.,              # time step reduction factor\n",
    "     'gravity': 9.81,                       # gravitational acceleration\n",
    "     'default_incons': [100.e4, 10]})      # default initial conditions\n",
    "    # Pressure in Pa, 100 m water = 10.e5 Pa water, 10 is the temperature in Celcius\n",
    "dat.start = True"
   ]
  },
  {
   "cell_type": "code",
   "execution_count": 52,
   "metadata": {},
   "outputs": [],
   "source": [
    "\n",
    "# Table 4.9 page 78 pytough tutorial and Appendix E of TOUGH2 tutorial\n",
    "# http://citeseerx.ist.psu.edu/viewdoc/download?doi=10.1.1.396.8810&rep=rep1&type=pdf\n",
    "# Set MOPs: PARAM option in INFILE\n",
    "dat.parameter['option'][1] = 1\n",
    "dat.parameter['option'][5] = 3\n",
    "dat.parameter['option'][7] = 1\n",
    "dat.parameter['option'][11] = 2\n",
    "dat.parameter['option'][12] = 2\n",
    "dat.parameter['option'][15] = 1\n",
    "dat.parameter['option'][16] = 4\n",
    "dat.parameter['option'][20] = 0\n",
    "dat.parameter['option'][21] = 1\n"
   ]
  },
  {
   "cell_type": "code",
   "execution_count": 53,
   "metadata": {},
   "outputs": [],
   "source": [
    "# Set relative permeability (Corey) and capillarity functions:\n",
    "# Table 4.10, page 79 PYTOUGH\n",
    "dat.relative_permeability = {'type': 7, 'parameters': [0.95, 0.5, 1., 0.25, 0.]}\n",
    "dat.capillarity = {'type': 7, 'parameters': [0.8, 0.32, 1.e-4, 1.e7, 0.999]}\n"
   ]
  },
  {
   "cell_type": "code",
   "execution_count": 54,
   "metadata": {},
   "outputs": [],
   "source": [
    "# rocktype object, Table 3.3, page 67 PyTOUGH\n",
    "r1 = rocktype('dfalt', permeability = [0.e-13]*3,density = 2600, porosity = 0.25,conductivity =2.51 , specific_heat = 920,)\n",
    "r2 = rocktype('HOMO1', permeability = [9.e-13, 3.e-14, 3.e-14],density = 2600, porosity = 0.25,conductivity =2.51 , specific_heat = 920,)\n",
    "#r4 = rocktype('HOMO2', permeability = [9.e-15, 3.e-15, 3.e-15],density = 2600, porosity = 0.25,conductivity =2.51 , specific_heat = 920,)\n",
    "r3 = rocktype('OUTB1', permeability = [1.e-13]*3,density = 2600, porosity = 0.25,conductivity =2.51 , specific_heat = 20000,)\n",
    "\n",
    "dat.grid.add_rocktype(r2)\n",
    "dat.grid.add_rocktype(r3)\n",
    "#dat.grid.add_rocktype(r4)\n",
    "\n",
    "#dat.grid.add_rocktype(r3)\n",
    "dat.multi.update({'num_components': 1, 'num_equations':2, 'num_phases':2, 'num_secondary_parameters':6})\n"
   ]
  },
  {
   "cell_type": "code",
   "execution_count": 55,
   "metadata": {},
   "outputs": [
    {
     "name": "stdout",
     "output_type": "stream",
     "text": [
      "{'num_phases': 2, 'num_components': 1, 'num_secondary_parameters': 6, 'num_equations': 2}\n"
     ]
    },
    {
     "data": {
      "text/plain": [
       "array([1.e-13, 1.e-13, 1.e-13])"
      ]
     },
     "execution_count": 55,
     "metadata": {},
     "output_type": "execute_result"
    }
   ],
   "source": [
    "print(dat.multi)\n",
    "dat.grid.rocktype\n",
    "dat.grid.rocktype\n",
    "dat.grid.check\n",
    "r3.permeability"
   ]
  },
  {
   "cell_type": "code",
   "execution_count": 56,
   "metadata": {},
   "outputs": [
    {
     "name": "stdout",
     "output_type": "stream",
     "text": [
      "374.330162037\n"
     ]
    }
   ],
   "source": [
    "# SOLVR Table 4.11 page 79 PyTough\n",
    "dat.solver.update({'type': 5, 'z_precond':1,'o_precond': 0, 'relative_max_iterations':.8,'closure':1.e-7 })\n",
    "# TIMES table 4.8\n",
    "dat.output_times.update({'num_times_specified':2, 'time': [0.8640E+04, 0.32342126E+08]})\n",
    "print(dat.output_times['time'][1]/86400)\n",
    "# prints output times in days"
   ]
  },
  {
   "cell_type": "code",
   "execution_count": 57,
   "metadata": {},
   "outputs": [
    {
     "data": {
      "text/plain": [
       "array([95., 35., -3.])"
      ]
     },
     "execution_count": 57,
     "metadata": {},
     "output_type": "execute_result"
    }
   ],
   "source": [
    "dat.grid.blocklist[1000].centre"
   ]
  },
  {
   "cell_type": "code",
   "execution_count": 58,
   "metadata": {},
   "outputs": [],
   "source": [
    "# rocktypes:\n",
    "# Setting rocktype based on the block's 'z' coordinate\n",
    "z_bottom = -17\n",
    "z_top = -2\n",
    "\n",
    "# assign all non boundary elements to r2\n",
    "for blk in dat.grid.blocklist[1:]: \n",
    "    if z_bottom < blk.centre[2] < z_top:\n",
    "        blk.rocktype=r2\n",
    "    else: blk.rocktype=r3\n",
    "   \n",
    "lense = 0\n",
    "\n",
    "if lense==1:\n",
    "    # within homeogeneous domain, assign a lense that is in the way of the injection\n",
    "    lense_bottom_z = -14\n",
    "    lense_top_z = -8\n",
    "    lense_start_x = 65\n",
    "    lense_end_x = 115\n",
    "    for blk in dat.grid.blocklist[1:]:\n",
    "        if lense_bottom_z < blk.centre[2] < lense_top_z:\n",
    "            if lense_start_x < blk.centre[0] < lense_end_x:\n",
    "                blk.rocktype=r4\n",
    "    \n",
    "dat.grid.clean_rocktypes()"
   ]
  },
  {
   "cell_type": "code",
   "execution_count": 59,
   "metadata": {},
   "outputs": [],
   "source": [
    "\n",
    "for blk, pmx in zip(dat.grid.blocklist[1:], np.exp(s_true)):\n",
    "    #blk.pmx = 1\n",
    "    blk.pmx = pmx\n",
    "    #print(pmxb)"
   ]
  },
  {
   "cell_type": "code",
   "execution_count": 60,
   "metadata": {},
   "outputs": [
    {
     "name": "stdout",
     "output_type": "stream",
     "text": [
      "3 rock types; 9001 blocks; 26400 connections\n",
      "HOMO1\n"
     ]
    }
   ],
   "source": [
    "print(dat.grid)\n",
    "print(r2)"
   ]
  },
  {
   "cell_type": "code",
   "execution_count": 61,
   "metadata": {},
   "outputs": [],
   "source": [
    "# setting the blocks for FOFT\n",
    "# this section needs to be modified. FOFT blocks can be given by the coordinate of the block, or by the block name\n",
    "# currently, it accepts the cell number in each direction\n",
    "# for example the first cell here is located in grid (2,2) in 5th layer\n",
    "#x_obs = [7,15,20]#[2,4,14,16]\n",
    "#y_obs = [14,14,14]#[2,4,14,16]\n",
    "#z_obs = [6,6,6]\n",
    "\n",
    "# from function definition above \n",
    "# set_measurement_blk(dat, x, y, z, nx):\n",
    "#set_measurement_blk(dat, x_obs, y_obs, z_obs, nx)"
   ]
  },
  {
   "cell_type": "code",
   "execution_count": 62,
   "metadata": {},
   "outputs": [],
   "source": [
    "## you can add duplicates of this block with different xyz locations\n",
    "x_mid = 150\n",
    "y_mid = 150\n",
    "z_mid = -10\n",
    "dx = 80\n",
    "dy = 80\n",
    "dz = 8\n",
    "dat.history_block=[]\n",
    "set_measurement_blk_list(dat, x_mid, dx, y_mid, dy, z_mid, dz)"
   ]
  },
  {
   "cell_type": "code",
   "execution_count": 63,
   "metadata": {},
   "outputs": [
    {
     "name": "stdout",
     "output_type": "stream",
     "text": [
      "[' d342', ' d343', ' d344', ' d345', ' d346', ' d347', ' d348', ' d349', ' d372', ' d373', ' d374', ' d375', ' d376', ' d377', ' d378', ' d379', ' d402', ' d403', ' d404', ' d405', ' d406', ' d407', ' d408', ' d409', ' d432', ' d433', ' d434', ' d435', ' d436', ' d437', ' d438', ' d439', ' d462', ' d463', ' d464', ' d465', ' d466', ' d467', ' d468', ' d469', ' d492', ' d493', ' d494', ' d495', ' d496', ' d497', ' d498', ' d499', ' d522', ' d523', ' d524', ' d525', ' d526', ' d527', ' d528', ' d529', ' d552', ' d553', ' d554', ' d555', ' d556', ' d557', ' d558', ' d559', ' e342', ' e343', ' e344', ' e345', ' e346', ' e347', ' e348', ' e349', ' e372', ' e373', ' e374', ' e375', ' e376', ' e377', ' e378', ' e379', ' e402', ' e403', ' e404', ' e405', ' e406', ' e407', ' e408', ' e409', ' e432', ' e433', ' e434', ' e435', ' e436', ' e437', ' e438', ' e439', ' e462', ' e463', ' e464', ' e465', ' e466', ' e467', ' e468', ' e469', ' e492', ' e493', ' e494', ' e495', ' e496', ' e497', ' e498', ' e499', ' e522', ' e523', ' e524', ' e525', ' e526', ' e527', ' e528', ' e529', ' e552', ' e553', ' e554', ' e555', ' e556', ' e557', ' e558', ' e559', ' f342', ' f343', ' f344', ' f345', ' f346', ' f347', ' f348', ' f349', ' f372', ' f373', ' f374', ' f375', ' f376', ' f377', ' f378', ' f379', ' f402', ' f403', ' f404', ' f405', ' f406', ' f407', ' f408', ' f409', ' f432', ' f433', ' f434', ' f435', ' f436', ' f437', ' f438', ' f439', ' f462', ' f463', ' f464', ' f465', ' f466', ' f467', ' f468', ' f469', ' f492', ' f493', ' f494', ' f495', ' f496', ' f497', ' f498', ' f499', ' f522', ' f523', ' f524', ' f525', ' f526', ' f527', ' f528', ' f529', ' f552', ' f553', ' f554', ' f555', ' f556', ' f557', ' f558', ' f559', ' g342', ' g343', ' g344', ' g345', ' g346', ' g347', ' g348', ' g349', ' g372', ' g373', ' g374', ' g375', ' g376', ' g377', ' g378', ' g379', ' g402', ' g403', ' g404', ' g405', ' g406', ' g407', ' g408', ' g409', ' g432', ' g433', ' g434', ' g435', ' g436', ' g437', ' g438', ' g439', ' g462', ' g463', ' g464', ' g465', ' g466', ' g467', ' g468', ' g469', ' g492', ' g493', ' g494', ' g495', ' g496', ' g497', ' g498', ' g499', ' g522', ' g523', ' g524', ' g525', ' g526', ' g527', ' g528', ' g529', ' g552', ' g553', ' g554', ' g555', ' g556', ' g557', ' g558', ' g559']\n",
      "[30, 30, 10]\n"
     ]
    }
   ],
   "source": [
    "print(dat.history_block)\n",
    "print(nx)\n"
   ]
  },
  {
   "cell_type": "code",
   "execution_count": 64,
   "metadata": {},
   "outputs": [
    {
     "data": {
      "text/plain": [
       "256"
      ]
     },
     "execution_count": 64,
     "metadata": {},
     "output_type": "execute_result"
    }
   ],
   "source": [
    "# just checking the name of measurement blocks\n",
    "# f124 coordinates are 35,45,10  and it is the 2nd observationn point at 4,4,5 element :1\n",
    "\n",
    "len(dat.history_block)"
   ]
  },
  {
   "cell_type": "code",
   "execution_count": 65,
   "metadata": {},
   "outputs": [],
   "source": [
    "# adding generators to the model\n",
    "\n",
    "center = [150, 150] # [x,y] position of the center\n",
    "L = 40     # length of one side of square\n",
    "qmax = 15000\n",
    "L_scale = 300\n"
   ]
  },
  {
   "cell_type": "code",
   "execution_count": 66,
   "metadata": {},
   "outputs": [],
   "source": [
    "heat_generator(dat, geo, center, L, qmax, L_scale, method = 'Square')\n",
    "# just checking the generator blocks\n"
   ]
  },
  {
   "cell_type": "code",
   "execution_count": 67,
   "metadata": {},
   "outputs": [],
   "source": [
    "# Write data file\n",
    "\n",
    "dat.write('INFILE')\n",
    "modify_infile()"
   ]
  },
  {
   "cell_type": "code",
   "execution_count": 68,
   "metadata": {},
   "outputs": [],
   "source": [
    "clear_FOFT()\n"
   ]
  },
  {
   "cell_type": "code",
   "execution_count": 69,
   "metadata": {},
   "outputs": [],
   "source": [
    "# running tough2_mp\n",
    "forward_run()"
   ]
  },
  {
   "cell_type": "code",
   "execution_count": 70,
   "metadata": {},
   "outputs": [],
   "source": [
    "measured_data = read_FOFT()\n"
   ]
  },
  {
   "cell_type": "code",
   "execution_count": 71,
   "metadata": {},
   "outputs": [
    {
     "name": "stderr",
     "output_type": "stream",
     "text": [
      "Skipping line 18005: expected 3 fields, saw 5\n",
      "Skipping line 18006: expected 3 fields, saw 10\n",
      "\n"
     ]
    }
   ],
   "source": [
    "#measured_data = read_FOFT()\n",
    "measurements = observation_model()\n",
    "obs = np.array(measurements)\n",
    "#obs = obs+.1*np.random.randn(obs.shape[0],1)  # ADDING NOISE TO MEASUREMENTS\n",
    "n_obs = len(obs)"
   ]
  },
  {
   "cell_type": "code",
   "execution_count": 72,
   "metadata": {},
   "outputs": [
    {
     "data": {
      "text/plain": [
       "9000"
      ]
     },
     "execution_count": 72,
     "metadata": {},
     "output_type": "execute_result"
    }
   ],
   "source": [
    "n_obs"
   ]
  },
  {
   "cell_type": "code",
   "execution_count": null,
   "metadata": {},
   "outputs": [],
   "source": []
  },
  {
   "cell_type": "code",
   "execution_count": 73,
   "metadata": {},
   "outputs": [],
   "source": [
    "#s_true = realization"
   ]
  },
  {
   "cell_type": "code",
   "execution_count": 81,
   "metadata": {},
   "outputs": [],
   "source": [
    "params = {'R':(1.)**2, 'n_pc':10,\n",
    "          'maxiter':1, 'restol':.02,\n",
    "          'matvec':'FFT','xmin':x_min, 'xmax':x_max, 'N':N,\n",
    "          'prior_std':prior_std/10,'prior_cov_scale':prior_cov_scale,\n",
    "          'kernel':kernel, 'post_cov':\"diag\",\n",
    "          'precond':True, 'LM': True,\n",
    "          'parallel':True, 'linesearch' : True,'precision':0.001,\n",
    "          'forward_model_verbose': True, 'verbose': False,\n",
    "          'iter_save': True}"
   ]
  },
  {
   "cell_type": "code",
   "execution_count": 82,
   "metadata": {},
   "outputs": [],
   "source": [
    "s_init = np.mean(s_true)*np.ones((len(s_true),1))"
   ]
  },
  {
   "cell_type": "code",
   "execution_count": 83,
   "metadata": {},
   "outputs": [
    {
     "name": "stdout",
     "output_type": "stream",
     "text": [
      "##### PCGA Inversion #####\n",
      "##### 1. Initialize forward and inversion parameters\n",
      "------------ Inversion Parameters -------------------------\n",
      "   Number of unknowns                               : 9000\n",
      "   Number of observations                           : 9000\n",
      "   Number of principal components (n_pc)            : 10\n",
      "   Prior model                                      : def kernel(R):\n",
      "        return alpha * np.exp(-R)\n",
      "\n",
      "   Prior variance                                   : 0.000000e+00\n",
      "   Prior scale (correlation) parameter              : [100. 100.  10.]\n",
      "   Posterior cov computation                        : diag\n",
      "   Posterior variance computation                   : Approx.\n",
      "   Number of CPU cores (n_core)                     : 12\n",
      "   Maximum GN iterations                            : 1\n",
      "   machine precision (delta = sqrt(precision))      : 1.000000e-03\n",
      "   Tol for iterations (norm(sol_diff)/norm(sol))    : 2.000000e-02\n",
      "   Levenberg-Marquardt (LM)                         : True\n",
      "   LM solution range constraints (LM_smin, LM_smax) : None, None\n",
      "   Line search                                      : True\n",
      "-----------------------------------------------------------\n"
     ]
    }
   ],
   "source": [
    "prob = PCGA(forward_model, s_init = s_init, pts = pts, params = params, s_true = s_true, obs = obs)"
   ]
  },
  {
   "cell_type": "code",
   "execution_count": 77,
   "metadata": {},
   "outputs": [
    {
     "name": "stdout",
     "output_type": "stream",
     "text": [
      "##### 2. Construct Prior Covariance Matrix\n",
      "- time for covariance matrix construction (m = 9000) is 0 sec\n",
      "##### 3. Eigendecomposition of Prior Covariance\n",
      "- time for eigendecomposition with k = 10 is 2 sec\n",
      "- 1st eigv : 185211, 10-th eigv : 11709.4, ratio: 0.0632216\n",
      "##### 4. Start PCGA Inversion #####\n",
      "-- evaluate initial solution\n",
      "shape of s is:\n",
      "(9000, 1)\n",
      "The first 10 elements of first three columns are:\n",
      "[[3.1732201]\n",
      " [3.1732201]\n",
      " [3.1732201]\n",
      " [3.1732201]\n",
      " [3.1732201]\n",
      " [3.1732201]\n",
      " [3.1732201]\n",
      " [3.1732201]\n",
      " [3.1732201]\n",
      " [3.1732201]]\n"
     ]
    },
    {
     "name": "stderr",
     "output_type": "stream",
     "text": [
      "Skipping line 18005: expected 3 fields, saw 5\n",
      "Skipping line 18006: expected 3 fields, saw 10\n",
      "\n"
     ]
    },
    {
     "name": "stdout",
     "output_type": "stream",
     "text": [
      "obs. RMSE (norm(obs. diff.)/sqrt(nobs)): 27110.1, normalized obs. RMSE (norm(obs. diff./sqrtR)/sqrt(nobs)): 271101\n",
      "***** Iteration 1 ******\n",
      "shape of s is:\n",
      "(9000, 12)\n",
      "The first 10 elements of first three columns are:\n",
      "[[3.27356613 3.2211151  3.09194076]\n",
      " [3.27356613 3.22375249 3.08975925]\n",
      " [3.27356613 3.22632528 3.08828765]\n",
      " [3.27356613 3.22880377 3.08762081]\n",
      " [3.27356613 3.23116146 3.08782517]\n",
      " [3.27356613 3.2333748  3.08894015]\n",
      " [3.27356613 3.23542294 3.09097956]\n",
      " [3.27356613 3.23728757 3.09393321]\n",
      " [3.27356613 3.23895274 3.09776861]\n",
      " [3.27356613 3.24040477 3.10243288]]\n",
      "(9000, 12)\n"
     ]
    },
    {
     "name": "stderr",
     "output_type": "stream",
     "text": [
      "Skipping line 18005: expected 3 fields, saw 5\n",
      "Skipping line 18006: expected 3 fields, saw 10\n",
      "\n"
     ]
    },
    {
     "name": "stdout",
     "output_type": "stream",
     "text": [
      "(9000, 12)\n"
     ]
    },
    {
     "name": "stderr",
     "output_type": "stream",
     "text": [
      "Skipping line 18005: expected 3 fields, saw 5\n",
      "Skipping line 18006: expected 3 fields, saw 10\n",
      "\n"
     ]
    },
    {
     "name": "stdout",
     "output_type": "stream",
     "text": [
      "(9000, 12)\n"
     ]
    },
    {
     "name": "stderr",
     "output_type": "stream",
     "text": [
      "Skipping line 18005: expected 3 fields, saw 5\n",
      "Skipping line 18006: expected 3 fields, saw 10\n",
      "\n"
     ]
    },
    {
     "name": "stdout",
     "output_type": "stream",
     "text": [
      "(9000, 12)\n"
     ]
    },
    {
     "name": "stderr",
     "output_type": "stream",
     "text": [
      "Skipping line 18005: expected 3 fields, saw 5\n",
      "Skipping line 18006: expected 3 fields, saw 10\n",
      "\n"
     ]
    },
    {
     "name": "stdout",
     "output_type": "stream",
     "text": [
      "(9000, 12)\n"
     ]
    },
    {
     "name": "stderr",
     "output_type": "stream",
     "text": [
      "Skipping line 18005: expected 3 fields, saw 5\n",
      "Skipping line 18006: expected 3 fields, saw 10\n",
      "\n"
     ]
    },
    {
     "name": "stdout",
     "output_type": "stream",
     "text": [
      "(9000, 12)\n"
     ]
    },
    {
     "name": "stderr",
     "output_type": "stream",
     "text": [
      "Skipping line 18005: expected 3 fields, saw 5\n",
      "Skipping line 18006: expected 3 fields, saw 10\n",
      "\n"
     ]
    },
    {
     "name": "stdout",
     "output_type": "stream",
     "text": [
      "(9000, 12)\n"
     ]
    },
    {
     "name": "stderr",
     "output_type": "stream",
     "text": [
      "Skipping line 18005: expected 3 fields, saw 5\n",
      "Skipping line 18006: expected 3 fields, saw 10\n",
      "\n"
     ]
    },
    {
     "name": "stdout",
     "output_type": "stream",
     "text": [
      "(9000, 12)\n"
     ]
    },
    {
     "name": "stderr",
     "output_type": "stream",
     "text": [
      "Skipping line 18005: expected 3 fields, saw 5\n",
      "Skipping line 18006: expected 3 fields, saw 10\n",
      "\n"
     ]
    },
    {
     "name": "stdout",
     "output_type": "stream",
     "text": [
      "(9000, 12)\n"
     ]
    },
    {
     "name": "stderr",
     "output_type": "stream",
     "text": [
      "Skipping line 18005: expected 3 fields, saw 5\n",
      "Skipping line 18006: expected 3 fields, saw 10\n",
      "\n"
     ]
    },
    {
     "name": "stdout",
     "output_type": "stream",
     "text": [
      "(9000, 12)\n"
     ]
    },
    {
     "name": "stderr",
     "output_type": "stream",
     "text": [
      "Skipping line 18005: expected 3 fields, saw 5\n",
      "Skipping line 18006: expected 3 fields, saw 10\n",
      "\n"
     ]
    },
    {
     "name": "stdout",
     "output_type": "stream",
     "text": [
      "(9000, 12)\n"
     ]
    },
    {
     "name": "stderr",
     "output_type": "stream",
     "text": [
      "Skipping line 18005: expected 3 fields, saw 5\n",
      "Skipping line 18006: expected 3 fields, saw 10\n",
      "\n"
     ]
    },
    {
     "name": "stdout",
     "output_type": "stream",
     "text": [
      "(9000, 12)\n"
     ]
    },
    {
     "name": "stderr",
     "output_type": "stream",
     "text": [
      "Skipping line 18005: expected 3 fields, saw 5\n",
      "Skipping line 18006: expected 3 fields, saw 10\n",
      "\n"
     ]
    },
    {
     "name": "stdout",
     "output_type": "stream",
     "text": [
      "computed Jacobian-Matrix products in 144.112356 secs\n",
      "solve saddle point (co-kriging) systems with Levenberg-Marquardt\n"
     ]
    },
    {
     "ename": "ValueError",
     "evalue": "non-symmetric matrix",
     "output_type": "error",
     "traceback": [
      "\u001b[0;31m---------------------------------------------------------------------------\u001b[0m",
      "\u001b[0;31mValueError\u001b[0m                                Traceback (most recent call last)",
      "\u001b[0;32m<ipython-input-77-63ec25cb4e19>\u001b[0m in \u001b[0;36m<module>\u001b[0;34m()\u001b[0m\n\u001b[0;32m----> 1\u001b[0;31m \u001b[0ms_hat\u001b[0m\u001b[0;34m,\u001b[0m \u001b[0msimul_obs\u001b[0m\u001b[0;34m,\u001b[0m \u001b[0mpost_diagv\u001b[0m\u001b[0;34m,\u001b[0m \u001b[0miter_best\u001b[0m \u001b[0;34m=\u001b[0m \u001b[0mprob\u001b[0m\u001b[0;34m.\u001b[0m\u001b[0mRun\u001b[0m\u001b[0;34m(\u001b[0m\u001b[0;34m)\u001b[0m\u001b[0;34m\u001b[0m\u001b[0m\n\u001b[0m",
      "\u001b[0;32m/home/hojat/anaconda3/envs/py2/lib/python2.7/site-packages/pyPCGA-0.1.0-py2.7.egg/pyPCGA/pcga.pyc\u001b[0m in \u001b[0;36mRun\u001b[0;34m(self)\u001b[0m\n\u001b[1;32m   1307\u001b[0m             \u001b[0mself\u001b[0m\u001b[0;34m.\u001b[0m\u001b[0mComputePriorEig\u001b[0m\u001b[0;34m(\u001b[0m\u001b[0;34m)\u001b[0m\u001b[0;34m\u001b[0m\u001b[0m\n\u001b[1;32m   1308\u001b[0m \u001b[0;34m\u001b[0m\u001b[0m\n\u001b[0;32m-> 1309\u001b[0;31m         \u001b[0ms_hat\u001b[0m\u001b[0;34m,\u001b[0m \u001b[0msimul_obs\u001b[0m\u001b[0;34m,\u001b[0m \u001b[0mpost_diagv\u001b[0m\u001b[0;34m,\u001b[0m \u001b[0miter_best\u001b[0m \u001b[0;34m=\u001b[0m \u001b[0mself\u001b[0m\u001b[0;34m.\u001b[0m\u001b[0mGaussNewton\u001b[0m\u001b[0;34m(\u001b[0m\u001b[0;34m)\u001b[0m\u001b[0;34m\u001b[0m\u001b[0m\n\u001b[0m\u001b[1;32m   1310\u001b[0m         \u001b[0;31m#start = time()\u001b[0m\u001b[0;34m\u001b[0m\u001b[0;34m\u001b[0m\u001b[0m\n\u001b[1;32m   1311\u001b[0m         \u001b[0;32mprint\u001b[0m\u001b[0;34m(\u001b[0m\u001b[0;34m\"** Total elapsed time is %f secs\"\u001b[0m \u001b[0;34m%\u001b[0m \u001b[0;34m(\u001b[0m\u001b[0mtime\u001b[0m\u001b[0;34m(\u001b[0m\u001b[0;34m)\u001b[0m\u001b[0;34m-\u001b[0m\u001b[0mstart\u001b[0m\u001b[0;34m)\u001b[0m\u001b[0;34m)\u001b[0m\u001b[0;34m\u001b[0m\u001b[0m\n",
      "\u001b[0;32m/home/hojat/anaconda3/envs/py2/lib/python2.7/site-packages/pyPCGA-0.1.0-py2.7.egg/pyPCGA/pcga.pyc\u001b[0m in \u001b[0;36mGaussNewton\u001b[0;34m(self)\u001b[0m\n\u001b[1;32m   1210\u001b[0m             \u001b[0mstart\u001b[0m \u001b[0;34m=\u001b[0m \u001b[0mtime\u001b[0m\u001b[0;34m(\u001b[0m\u001b[0;34m)\u001b[0m\u001b[0;34m\u001b[0m\u001b[0m\n\u001b[1;32m   1211\u001b[0m             \u001b[0;32mprint\u001b[0m\u001b[0;34m(\u001b[0m\u001b[0;34m\"***** Iteration %d ******\"\u001b[0m \u001b[0;34m%\u001b[0m \u001b[0;34m(\u001b[0m\u001b[0mi\u001b[0m\u001b[0;34m+\u001b[0m\u001b[0;36m1\u001b[0m\u001b[0;34m)\u001b[0m\u001b[0;34m)\u001b[0m\u001b[0;34m\u001b[0m\u001b[0m\n\u001b[0;32m-> 1212\u001b[0;31m             \u001b[0ms_cur\u001b[0m\u001b[0;34m,\u001b[0m \u001b[0mbeta_cur\u001b[0m\u001b[0;34m,\u001b[0m \u001b[0msimul_obs_cur\u001b[0m\u001b[0;34m,\u001b[0m \u001b[0mobj\u001b[0m \u001b[0;34m=\u001b[0m \u001b[0mself\u001b[0m\u001b[0;34m.\u001b[0m\u001b[0mLinearIteration\u001b[0m\u001b[0;34m(\u001b[0m\u001b[0ms_past\u001b[0m\u001b[0;34m,\u001b[0m \u001b[0msimul_obs\u001b[0m\u001b[0;34m)\u001b[0m\u001b[0;34m\u001b[0m\u001b[0m\n\u001b[0m\u001b[1;32m   1213\u001b[0m \u001b[0;34m\u001b[0m\u001b[0m\n\u001b[1;32m   1214\u001b[0m             \u001b[0;32mprint\u001b[0m\u001b[0;34m(\u001b[0m\u001b[0;34m\"- Geostat. inversion at iteration %d is %g sec\"\u001b[0m \u001b[0;34m%\u001b[0m\u001b[0;34m(\u001b[0m\u001b[0;34m(\u001b[0m\u001b[0mi\u001b[0m\u001b[0;34m+\u001b[0m\u001b[0;36m1\u001b[0m\u001b[0;34m)\u001b[0m\u001b[0;34m,\u001b[0m \u001b[0mround\u001b[0m\u001b[0;34m(\u001b[0m\u001b[0mtime\u001b[0m\u001b[0;34m(\u001b[0m\u001b[0;34m)\u001b[0m\u001b[0;34m-\u001b[0m\u001b[0mstart\u001b[0m\u001b[0;34m)\u001b[0m\u001b[0;34m)\u001b[0m\u001b[0;34m)\u001b[0m\u001b[0;34m\u001b[0m\u001b[0m\n",
      "\u001b[0;32m/home/hojat/anaconda3/envs/py2/lib/python2.7/site-packages/pyPCGA-0.1.0-py2.7.egg/pyPCGA/pcga.pyc\u001b[0m in \u001b[0;36mLinearIteration\u001b[0;34m(self, s_cur, simul_obs)\u001b[0m\n\u001b[1;32m   1124\u001b[0m             \u001b[0;31m#Construct preconditioner\u001b[0m\u001b[0;34m\u001b[0m\u001b[0;34m\u001b[0m\u001b[0m\n\u001b[1;32m   1125\u001b[0m             \u001b[0;31m#if precond:        self.ConstructPreconditioner()\u001b[0m\u001b[0;34m\u001b[0m\u001b[0;34m\u001b[0m\u001b[0m\n\u001b[0;32m-> 1126\u001b[0;31m             \u001b[0ms_hat\u001b[0m\u001b[0;34m,\u001b[0m \u001b[0mbeta\u001b[0m\u001b[0;34m,\u001b[0m \u001b[0msimul_obs_new\u001b[0m \u001b[0;34m=\u001b[0m \u001b[0mself\u001b[0m\u001b[0;34m.\u001b[0m\u001b[0mIterativeSolve\u001b[0m\u001b[0;34m(\u001b[0m\u001b[0ms_cur\u001b[0m\u001b[0;34m,\u001b[0m \u001b[0msimul_obs\u001b[0m\u001b[0;34m,\u001b[0m \u001b[0mprecond\u001b[0m \u001b[0;34m=\u001b[0m \u001b[0mprecond\u001b[0m\u001b[0;34m)\u001b[0m\u001b[0;34m\u001b[0m\u001b[0m\n\u001b[0m\u001b[1;32m   1127\u001b[0m \u001b[0;34m\u001b[0m\u001b[0m\n\u001b[1;32m   1128\u001b[0m         \u001b[0;32mif\u001b[0m \u001b[0mself\u001b[0m\u001b[0;34m.\u001b[0m\u001b[0mobjeval\u001b[0m\u001b[0;34m:\u001b[0m \u001b[0;31m# If true, we do accurate computation\u001b[0m\u001b[0;34m\u001b[0m\u001b[0m\n",
      "\u001b[0;32m/home/hojat/anaconda3/envs/py2/lib/python2.7/site-packages/pyPCGA-0.1.0-py2.7.egg/pyPCGA/pcga.pyc\u001b[0m in \u001b[0;36mIterativeSolve\u001b[0;34m(self, s_cur, simul_obs, precond)\u001b[0m\n\u001b[1;32m    953\u001b[0m                 \u001b[0;32mif\u001b[0m \u001b[0minfo\u001b[0m \u001b[0;34m!=\u001b[0m \u001b[0;36m0\u001b[0m\u001b[0;34m:\u001b[0m \u001b[0;31m# if not converged\u001b[0m\u001b[0;34m\u001b[0m\u001b[0m\n\u001b[1;32m    954\u001b[0m                     \u001b[0mcallback\u001b[0m \u001b[0;34m=\u001b[0m \u001b[0mResidual\u001b[0m\u001b[0;34m(\u001b[0m\u001b[0;34m)\u001b[0m\u001b[0;34m\u001b[0m\u001b[0m\n\u001b[0;32m--> 955\u001b[0;31m                     \u001b[0mx\u001b[0m\u001b[0;34m,\u001b[0m \u001b[0minfo\u001b[0m \u001b[0;34m=\u001b[0m \u001b[0mminres\u001b[0m\u001b[0;34m(\u001b[0m\u001b[0mAfun\u001b[0m\u001b[0;34m,\u001b[0m \u001b[0mb\u001b[0m\u001b[0;34m,\u001b[0m \u001b[0mx0\u001b[0m \u001b[0;34m=\u001b[0m \u001b[0mx\u001b[0m\u001b[0;34m,\u001b[0m \u001b[0mtol\u001b[0m\u001b[0;34m=\u001b[0m\u001b[0mitertol\u001b[0m\u001b[0;34m,\u001b[0m \u001b[0mmaxiter\u001b[0m\u001b[0;34m=\u001b[0m\u001b[0msolver_maxiter\u001b[0m\u001b[0;34m,\u001b[0m \u001b[0mcallback\u001b[0m\u001b[0;34m=\u001b[0m\u001b[0mcallback\u001b[0m\u001b[0;34m,\u001b[0m \u001b[0mM\u001b[0m\u001b[0;34m=\u001b[0m\u001b[0mP\u001b[0m\u001b[0;34m)\u001b[0m\u001b[0;34m\u001b[0m\u001b[0m\n\u001b[0m\u001b[1;32m    956\u001b[0m                     \u001b[0;32mif\u001b[0m \u001b[0mself\u001b[0m\u001b[0;34m.\u001b[0m\u001b[0mverbose\u001b[0m\u001b[0;34m:\u001b[0m \u001b[0;32mprint\u001b[0m\u001b[0;34m(\u001b[0m\u001b[0;34m\"-- Number of iterations for minres %g and info %d\"\u001b[0m \u001b[0;34m%\u001b[0m\u001b[0;34m(\u001b[0m\u001b[0mcallback\u001b[0m\u001b[0;34m.\u001b[0m\u001b[0mitercount\u001b[0m\u001b[0;34m(\u001b[0m\u001b[0;34m)\u001b[0m\u001b[0;34m,\u001b[0m\u001b[0minfo\u001b[0m\u001b[0;34m)\u001b[0m\u001b[0;34m)\u001b[0m\u001b[0;34m\u001b[0m\u001b[0m\n\u001b[1;32m    957\u001b[0m             \u001b[0;32melse\u001b[0m\u001b[0;34m:\u001b[0m\u001b[0;34m\u001b[0m\u001b[0m\n",
      "\u001b[0;32m/home/hojat/anaconda3/envs/py2/lib/python2.7/site-packages/scipy/sparse/linalg/isolve/minres.pyc\u001b[0m in \u001b[0;36mminres\u001b[0;34m(A, b, x0, shift, tol, maxiter, M, callback, show, check)\u001b[0m\n\u001b[1;32m    192\u001b[0m         \u001b[0mbeta\u001b[0m \u001b[0;34m=\u001b[0m \u001b[0minner\u001b[0m\u001b[0;34m(\u001b[0m\u001b[0mr2\u001b[0m\u001b[0;34m,\u001b[0m\u001b[0my\u001b[0m\u001b[0;34m)\u001b[0m\u001b[0;34m\u001b[0m\u001b[0m\n\u001b[1;32m    193\u001b[0m         \u001b[0;32mif\u001b[0m \u001b[0mbeta\u001b[0m \u001b[0;34m<\u001b[0m \u001b[0;36m0\u001b[0m\u001b[0;34m:\u001b[0m\u001b[0;34m\u001b[0m\u001b[0m\n\u001b[0;32m--> 194\u001b[0;31m             \u001b[0;32mraise\u001b[0m \u001b[0mValueError\u001b[0m\u001b[0;34m(\u001b[0m\u001b[0;34m'non-symmetric matrix'\u001b[0m\u001b[0;34m)\u001b[0m\u001b[0;34m\u001b[0m\u001b[0m\n\u001b[0m\u001b[1;32m    195\u001b[0m         \u001b[0mbeta\u001b[0m \u001b[0;34m=\u001b[0m \u001b[0msqrt\u001b[0m\u001b[0;34m(\u001b[0m\u001b[0mbeta\u001b[0m\u001b[0;34m)\u001b[0m\u001b[0;34m\u001b[0m\u001b[0m\n\u001b[1;32m    196\u001b[0m         \u001b[0mtnorm2\u001b[0m \u001b[0;34m+=\u001b[0m \u001b[0malfa\u001b[0m\u001b[0;34m**\u001b[0m\u001b[0;36m2\u001b[0m \u001b[0;34m+\u001b[0m \u001b[0moldb\u001b[0m\u001b[0;34m**\u001b[0m\u001b[0;36m2\u001b[0m \u001b[0;34m+\u001b[0m \u001b[0mbeta\u001b[0m\u001b[0;34m**\u001b[0m\u001b[0;36m2\u001b[0m\u001b[0;34m\u001b[0m\u001b[0m\n",
      "\u001b[0;31mValueError\u001b[0m: non-symmetric matrix"
     ]
    }
   ],
   "source": [
    "s_hat, simul_obs, post_diagv, iter_best = prob.Run()"
   ]
  },
  {
   "cell_type": "code",
   "execution_count": null,
   "metadata": {},
   "outputs": [],
   "source": [
    "pred = s_hat.reshape(N[2],N[1],N[0])\n",
    "plt.imshow(pred[:,6,:])\n",
    "plt.colorbar()"
   ]
  },
  {
   "cell_type": "code",
   "execution_count": null,
   "metadata": {},
   "outputs": [],
   "source": [
    "tr_val = s_true.reshape(N[0],N[1],N[2])\n",
    "plt.imshow(tr_val[:,6,:])\n",
    "plt.colorbar()"
   ]
  },
  {
   "cell_type": "code",
   "execution_count": null,
   "metadata": {},
   "outputs": [],
   "source": [
    "## The following cells are for visualization purpose. You can run them after the first run of forward model."
   ]
  },
  {
   "cell_type": "code",
   "execution_count": null,
   "metadata": {},
   "outputs": [],
   "source": [
    "data_save = read_SAVE()"
   ]
  },
  {
   "cell_type": "code",
   "execution_count": null,
   "metadata": {},
   "outputs": [],
   "source": []
  },
  {
   "cell_type": "code",
   "execution_count": null,
   "metadata": {},
   "outputs": [],
   "source": [
    "print(dat.history_block[2])\n",
    "plot_FoFT(measured_data, dat.history_block[2], variable = 'Temperature', ylim = [0, 100], xlim = [0, 86400*347]) # ylim sets the range fo"
   ]
  },
  {
   "cell_type": "code",
   "execution_count": null,
   "metadata": {},
   "outputs": [],
   "source": [
    "print(dat.history_block[0])\n",
    "plot_FoFT(measured_data, dat.history_block[0], variable = 'Temperature', ylim = [0, 100], xlim = [0, 86400*347]) # ylim sets the range fo\n"
   ]
  },
  {
   "cell_type": "code",
   "execution_count": null,
   "metadata": {},
   "outputs": [],
   "source": [
    "print(dat.history_block[1])\n",
    "plot_FoFT(measured_data, dat.history_block[1], variable = 'Temperature', ylim = [0, 20], xlim = [0, 86400*347]) # ylim sets the range fo\n"
   ]
  },
  {
   "cell_type": "code",
   "execution_count": null,
   "metadata": {},
   "outputs": [],
   "source": [
    "## Here you are printing the same \n",
    "##Elem = dat.history_block[1]\n",
    "##print(dat.history_block[:])\n",
    "#for Elm in dat.history_block:\n",
    "#    print(Elm)\n",
    "#    plot_FoFT(measured_data, Elm, variable = 'Temperature', ylim = [0, 100], xlim = [0, 86400]) # ylim sets the range for y axis"
   ]
  },
  {
   "cell_type": "code",
   "execution_count": null,
   "metadata": {},
   "outputs": [],
   "source": [
    "data_save_T=np.array(data_save['Temperature']) # you should give the whole data frame as input to plot_SAVE function\n",
    "data_save_T                                    # so you don't need to read the Temperature column here. I renamed the variable here"
   ]
  },
  {
   "cell_type": "code",
   "execution_count": null,
   "metadata": {},
   "outputs": [],
   "source": []
  },
  {
   "cell_type": "code",
   "execution_count": null,
   "metadata": {},
   "outputs": [],
   "source": [
    "#data_save, 'y' variable here sets which y cross=section you want to plot\n",
    "plot_SAVE(data_save, nx, y=14, col = 'Pressure', clim = [100, 150])\n",
    "#data_save=np.array(data_save['Temperature'])\n",
    "#a = np.reshape(data_save,(nx[2],nx[1],nx[0])).T\n",
    "#plt.imshow(a[:,:,5].T)\n",
    "plt.colorbar(orientation='horizontal')\n",
    "plt.title('Pressure in Pa')\n",
    "plt.xlabel('x(m)')\n",
    "plt.ylabel('z(m)')\n"
   ]
  },
  {
   "cell_type": "code",
   "execution_count": null,
   "metadata": {},
   "outputs": [],
   "source": [
    "dat.grid.blocklist[1].centre[2]"
   ]
  },
  {
   "cell_type": "code",
   "execution_count": null,
   "metadata": {},
   "outputs": [],
   "source": [
    "plot_SAVE(data_save, nx, y=14, col = 'Temperature', clim = [0, 60])\n",
    "plt.title('Temperature in C')\n",
    "plt.xlabel('x(m)')\n",
    "plt.ylabel('z(m)')\n",
    "plt.colorbar(orientation='horizontal')"
   ]
  },
  {
   "cell_type": "code",
   "execution_count": null,
   "metadata": {},
   "outputs": [],
   "source": []
  },
  {
   "cell_type": "code",
   "execution_count": null,
   "metadata": {},
   "outputs": [],
   "source": []
  },
  {
   "cell_type": "code",
   "execution_count": null,
   "metadata": {},
   "outputs": [],
   "source": []
  },
  {
   "cell_type": "code",
   "execution_count": null,
   "metadata": {},
   "outputs": [],
   "source": []
  },
  {
   "cell_type": "code",
   "execution_count": null,
   "metadata": {},
   "outputs": [],
   "source": []
  },
  {
   "cell_type": "code",
   "execution_count": null,
   "metadata": {},
   "outputs": [],
   "source": []
  },
  {
   "cell_type": "code",
   "execution_count": null,
   "metadata": {},
   "outputs": [],
   "source": []
  },
  {
   "cell_type": "code",
   "execution_count": null,
   "metadata": {},
   "outputs": [],
   "source": []
  },
  {
   "cell_type": "code",
   "execution_count": null,
   "metadata": {},
   "outputs": [],
   "source": []
  },
  {
   "cell_type": "code",
   "execution_count": null,
   "metadata": {},
   "outputs": [],
   "source": []
  },
  {
   "cell_type": "code",
   "execution_count": null,
   "metadata": {},
   "outputs": [],
   "source": []
  },
  {
   "cell_type": "code",
   "execution_count": null,
   "metadata": {},
   "outputs": [],
   "source": []
  },
  {
   "cell_type": "code",
   "execution_count": null,
   "metadata": {},
   "outputs": [],
   "source": []
  },
  {
   "cell_type": "code",
   "execution_count": null,
   "metadata": {},
   "outputs": [],
   "source": []
  },
  {
   "cell_type": "code",
   "execution_count": null,
   "metadata": {},
   "outputs": [],
   "source": []
  },
  {
   "cell_type": "code",
   "execution_count": null,
   "metadata": {},
   "outputs": [],
   "source": []
  },
  {
   "cell_type": "code",
   "execution_count": null,
   "metadata": {},
   "outputs": [],
   "source": []
  }
 ],
 "metadata": {
  "kernelspec": {
   "display_name": "Python 3",
   "language": "python",
   "name": "python3"
  },
  "language_info": {
   "codemirror_mode": {
    "name": "ipython",
    "version": 3
   },
   "file_extension": ".py",
   "mimetype": "text/x-python",
   "name": "python",
   "nbconvert_exporter": "python",
   "pygments_lexer": "ipython3",
   "version": "3.6.4"
  }
 },
 "nbformat": 4,
 "nbformat_minor": 2
}
