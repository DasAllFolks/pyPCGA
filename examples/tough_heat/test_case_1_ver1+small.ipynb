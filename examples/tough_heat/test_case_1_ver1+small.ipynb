{
 "cells": [
  {
   "cell_type": "code",
   "execution_count": 1,
   "metadata": {
    "collapsed": true
   },
   "outputs": [],
   "source": [
    "import math\n",
    "import os\n",
    "import pandas as pd\n",
    "import matplotlib.pyplot as plt\n",
    "%matplotlib inline\n",
    "import sys\n",
    "sys.path.insert(0, '/home/amaliak/pyTOUGH/PyTOUGH-master')"
   ]
  },
  {
   "cell_type": "code",
   "execution_count": 2,
   "metadata": {
    "collapsed": true
   },
   "outputs": [],
   "source": [
    "## PyTOUGH specific modules\n",
    "from mulgrids import *\n",
    "from t2thermo import *\n",
    "from t2data import *\n",
    "from t2incons import *\n",
    "from os import system"
   ]
  },
  {
   "cell_type": "code",
   "execution_count": 3,
   "metadata": {
    "collapsed": true
   },
   "outputs": [],
   "source": [
    "def clear_FOFT():\n",
    "    \"\"\"To delete previous FOFT files in the directory.\n",
    "You can delete SAVE, INCON, ... files the same way if you need to do it before running\"\"\"\n",
    "    for file in os.listdir(\".\"):\n",
    "        if file.startswith(\"FOFT\"):\n",
    "            try:\n",
    "                os.remove(file)\n",
    "            except Exception.e:  # was a comma, changed to a period\n",
    "                print(e)         # was print e, changed to print(e)\n",
    "                \n",
    "def forward_run():\n",
    "    \"\"\" running the tough2 model\"\"\"\n",
    "    system(\"mpiexec tough2-mp-eos1.debug\")\n",
    "\n",
    "def read_FOFT():\n",
    "    \"\"\" Function to read all FOFT files in the directory.\n",
    "    The function returns a pandas dataframe containing measurements\"\"\"\n",
    "    FOFT_files = [filename for filename in os.listdir('.') if filename.startswith(\"FOFT\")]\n",
    "    columns_name = ['Element','Time', 'Gas Pressure', 'Gas Saturation','Temperature']\n",
    "    rows = [] \n",
    "    for filename in FOFT_files:\n",
    "        with open(filename, 'rb') as f_input:\n",
    "            count =0\n",
    "            for row in f_input:\n",
    "                if count > 1:\n",
    "                    a= str(row[0:-1])\n",
    "                    cols = [col for col in a[2:-1].split(' ') if len(col)]\n",
    "                    if len(cols)==7:\n",
    "                        cols[1] = cols[1].ljust(2)\n",
    "                        cols[1] = cols[1].rjust(3) + cols[2].rjust(2)\n",
    "                        cols.pop(2)\n",
    "                        cols.pop(0)\n",
    "                        rows.append(cols)\n",
    "                    if len(cols)==6:\n",
    "                        cols[1] = cols[1].rjust(5)\n",
    "                        cols.pop(0)\n",
    "                        rows.append(cols)\n",
    "                count+=1\n",
    "    frame = pd.DataFrame(rows, columns=columns_name)\n",
    "    frame[['Time','Gas Pressure','Gas Saturation','Temperature']] = frame[['Time','Gas Pressure','Gas Saturation','Temperature']].apply(pd.to_numeric)\n",
    "    return frame\n",
    "\n",
    "def read_FOFT_old():\n",
    "    \"\"\" Function to read all FOFT files in the directory.\n",
    "    The function returns a pandas dataframe containing measurements\"\"\"\n",
    "    FOFT_files = [filename for filename in os.listdir('.') if filename.startswith(\"FOFT\")]\n",
    "    columns = ['FOFT','Element','Time', 'Gas Pressure', 'Gas Saturation','Temperature']\n",
    "    b=pd.read_csv(FOFT_files[0],names =columns,  sep=\"\\s+\", header =None, skiprows=[0,1])\n",
    "    if len(b.columns) ==6:\n",
    "        b[1] = b[1].str.rjust(5)\n",
    "        b = b.drop([0], axis=1)\n",
    "    elif len(b.columns) ==7:\n",
    "        b[1] = b[1].str.ljust(2)\n",
    "        b[2]=b[2].astype(str)\n",
    "        b[1] = b[1].str.rjust(3) + b[2].str.rjust(2)\n",
    "        b = b.drop([0,2], axis=1)\n",
    "    b.columns= ['Element','Time', 'Gas Pressure', 'Gas Saturation','Temperature']\n",
    "    for i in range(1, len(FOFT_files)):\n",
    "        a=pd.read_csv(FOFT_files[i], sep=\"\\s+\", header =None, skiprows=[0,1])\n",
    "        if len(a.columns) ==6:\n",
    "            a[1] = a[1].str.rjust(5)\n",
    "            a = a.drop([0], axis=1)\n",
    "        elif len(a.columns) ==7:\n",
    "            a[1] = a[1].str.ljust(2)\n",
    "            a[2] = a[2].astype(str)\n",
    "            a[1] = a[1].str.rjust(3) + a[2].str.rjust(2)\n",
    "            a = a.drop([0,2], axis=1)\n",
    "        a.columns= ['Element','Time', 'Gas Pressure', 'Gas Saturation','Temperature']\n",
    "        b=pd.concat([b,a], ignore_index=True)\n",
    "\n",
    "    return b\n",
    "\n",
    "def set_measurement_blk(dat, x, y, z, nx):\n",
    "    \n",
    "    \n",
    "    dat.history_block = []\n",
    "    x_obs = np.array(x)\n",
    "    y_obs = np.array(y)\n",
    "    z_obs = np.array(z)\n",
    "    block_list = nx[0]*nx[1]*(z_obs-1)+nx[0]*(y_obs-1)+x_obs\n",
    "    for blk_number in block_list:\n",
    "        dat.history_block.append(dat.grid.blocklist[blk_number].name)\n",
    "\n",
    "\n",
    "def heat_generator(dat, geo, center, L, qmax, L_scale, method = 'Square'):\n",
    "    \n",
    "    \n",
    "    cols =[]\n",
    "    if method =='Square':\n",
    "        for col in geo.columnlist:\n",
    "            if center[0] - L/2 <= col.centre[0] <= center[0] + L/2:\n",
    "                if center[1] - L/2<= col.centre[1]<= center[1] + L/2:\n",
    "                    cols.append(col)\n",
    "        dxs=np.array([col.centre[0]-center[0] for col in cols])/L_scale\n",
    "        dys=np.array([col.centre[1]-center[1] for col in cols])/L_scale\n",
    "        print(dxs)\n",
    "        print(dys)\n",
    "        corlength = 0.5\n",
    "        qcol=qmax*np.exp(-0.5*((dxs*dxs+dys*dys)/(corlength*corlength)))\n",
    "        print(qcol)\n",
    "        \n",
    "        #layer=geo.layerlist[-1] Changing to add the heat in a non-boundary layer\n",
    "        layer=geo.layerlist[-5]\n",
    "        # Page 87 from pyTOUGH #####################################\n",
    "        # adding the generator to the problem\n",
    "        dat.clear_generators()\n",
    "        \n",
    "        dat.add_generator(t2generator(name=' in1', block=' d125', type='COM1', gx=.6, ex=3.E+5))\n",
    "        dat.add_generator(t2generator(name=' in2', block=' e125', type='COM1', gx=.6, ex=3.E+5))\n",
    "        dat.add_generator(t2generator(name=' in3', block=' f125', type='COM1', gx=.6, ex=3.E+5))\n",
    "        dat.add_generator(t2generator(name=' in4', block=' g125', type='COM1', gx=.6, ex=3.E+5))\n",
    "        \n",
    "        dat.add_generator(t2generator(name=' ex1', block=' d145', type='COM1', gx=-.6))\n",
    "        dat.add_generator(t2generator(name=' ex2', block=' e145', type='COM1', gx=-.6))\n",
    "        dat.add_generator(t2generator(name=' ex3', block=' f145', type='COM1', gx=-.6))\n",
    "        dat.add_generator(t2generator(name=' ex4', block=' g145', type='COM1', gx=-.6))\n",
    "        \n",
    "        print('Generators added')\n",
    "        \n",
    "        #for col,q in zip(cols,qcol):\n",
    "        #    blkname=geo.block_name(layer.name,col.name)\n",
    "        #    genname=' q'+col.name\n",
    "        #    dat.add_generator(t2generator(name=genname, block=blkname, type='HEAT', gx=q*col.area))\n",
    "        dat.short_output={}\n",
    "    else:\n",
    "        raise NotImplementedError\n",
    "\n",
    "def construct_grid(dx_grid, nx):\n",
    "    \"\"\"Constructing a TOUGH2 input geometry file for a 3D rectangular\n",
    "    model with the domain size of 300*300*20 m^3 and grid size 10*10*2 m^3.\"\"\"\n",
    "\n",
    "    # Here we set up a rectangular grid. For other option, refer to pytough examples and tutorials\n",
    "    dx = [dx_grid[0]]*nx[0]\n",
    "    dy = [dx_grid[1]]*nx[1]\n",
    "    dz = [dx_grid[2]]*nx[2]\n",
    "    # use convention =2 for naming convention. Otherwise it will generate an error when you want to write INFILE\n",
    "    # for atmos_type, refer to page 124 pyTOUGH tutorial\n",
    "    geo = mulgrid().rectangular(dx, dy, dz, atmos_type = 0, convention=2) \n",
    "    geo.write('geom.dat')      # write the geometry file\n",
    "\n",
    "    return geo\n",
    "\n",
    "\n",
    "#def set_rocktype(dat, z_bottom, z_middle, z_top):\n",
    "    \n",
    "\n",
    "def read_SAVE():\n",
    "    data_SAVE= pd.read_csv('SAVE',sep=\"\\s+\", header =None, skiprows=[0], error_bad_lines = False)\n",
    "    data_SAVE = data_SAVE.drop([0,1, len(data_SAVE)-1])\n",
    "    blk_1 = []\n",
    "    blk_2 = []\n",
    "    blk_3 = []\n",
    "    for i in range(2,len(data_SAVE)+2):\n",
    "        if i%2 ==0:\n",
    "            if math.isnan(data_SAVE[2][i]):\n",
    "                blk_1.append(data_SAVE[1][i])\n",
    "            else:\n",
    "                blk_1.append(data_SAVE[2][i])\n",
    "        else:\n",
    "            blk_2.append(float(data_SAVE[0][i]))\n",
    "            blk_3.append(float(data_SAVE[1][i]))\n",
    "    data_save = {'Saturation': blk_1,\n",
    "                 'Pressure': blk_2,\n",
    "                 'Temperature': blk_3}\n",
    "    \n",
    "    df = pd.DataFrame.from_dict(data_save)\n",
    "    \n",
    "    return df\n",
    "\n",
    "def plot_FoFT(data_FOFT, Elem, variable = 'Temperature', ylim = [0, 100], xlim = [0, 86400]):\n",
    "    ###NOTE THAT PLOTFOFT WILL NOT PLOT ANY OF THE LOCATIONS THAT HAVE A BLANK IN THEIR NAME\n",
    "    x = np.array(data_FOFT[data_FOFT['Element']==Elem]['Time'])\n",
    "    plt.plot(x,data_FOFT[data_FOFT['Element']==Elem][variable])\n",
    "    #plt.axis([0, x[-1], ylim[0], ylim[1]])\n",
    "    plt.axis([xlim[0], xlim[1], ylim[0], ylim[1]])\n",
    "    #plt.yticks([])\n",
    "    plt.show()\n",
    "    \n",
    "def plot_SAVE(df, nx, y=0, col = 'Temperature', clim = [0, 100]):\n",
    "    # old code\n",
    "    #data_save=np.array(df['Col_1'])\n",
    "    #a = np.reshape(data_save,(nx[2],nx[1],nx[0])).T\n",
    "    #plt.imshow(a[:,:,5].T)\n",
    "    #plt.colorbar()\n",
    "    \n",
    "    #df: output of read_SAVE() function\n",
    "    # nx: number of grids in the domain in each direction\n",
    "    # col: can be 'Temperature', 'Pressure', or 'Saturation'\n",
    "    # clim: determines the range for colorbar\n",
    "    \n",
    "    #data_save=np.array(df[col])\n",
    "    #a = np.reshape(data_save,(nx[2],nx[1],nx[0])).T\n",
    "    #plt.imshow(a[:,y,:].T)\n",
    "    #plt.colorbar()\n",
    "    #plt.clim(clim[0],clim[1])\n",
    "    #plt.title(col)\n",
    "    \n",
    "    elevation_save = np.zeros((3000,1))\n",
    "    for idblock in range(1,3001):\n",
    "        elevation_save[idblock-1] = dat.grid.blocklist[idblock].centre[2]\n",
    "        \n",
    "    z = np.reshape(elevation_save,(nx[2],nx[1],nx[0]))\n",
    "    \n",
    "    data_save=np.array(df[col])\n",
    "    \n",
    "    if col == 'Pressure':\n",
    "        # Gas pressure converted to m H2O + elevation = hydraulic head in water\n",
    "        a = np.reshape(data_save*0.00010197,(nx[2],nx[1],nx[0])).T + z.T\n",
    "        #a = np.reshape(data_save,(nx[2],nx[1],nx[0])).T \n",
    "        plt.imshow(a[:,y,:].T)\n",
    "        #plt.colorbar()\n",
    "        plt.clim(clim[0],clim[1])\n",
    "        plt.title('Hydraulic head (m)')\n",
    "    else:\n",
    "        a = np.reshape(data_save,(nx[2],nx[1],nx[0])).T\n",
    "        plt.imshow(a[:,y,:].T)\n",
    "        #plt.colorbar()\n",
    "        plt.clim(clim[0],clim[1])\n",
    "        plt.title(col)\n",
    "        \n",
    "        \n",
    "        \n",
    "def modify_infile():\n",
    "    f = open(\"INFILE\", \"r\")\n",
    "    contents = f.readlines()\n",
    "    f.close()\n",
    "    contents.insert(5, 'SEED\\n')\n",
    "    f = open(\"INFILE\", \"w\")\n",
    "    contents = \"\".join(contents)\n",
    "    f.write(contents)\n",
    "    f.close()\n",
    "    \n",
    "    return"
   ]
  },
  {
   "cell_type": "code",
   "execution_count": 4,
   "metadata": {},
   "outputs": [
    {
     "name": "stderr",
     "output_type": "stream",
     "text": [
      "/home/amaliak/anaconda3/lib/python3.6/site-packages/ipykernel_launcher.py:2: DeprecationWarning: `Tracer` is deprecated since version 5.1, directly use `IPython.core.debugger.Pdb.set_trace()`\n",
      "  \n"
     ]
    }
   ],
   "source": [
    "\n",
    "from IPython.core.debugger import Tracer; debug_here = Tracer()\n",
    "\n",
    "def DistanceVector(x, y, theta):\n",
    "    dim = x.shape[1]\n",
    "    DM = np.zeros(x.shape[0])\n",
    "\n",
    "    if dim == 1:\n",
    "        DM = (x[:] - y) ** 2. / theta ** 2.\n",
    "    else:\n",
    "        for i in np.arange(dim):\n",
    "            DM += (x[:, i] - y[i]) ** 2. / theta[i] ** 2.\n",
    "\n",
    "    DM = np.sqrt(DM)\n",
    "    return DM\n",
    "\n",
    "\n",
    "def CreateRow(xmin, xmax, N, kernel, theta):\n",
    "    \"\"\"\n",
    "    Create row column of covariance matrix\n",
    "    \"\"\"\n",
    "    dim = N.size\n",
    "\n",
    "    if dim == 1:\n",
    "        x = np.linspace(xmin[0], xmax[0], N[0])\n",
    "        x = x.reshape(-1,1) # make it 2D for consistency\n",
    "        R = DistanceVector(x, x[0], theta)\n",
    "    elif dim == 2:\n",
    "        x1 = np.linspace(xmin[0], xmax[0], N[0])\n",
    "        x2 = np.linspace(xmin[1], xmax[1], N[1])\n",
    "\n",
    "        xx, yy = np.meshgrid(x1, x2, indexing='ij')\n",
    "\n",
    "        x = np.vstack((np.ravel(xx, order='F'), np.ravel(yy, order='F'))).transpose()\n",
    "        R = DistanceVector(x, x[0, :].transpose(), theta)\n",
    "\n",
    "    elif dim == 3:\n",
    "        x1 = np.linspace(xmin[0], xmax[0], N[0])\n",
    "        x2 = np.linspace(xmin[1], xmax[1], N[1])\n",
    "        x3 = np.linspace(xmin[2], xmax[2], N[2])\n",
    "\n",
    "        #xx, yy, zz = np.meshgrid(x1, x2, x3, indexing='ij')\n",
    "        xx, yy, zz = np.meshgrid(x1, x2, x3, indexing='ij')\n",
    "\n",
    "        x = np.vstack((np.ravel(xx, order='F'), np.ravel(yy, order='F'), np.ravel(zz, order='F'))).transpose()\n",
    "        R = DistanceVector(x, x[0, :].transpose(), theta)\n",
    "\n",
    "    else:\n",
    "        raise ValueError(\"Support 1,2 and 3 dimensions\")\n",
    "\n",
    "    row = kernel(R)\n",
    "\n",
    "    return row, x\n",
    "\n",
    "\n",
    "def ToeplitzProduct(x, row, N):\n",
    "    ''' Toeplitz matrix times x\n",
    "    :param x: x for Qx\n",
    "    :param row: from CreateRow\n",
    "    :param N: size in each dimension ex) N = [2,3,4]\n",
    "    :return: Qx\n",
    "    '''\n",
    "    dim = N.size\n",
    "\n",
    "    if dim == 1:\n",
    "        circ = np.concatenate((row, row[-2:0:-1])).reshape(-1)\n",
    "        padded = np.concatenate((x, np.zeros(N[0] - 2)))\n",
    "        result = np.fft.ifft(np.fft.fft(circ) * np.fft.fft(padded))\n",
    "        result = np.real(result[0:N[0]])\n",
    "\n",
    "    elif dim == 2:\n",
    "        circ = np.reshape(row, (N[0], N[1]), order='F')\n",
    "        circ = np.concatenate((circ, circ[:, -2:0:-1]), axis=1)\n",
    "        circ = np.concatenate((circ, circ[-2:0:-1, :]), axis=0)\n",
    "\n",
    "        n = np.shape(circ)\n",
    "        padded = np.reshape(x, (N[0], N[1]), order='F')\n",
    "\n",
    "        result = np.fft.ifft2(np.fft.fft2(circ) * np.fft.fft2(padded, n))\n",
    "        result = np.real(result[0:N[0], 0:N[1]])\n",
    "        result = np.reshape(result, -1, order='F')\n",
    "\n",
    "    elif dim == 3:\n",
    "        circ = np.reshape(row, (N[0], N[1], N[2]), order='F')\n",
    "        circ = np.concatenate((circ, circ[:, :, -2:0:-1]), axis=2)\n",
    "        circ = np.concatenate((circ, circ[:, -2:0:-1, :]), axis=1)\n",
    "        circ = np.concatenate((circ, circ[-2:0:-1, :, :]), axis=0)\n",
    "\n",
    "        n = np.shape(circ)\n",
    "        padded = np.reshape(x, N, order='F')\n",
    "\n",
    "        result = np.fft.ifftn(np.fft.fftn(circ) * np.fft.fftn(padded, n))\n",
    "        result = np.real(result[0:N[0], 0:N[1], 0:N[2]])\n",
    "        result = np.reshape(result, -1, order='F')\n",
    "    else:\n",
    "        raise ValueError(\"Support 1,2 and 3 dimensions\")\n",
    "\n",
    "    return result\n",
    "\n",
    "\n",
    "def Realizations(row, N):\n",
    "    dim = N.size\n",
    "    if dim == 1:\n",
    "        circ = np.concatenate((row, row[-2:0:-1]))\n",
    "        n = circ.shape\n",
    "\n",
    "        eps = np.random.normal(0, 1, n) + 1j * np.random.normal(0, 1, n)\n",
    "        res = np.fft.ifft(np.sqrt(np.fft.fft(circ)) * eps) * np.sqrt(n)\n",
    "\n",
    "        r1 = np.real(res[0:N[0]])\n",
    "        r2 = np.imag(res[0:N[0]])\n",
    "\n",
    "    elif dim == 2:\n",
    "        circ = np.reshape(row, (N[0], N[1]), order='F')\n",
    "        circ = np.concatenate((circ, circ[:, -2:0:-1]), axis=1)\n",
    "        circ = np.concatenate((circ, circ[-2:0:-1, :]), axis=0)\n",
    "\n",
    "        n = np.shape(circ)\n",
    "        eps = np.random.normal(0, 1, n) + 1j * np.random.normal(0, 1, n)\n",
    "\n",
    "        res = np.fft.ifft2(np.sqrt(np.fft.fft2(circ)) * eps) * np.sqrt(n[0] * n[1])\n",
    "        res = res[0:N[0], 0:N[1]]\n",
    "        res = np.reshape(res, -1, order='F')\n",
    "\n",
    "        r1 = np.real(res)\n",
    "        r2 = np.imag(res)\n",
    "\n",
    "    elif dim == 3:\n",
    "        circ = np.reshape(row, (N[0], N[1], N[2]), order='F')\n",
    "        circ = np.concatenate((circ, circ[:, :, -2:0:-1]), axis=2)\n",
    "        circ = np.concatenate((circ, circ[:, -2:0:-1, :]), axis=1)\n",
    "        circ = np.concatenate((circ, circ[-2:0:-1, :, :]), axis=0)\n",
    "\n",
    "        n = np.shape(circ)\n",
    "        eps = np.random.normal(0, 1, n) + 1j * np.random.normal(0, 1, n)\n",
    "\n",
    "        res = np.fft.ifftn(np.sqrt(np.fft.fftn(circ)) * eps) * np.sqrt(n[0] * n[1] * n[2])\n",
    "        res = res[0:N[0], 0:N[1], 0:N[2]]\n",
    "        res = np.reshape(res, -1, order='F')\n",
    "\n",
    "        r1 = np.real(res)\n",
    "        r2 = np.imag(res)\n",
    "    else:\n",
    "        raise ValueError(\"Support 1,2 and 3 dimensions\")\n",
    "\n",
    "    return r1, r2, eps\n"
   ]
  },
  {
   "cell_type": "code",
   "execution_count": 5,
   "metadata": {
    "collapsed": true
   },
   "outputs": [],
   "source": [
    "# Create TOUGH2 input data file:\n",
    "dat = t2data()\n",
    "dat.title = '3D synthetic Ex1'\n",
    "\n",
    "dx = [10., 10., 2.]   # grid size\n",
    "nx = [30, 10, 10]     # number of grids in each dimension. Don't use large grid because of pytough naming convention\n",
    "geo = construct_grid(dx, nx)\n",
    "dat.grid = t2grid().fromgeo(geo)\n"
   ]
  },
  {
   "cell_type": "code",
   "execution_count": 6,
   "metadata": {
    "collapsed": true
   },
   "outputs": [],
   "source": [
    "alpha = 100\n",
    "def kernel(R):\n",
    "        return alpha * np.exp(-R)\n",
    "dim = 3\n",
    "np.random.seed(101)\n",
    "N = np.array(nx)\n",
    "dX = np.array(dx)\n",
    "x_max = N*dX\n",
    "x_min = np.zeros(dim)\n",
    "theta = np.array([300,300,10])\n",
    "row, pts = CreateRow(x_min, x_max, N, kernel,theta)\n",
    "r1, r2, ep = Realizations(row, N)\n"
   ]
  },
  {
   "cell_type": "code",
   "execution_count": 7,
   "metadata": {},
   "outputs": [
    {
     "name": "stdout",
     "output_type": "stream",
     "text": [
      "43.6096878575\n",
      "0.113451108111\n"
     ]
    },
    {
     "data": {
      "image/png": "[encoded data removed]",
      "text/plain": [
       "<matplotlib.figure.Figure at 0x7ffac396f438>"
      ]
     },
     "metadata": {},
     "output_type": "display_data"
    }
   ],
   "source": [
    "realization = np.sqrt(r1**2+r2**2)\n",
    "realization1 = realization.reshape(N[2],N[1],N[0])\n",
    "plt.imshow(realization1[:,4,:] )\n",
    "plt.colorbar(orientation='horizontal')\n",
    "plt.clim(0,50)\n",
    "print(np.max(realization))\n",
    "print(np.min(realization))"
   ]
  },
  {
   "cell_type": "code",
   "execution_count": 8,
   "metadata": {
    "collapsed": true
   },
   "outputs": [],
   "source": [
    "# simulation parameters:\n",
    "# Table 4.9 page 78 pytough tutorial and Appendix E of TOUGH2 tutorial\n",
    "# data.parameter is a dictionary\n",
    "# each parameter can be called as dat.parameter['parameter name']\n",
    "dat.parameter.update(\n",
    "    {'max_timesteps': 9000,                 # maximum number of time steps\n",
    "     'tstop': 0.32342126E+08,                   # stop time\n",
    "     'const_timestep': 6,                   # time step length\n",
    "     'max_timestep':86400,                   # maximum time step size\n",
    "     'absolute_error': 1,                   # absolute convergence tolerance\n",
    "     'relative_error': 5.e-6,               # relative convergence tolerance\n",
    "     'print_interval': 9000,                # time step interval for printing\n",
    "     'timestep_reduction': 3.,              # time step reduction factor\n",
    "     'gravity': 9.81,                       # gravitational acceleration\n",
    "     'default_incons': [100.e4, 10]})      # default initial conditions\n",
    "    # Pressure in Pa, 100 m water = 10.e5 Pa water, 10 is the temperature in Celcius\n",
    "dat.start = True"
   ]
  },
  {
   "cell_type": "code",
   "execution_count": 9,
   "metadata": {
    "collapsed": true
   },
   "outputs": [],
   "source": [
    "\n",
    "# Table 4.9 page 78 pytough tutorial and Appendix E of TOUGH2 tutorial\n",
    "# http://citeseerx.ist.psu.edu/viewdoc/download?doi=10.1.1.396.8810&rep=rep1&type=pdf\n",
    "# Set MOPs: PARAM option in INFILE\n",
    "dat.parameter['option'][1] = 1\n",
    "dat.parameter['option'][5] = 3\n",
    "dat.parameter['option'][7] = 1\n",
    "dat.parameter['option'][11] = 2\n",
    "dat.parameter['option'][12] = 2\n",
    "dat.parameter['option'][15] = 1\n",
    "dat.parameter['option'][16] = 4\n",
    "dat.parameter['option'][20] = 0\n",
    "dat.parameter['option'][21] = 1\n"
   ]
  },
  {
   "cell_type": "code",
   "execution_count": 10,
   "metadata": {
    "collapsed": true
   },
   "outputs": [],
   "source": [
    "# Set relative permeability (Corey) and capillarity functions:\n",
    "# Table 4.10, page 79 PYTOUGH\n",
    "dat.relative_permeability = {'type': 7, 'parameters': [0.95, 0.5, 1., 0.25, 0.]}\n",
    "dat.capillarity = {'type': 7, 'parameters': [0.8, 0.32, 1.e-4, 1.e7, 0.999]}\n"
   ]
  },
  {
   "cell_type": "code",
   "execution_count": 11,
   "metadata": {
    "collapsed": true
   },
   "outputs": [],
   "source": [
    "# rocktype object, Table 3.3, page 67 PyTOUGH\n",
    "r1 = rocktype('dfalt', permeability = [0.e-13]*3,density = 2600, porosity = 0.25,conductivity =2.51 , specific_heat = 920,)\n",
    "r2 = rocktype('HOMO1', permeability = [9.e-13, 3.e-14, 3.e-14],density = 2600, porosity = 0.25,conductivity =2.51 , specific_heat = 920,)\n",
    "#r4 = rocktype('HOMO2', permeability = [9.e-15, 3.e-15, 3.e-15],density = 2600, porosity = 0.25,conductivity =2.51 , specific_heat = 920,)\n",
    "r3 = rocktype('OUTB1', permeability = [1.e-13]*3,density = 2600, porosity = 0.25,conductivity =2.51 , specific_heat = 20000,)\n",
    "dat.grid.add_rocktype(r2)\n",
    "dat.grid.add_rocktype(r3)\n",
    "#dat.grid.add_rocktype(r4)\n",
    "\n",
    "#dat.grid.add_rocktype(r3)\n",
    "dat.multi.update({'num_components': 1, 'num_equations':2, 'num_phases':2, 'num_secondary_parameters':6})\n"
   ]
  },
  {
   "cell_type": "code",
   "execution_count": 12,
   "metadata": {},
   "outputs": [
    {
     "name": "stdout",
     "output_type": "stream",
     "text": [
      "{'num_components': 1, 'num_equations': 2, 'num_phases': 2, 'num_secondary_parameters': 6}\n"
     ]
    },
    {
     "data": {
      "text/plain": [
       "array([  1.00000000e-13,   1.00000000e-13,   1.00000000e-13])"
      ]
     },
     "execution_count": 12,
     "metadata": {},
     "output_type": "execute_result"
    }
   ],
   "source": [
    "print(dat.multi)\n",
    "dat.grid.rocktype\n",
    "dat.grid.rocktype\n",
    "dat.grid.check\n",
    "r3.permeability"
   ]
  },
  {
   "cell_type": "code",
   "execution_count": 13,
   "metadata": {
    "collapsed": true
   },
   "outputs": [],
   "source": [
    "# SOLVR Table 4.11 page 79 PyTough\n",
    "dat.solver.update({'type': 5, 'z_precond':1,'o_precond': 0, 'relative_max_iterations':.8,'closure':1.e-7 })\n"
   ]
  },
  {
   "cell_type": "code",
   "execution_count": 14,
   "metadata": {
    "collapsed": true
   },
   "outputs": [],
   "source": [
    "#print(dat.output_times)\n",
    "#type(dat.output_times['time'])"
   ]
  },
  {
   "cell_type": "code",
   "execution_count": null,
   "metadata": {
    "collapsed": true
   },
   "outputs": [],
   "source": []
  },
  {
   "cell_type": "code",
   "execution_count": 15,
   "metadata": {
    "collapsed": true
   },
   "outputs": [],
   "source": [
    "# TIMES table 4.8\n",
    "dat.output_times.update({'num_times_specified':2, 'time': [0.8640E+04, 0.32342126E+08]})\n"
   ]
  },
  {
   "cell_type": "code",
   "execution_count": 16,
   "metadata": {},
   "outputs": [
    {
     "name": "stdout",
     "output_type": "stream",
     "text": [
      "374.33016203703704\n"
     ]
    }
   ],
   "source": [
    "print(dat.output_times['time'][1]/86400)\n",
    "# prints output times in days"
   ]
  },
  {
   "cell_type": "code",
   "execution_count": 17,
   "metadata": {},
   "outputs": [
    {
     "data": {
      "text/plain": [
       "array([ 95.,  35.,  -7.])"
      ]
     },
     "execution_count": 17,
     "metadata": {},
     "output_type": "execute_result"
    }
   ],
   "source": [
    "dat.grid.blocklist[1000].centre"
   ]
  },
  {
   "cell_type": "code",
   "execution_count": 18,
   "metadata": {
    "collapsed": true
   },
   "outputs": [],
   "source": [
    "# rocktypes:\n",
    "# Setting rocktype based on the block's 'z' coordinate\n",
    "z_bottom = -17\n",
    "z_top = -2\n",
    "\n",
    "# assign all non boundary elements to r2\n",
    "for blk in dat.grid.blocklist[1:]: \n",
    "    if z_bottom < blk.centre[2] < z_top:\n",
    "        blk.rocktype=r2\n",
    "    else: blk.rocktype=r3\n",
    "   \n",
    "lense = 0\n",
    "\n",
    "if lense==1:\n",
    "    # within homeogeneous domain, assign a lense that is in the way of the injection\n",
    "    lense_bottom_z = -14\n",
    "    lense_top_z = -8\n",
    "    lense_start_x = 65\n",
    "    lense_end_x = 115\n",
    "    for blk in dat.grid.blocklist[1:]:\n",
    "        if lense_bottom_z < blk.centre[2] < lense_top_z:\n",
    "            if lense_start_x < blk.centre[0] < lense_end_x:\n",
    "                blk.rocktype=r4\n",
    "    \n",
    "dat.grid.clean_rocktypes()"
   ]
  },
  {
   "cell_type": "code",
   "execution_count": 19,
   "metadata": {
    "collapsed": true
   },
   "outputs": [],
   "source": [
    "for blk, pmx in zip(dat.grid.blocklist[1:], realization):\n",
    "    #blk.pmx = 1\n",
    "    blk.pmx = pmx\n",
    "    #print(pmxb)"
   ]
  },
  {
   "cell_type": "code",
   "execution_count": 20,
   "metadata": {},
   "outputs": [
    {
     "name": "stdout",
     "output_type": "stream",
     "text": [
      "3 rock types; 3001 blocks; 8600 connections\n",
      "HOMO1\n"
     ]
    }
   ],
   "source": [
    "print(dat.grid)\n",
    "print(r2)"
   ]
  },
  {
   "cell_type": "code",
   "execution_count": 21,
   "metadata": {
    "collapsed": true
   },
   "outputs": [],
   "source": [
    "# setting the blocks for FOFT\n",
    "# this section needs to be modified. FOFT blocks can be given by the coordinate of the block, or by the block name\n",
    "# currently, it accepts the cell number in each direction\n",
    "# for example the first cell here is located in grid (2,2) in 5th layer\n",
    "x_obs = [7,10,14]#[2,4,14,16]\n",
    "y_obs = [5,5,5]#[2,4,14,16]\n",
    "z_obs = [6,6,6]\n",
    "\n",
    "# from function definition above \n",
    "# set_measurement_blk(dat, x, y, z, nx):\n",
    "set_measurement_blk(dat, x_obs, y_obs, z_obs, nx)"
   ]
  },
  {
   "cell_type": "code",
   "execution_count": 22,
   "metadata": {},
   "outputs": [
    {
     "name": "stdout",
     "output_type": "stream",
     "text": [
      "[' f127', ' f130', ' f134']\n",
      "[30, 10, 10]\n"
     ]
    }
   ],
   "source": [
    "print(dat.history_block)\n",
    "print(nx)\n"
   ]
  },
  {
   "cell_type": "code",
   "execution_count": 23,
   "metadata": {},
   "outputs": [
    {
     "data": {
      "text/plain": [
       "[' f127', ' f130', ' f134']"
      ]
     },
     "execution_count": 23,
     "metadata": {},
     "output_type": "execute_result"
    }
   ],
   "source": [
    "# just checking the name of measurement blocks\n",
    "# f124 coordinates are 35,45,10  and it is the 2nd observationn point at 4,4,5 element :1\n",
    "\n",
    "dat.history_block"
   ]
  },
  {
   "cell_type": "code",
   "execution_count": 24,
   "metadata": {
    "collapsed": true
   },
   "outputs": [],
   "source": [
    "# adding generators to the model\n",
    "\n",
    "center = [150, 150] # [x,y] position of the center\n",
    "L = 40     # length of one side of square\n",
    "qmax = 15000\n",
    "L_scale = 300\n"
   ]
  },
  {
   "cell_type": "code",
   "execution_count": 25,
   "metadata": {},
   "outputs": [
    {
     "name": "stdout",
     "output_type": "stream",
     "text": [
      "[]\n",
      "[]\n",
      "[]\n",
      "Generators added\n"
     ]
    }
   ],
   "source": [
    "heat_generator(dat, geo, center, L, qmax, L_scale, method = 'Square')\n",
    "# just checking the generator blocks\n"
   ]
  },
  {
   "cell_type": "code",
   "execution_count": 26,
   "metadata": {
    "collapsed": true
   },
   "outputs": [],
   "source": [
    "# Write data file\n",
    "\n",
    "dat.write('INFILE')\n",
    "modify_infile()\n"
   ]
  },
  {
   "cell_type": "code",
   "execution_count": 27,
   "metadata": {
    "collapsed": true
   },
   "outputs": [],
   "source": [
    "clear_FOFT()"
   ]
  },
  {
   "cell_type": "code",
   "execution_count": 28,
   "metadata": {
    "collapsed": true
   },
   "outputs": [],
   "source": [
    "# running tough2_mp\n",
    "forward_run()"
   ]
  },
  {
   "cell_type": "code",
   "execution_count": 29,
   "metadata": {
    "collapsed": true
   },
   "outputs": [],
   "source": [
    "# measured_data = read_FOFT()"
   ]
  },
  {
   "cell_type": "code",
   "execution_count": 30,
   "metadata": {
    "collapsed": true
   },
   "outputs": [],
   "source": [
    "measured_data = read_FOFT()\n",
    "#print(measured_data)"
   ]
  },
  {
   "cell_type": "code",
   "execution_count": 31,
   "metadata": {},
   "outputs": [
    {
     "name": "stderr",
     "output_type": "stream",
     "text": [
      "b'Skipping line 6005: expected 3 fields, saw 5\\nSkipping line 6006: expected 3 fields, saw 10\\n'\n"
     ]
    }
   ],
   "source": [
    "data_save = read_SAVE()"
   ]
  },
  {
   "cell_type": "code",
   "execution_count": 32,
   "metadata": {},
   "outputs": [
    {
     "data": {
      "text/plain": [
       "0       10.007679\n",
       "1       10.016191\n",
       "2       10.022759\n",
       "3       10.031027\n",
       "4       10.038485\n",
       "5       10.045691\n",
       "6       10.045596\n",
       "7       10.040850\n",
       "8       10.034503\n",
       "9       10.028558\n",
       "10      10.022841\n",
       "11      10.018004\n",
       "12      10.013342\n",
       "13      10.009689\n",
       "14      10.007086\n",
       "15      10.005137\n",
       "16      10.003635\n",
       "17      10.002603\n",
       "18      10.001972\n",
       "19      10.001603\n",
       "20      10.001349\n",
       "21      10.001227\n",
       "22      10.001188\n",
       "23      10.001117\n",
       "24      10.001071\n",
       "25      10.001082\n",
       "26      10.000962\n",
       "27      10.000966\n",
       "28      10.000956\n",
       "29      10.000995\n",
       "          ...    \n",
       "2970    10.000714\n",
       "2971    10.000732\n",
       "2972    10.000841\n",
       "2973    10.000907\n",
       "2974    10.000916\n",
       "2975    10.000875\n",
       "2976    10.000817\n",
       "2977    10.000761\n",
       "2978    10.000720\n",
       "2979    10.000705\n",
       "2980    10.000674\n",
       "2981    10.000637\n",
       "2982    10.000608\n",
       "2983    10.000577\n",
       "2984    10.000557\n",
       "2985    10.000591\n",
       "2986    10.000623\n",
       "2987    10.000604\n",
       "2988    10.000558\n",
       "2989    10.000540\n",
       "2990    10.000553\n",
       "2991    10.000454\n",
       "2992    10.000348\n",
       "2993    10.000329\n",
       "2994    10.000297\n",
       "2995    10.000313\n",
       "2996    10.000242\n",
       "2997    10.000293\n",
       "2998    10.000367\n",
       "2999    10.000348\n",
       "Name: Temperature, Length: 3000, dtype: float64"
      ]
     },
     "execution_count": 32,
     "metadata": {},
     "output_type": "execute_result"
    }
   ],
   "source": [
    "data_save['Temperature']\n"
   ]
  },
  {
   "cell_type": "code",
   "execution_count": 33,
   "metadata": {},
   "outputs": [
    {
     "name": "stdout",
     "output_type": "stream",
     "text": [
      " f134\n"
     ]
    },
    {
     "data": {
      "image/png": "[encoded data removed]",
      "text/plain": [
       "<matplotlib.figure.Figure at 0x7ffac3587f60>"
      ]
     },
     "metadata": {},
     "output_type": "display_data"
    }
   ],
   "source": [
    "print(dat.history_block[2])\n",
    "plot_FoFT(measured_data, dat.history_block[2], variable = 'Temperature', ylim = [0, 100], xlim = [0, 86400*347]) # ylim sets the range fo"
   ]
  },
  {
   "cell_type": "code",
   "execution_count": 34,
   "metadata": {},
   "outputs": [
    {
     "name": "stdout",
     "output_type": "stream",
     "text": [
      " f127\n"
     ]
    },
    {
     "data": {
      "image/png": "[encoded data removed]",
      "text/plain": [
       "<matplotlib.figure.Figure at 0x7ffac396fba8>"
      ]
     },
     "metadata": {},
     "output_type": "display_data"
    }
   ],
   "source": [
    "print(dat.history_block[0])\n",
    "plot_FoFT(measured_data, dat.history_block[0], variable = 'Temperature', ylim = [0, 100], xlim = [0, 86400*347]) # ylim sets the range fo\n"
   ]
  },
  {
   "cell_type": "code",
   "execution_count": 35,
   "metadata": {},
   "outputs": [
    {
     "name": "stdout",
     "output_type": "stream",
     "text": [
      " f130\n"
     ]
    },
    {
     "data": {
      "image/png": "[encoded data removed]",
      "text/plain": [
       "<matplotlib.figure.Figure at 0x7ffac3551da0>"
      ]
     },
     "metadata": {},
     "output_type": "display_data"
    }
   ],
   "source": [
    "print(dat.history_block[1])\n",
    "plot_FoFT(measured_data, dat.history_block[1], variable = 'Temperature', ylim = [0, 200], xlim = [0, 86400*347]) # ylim sets the range fo\n"
   ]
  },
  {
   "cell_type": "code",
   "execution_count": 36,
   "metadata": {
    "collapsed": true
   },
   "outputs": [],
   "source": [
    "## Here you are printing the same \n",
    "##Elem = dat.history_block[1]\n",
    "##print(dat.history_block[:])\n",
    "#for Elm in dat.history_block:\n",
    "#    print(Elm)\n",
    "#    plot_FoFT(measured_data, Elm, variable = 'Temperature', ylim = [0, 100], xlim = [0, 86400]) # ylim sets the range for y axis"
   ]
  },
  {
   "cell_type": "code",
   "execution_count": 37,
   "metadata": {},
   "outputs": [
    {
     "data": {
      "text/plain": [
       "array([ 10.00767921,  10.01619073,  10.02275905, ...,  10.00029266,\n",
       "        10.0003669 ,  10.0003476 ])"
      ]
     },
     "execution_count": 37,
     "metadata": {},
     "output_type": "execute_result"
    }
   ],
   "source": [
    "data_save_T=np.array(data_save['Temperature']) # you should give the whole data frame as input to plot_SAVE function\n",
    "data_save_T                                    # so you don't need to read the Temperature column here. I renamed the variable here"
   ]
  },
  {
   "cell_type": "code",
   "execution_count": null,
   "metadata": {
    "collapsed": true
   },
   "outputs": [],
   "source": []
  },
  {
   "cell_type": "code",
   "execution_count": 42,
   "metadata": {},
   "outputs": [
    {
     "data": {
      "text/plain": [
       "Text(0,0.5,'z(m)')"
      ]
     },
     "execution_count": 42,
     "metadata": {},
     "output_type": "execute_result"
    },
    {
     "data": {
      "image/png": "[encoded data removed]",
      "text/plain": [
       "<matplotlib.figure.Figure at 0x7ffac33676a0>"
      ]
     },
     "metadata": {},
     "output_type": "display_data"
    }
   ],
   "source": [
    "#data_save, 'y' variable here sets which y cross=section you want to plot\n",
    "plot_SAVE(data_save, nx, y=4, col = 'Pressure', clim = [380, 420])\n",
    "#data_save=np.array(data_save['Temperature'])\n",
    "#a = np.reshape(data_save,(nx[2],nx[1],nx[0])).T\n",
    "#plt.imshow(a[:,:,5].T)\n",
    "plt.colorbar(orientation='horizontal')\n",
    "plt.title('Pressure in Pa')\n",
    "plt.xlabel('x(m)')\n",
    "plt.ylabel('z(m)')\n"
   ]
  },
  {
   "cell_type": "code",
   "execution_count": 43,
   "metadata": {},
   "outputs": [
    {
     "data": {
      "text/plain": [
       "<matplotlib.colorbar.Colorbar at 0x7ffac316c128>"
      ]
     },
     "execution_count": 43,
     "metadata": {},
     "output_type": "execute_result"
    },
    {
     "data": {
      "image/png": "[encoded data removed]",
      "text/plain": [
       "<matplotlib.figure.Figure at 0x7ffac324a7f0>"
      ]
     },
     "metadata": {},
     "output_type": "display_data"
    }
   ],
   "source": [
    "plot_SAVE(data_save, nx, y=4, col = 'Temperature', clim = [0, 60])\n",
    "plt.title('Temperature in C')\n",
    "plt.xlabel('x(m)')\n",
    "plt.ylabel('z(m)')\n",
    "plt.colorbar(orientation='horizontal')"
   ]
  },
  {
   "cell_type": "code",
   "execution_count": null,
   "metadata": {
    "collapsed": true
   },
   "outputs": [],
   "source": []
  },
  {
   "cell_type": "code",
   "execution_count": null,
   "metadata": {
    "collapsed": true
   },
   "outputs": [],
   "source": []
  },
  {
   "cell_type": "code",
   "execution_count": null,
   "metadata": {
    "collapsed": true
   },
   "outputs": [],
   "source": []
  },
  {
   "cell_type": "code",
   "execution_count": null,
   "metadata": {
    "collapsed": true
   },
   "outputs": [],
   "source": []
  },
  {
   "cell_type": "code",
   "execution_count": null,
   "metadata": {
    "collapsed": true
   },
   "outputs": [],
   "source": []
  },
  {
   "cell_type": "code",
   "execution_count": null,
   "metadata": {
    "collapsed": true
   },
   "outputs": [],
   "source": []
  },
  {
   "cell_type": "code",
   "execution_count": null,
   "metadata": {
    "collapsed": true
   },
   "outputs": [],
   "source": []
  },
  {
   "cell_type": "code",
   "execution_count": null,
   "metadata": {
    "collapsed": true
   },
   "outputs": [],
   "source": []
  },
  {
   "cell_type": "code",
   "execution_count": null,
   "metadata": {
    "collapsed": true
   },
   "outputs": [],
   "source": []
  },
  {
   "cell_type": "code",
   "execution_count": null,
   "metadata": {
    "collapsed": true
   },
   "outputs": [],
   "source": []
  },
  {
   "cell_type": "code",
   "execution_count": null,
   "metadata": {
    "collapsed": true
   },
   "outputs": [],
   "source": []
  },
  {
   "cell_type": "code",
   "execution_count": null,
   "metadata": {
    "collapsed": true
   },
   "outputs": [],
   "source": []
  },
  {
   "cell_type": "code",
   "execution_count": null,
   "metadata": {
    "collapsed": true
   },
   "outputs": [],
   "source": []
  },
  {
   "cell_type": "code",
   "execution_count": null,
   "metadata": {
    "collapsed": true
   },
   "outputs": [],
   "source": []
  }
 ],
 "metadata": {
  "kernelspec": {
   "display_name": "Python 3",
   "language": "python",
   "name": "python3"
  },
  "language_info": {
   "codemirror_mode": {
    "name": "ipython",
    "version": 3
   },
   "file_extension": ".py",
   "mimetype": "text/x-python",
   "name": "python",
   "nbconvert_exporter": "python",
   "pygments_lexer": "ipython3",
   "version": "3.6.4"
  }
 },
 "nbformat": 4,
 "nbformat_minor": 2
}
