{
 "cells": [
  {
   "cell_type": "markdown",
   "metadata": {},
   "source": [
    "# pyPCGA tutorial example - pumping history identification"
   ]
  },
  {
   "cell_type": "markdown",
   "metadata": {},
   "source": [
    "## (1) linear inversion problem example (from Stanford 362G course)"
   ]
  },
  {
   "cell_type": "markdown",
   "metadata": {},
   "source": [
    "##  Problem description\n",
    "\n",
    "+ Consider flow in a homogeneous and isotropic aquifer, with flow nearly horizontal\n",
    "+ An extraction well at location (x,y) = (0, 0) [m], i.e., the origin of the coordinate system. \n",
    "+ However, the pumping rate s(t) is not measured \n",
    "+ Luckily, there are head/drawdown observations at a neighboring well (x,y) = (6,8) [m] that records the effect of pumping. \n",
    "\n",
    "### Assuming we know all the aquifer properties, can we reconstruct the pumping history, s(t), at (0,0) from time-series drawdown measurements at (6,8) from t = 0 to 1000 mins?"
   ]
  },
  {
   "cell_type": "markdown",
   "metadata": {},
   "source": [
    "** If you are only interested in how to use pyPCGA and see the inversion results, please skip equations below and move to line 1"
   ]
  },
  {
   "cell_type": "markdown",
   "metadata": {},
   "source": [
    "---\n",
    "Under this circumstance, the hydraulic head satisifies \n",
    "\n",
    "$$ S \\frac{\\partial \\phi}{\\partial t} - T \\left( \\frac{\\partial^2 \\phi}{\\partial x_1^2} + \\frac{\\partial^2 \\phi}{\\partial x_2^2}  \\right) = -s(t) \\delta(x_1) \\delta(x_2) $$\n",
    "\n",
    "where $t$ is time [T],\n",
    "\n",
    "($x_1$, $x_2$) are spatial coordinates [L],\n",
    "\n",
    "$\\phi$ is the (depth-averaged) head [L],\n",
    "\n",
    "$S$ is the storatovitiy (storage coefficient) [-],\n",
    "\n",
    "$T$ is the transmissivity [$L^2$/T],\n",
    "\n",
    "$s(t)$ is the extraction rate [$L^3$/T],\n",
    "\n",
    "and $\\delta(x)$ is the Dirac delta function.\n",
    "\n",
    "Using the hydraulic diffusivity, $D = \\frac{T}{S}$, the equation can also be written\n",
    "\n",
    "$$ \\frac{\\partial \\phi}{\\partial t} - D \\left( \\frac{\\partial^2 \\phi}{\\partial x_1^2} + \\frac{\\partial^2 \\phi}{\\partial x_2^2}  \\right) = - \\frac{1}{S} s(t) \\delta(x_1) \\delta(x_2) $$\n",
    "\n",
    "The solution, for an unbounded domain with level $\\phi_0$ away from the well, and neglecting well storage and some other effects, is:\n",
    "\n",
    "$$ \\phi(t,x_1,x_2) = \\phi_0 - \\frac{1}{4\\pi T} \\int_0^t \\frac{1}{t-\\tau} \\exp\\left(- \\frac{x_1^2+x_2^2}{4D(t-\\tau)} \\right) s(\\tau) d\\tau$$\n",
    "\n",
    "The drawdown is \n",
    "\n",
    "$$y(t,x_1,x_2) = \\phi_0 - \\phi(t,x_1,x_2)$$\n",
    "\n",
    "Using any appropriate quadrature rule, we end up with \n",
    "\n",
    "$$ y = Hs $$\n",
    "\n",
    "where $y$ is n by 1 drawdowns at the montoring well, \n",
    "\n",
    "$H$ is a m by m matrix/linear operator, \n",
    "\n",
    "$s$ is m by 1 extraction rates at the pumping well  \n",
    "\n",
    "\n",
    "---"
   ]
  },
  {
   "cell_type": "markdown",
   "metadata": {},
   "source": [
    "### Test enviroment information"
   ]
  },
  {
   "cell_type": "code",
   "execution_count": 1,
   "metadata": {},
   "outputs": [
    {
     "name": "stdout",
     "output_type": "stream",
     "text": [
      "3.6.4 |Anaconda custom (64-bit)| (default, Jan 16 2018, 10:22:32) [MSC v.1900 64 bit (AMD64)]\n"
     ]
    }
   ],
   "source": [
    "import sys\n",
    "print(sys.version)"
   ]
  },
  {
   "cell_type": "code",
   "execution_count": 2,
   "metadata": {
    "scrolled": true
   },
   "outputs": [
    {
     "name": "stdout",
     "output_type": "stream",
     "text": [
      "Windows-10-10.0.17134-SP0\n"
     ]
    }
   ],
   "source": [
    "import platform\n",
    "print(platform.platform())\n"
   ]
  },
  {
   "cell_type": "code",
   "execution_count": 3,
   "metadata": {},
   "outputs": [
    {
     "name": "stdout",
     "output_type": "stream",
     "text": [
      "1.14.0\n"
     ]
    }
   ],
   "source": [
    "import numpy as np\n",
    "print(np.__version__)"
   ]
  },
  {
   "cell_type": "code",
   "execution_count": 4,
   "metadata": {},
   "outputs": [],
   "source": [
    "import matplotlib.pyplot as plt\n",
    "import drawdown as dd # our forward model interface\n",
    "from pyPCGA import PCGA # PCGA ver0.1\n",
    "import math"
   ]
  },
  {
   "cell_type": "markdown",
   "metadata": {},
   "source": [
    "pyPCGA parameters (see [PCGA_parameters.docx](https://github.com/jonghyunharrylee/pyPCGA/blob/master/PCGA_parameters_06212018.docx) for details) \n",
    "\n",
    "Note that prior parameters (prior_std and prior_cov_scale) and measurement/model uncertainty (R) were estimated using a model validation approach [Kitanidis, 2007]\n",
    "\n",
    "|Description           |                      |   Value | \n",
    "| ---------------------|----------------------|---------|\n",
    "|*Geostatistical parameters*     ||                     |\n",
    "| prior_std            | (Bayesian) prior uncertainty/standard deviation | 0.04 [$m^3$/min]|\n",
    "| prior_cov_scale      | Prior scale/correlation length                        | 200 m |\n",
    "| kernel        | Covariance kernel q(x,x') | q(x,x') = $0.04^2 \\exp\\left(-|x-x'|/200\\right)$|\n",
    "| m                    | Number of unknowns (unknown pumping history over time) | 10,001 |\n",
    "| matvec               | Fast covariance matrix-vector multiplication method | FFT (will support Hmatrix/FMM in ver 0.2)| \n",
    "| N                    | Array of grid numbers in each direction ([nx,ny,nz], for structured grid/FFT)  | [10,001] (1D) |\n",
    "| xmin, xmax           | Array of min and max coordinates in each direction (for structured grid/FFT)  | [0], [1000] (1D) |\n",
    "| pts                  | Coordinates for unknowns (optional, used for Hmatrix and FMM) | [0, 0.1. 0.2, ..., 999.9 1000 ] |\n",
    "| post_cov             | Posterior uncertainty (variance/covaraiance, currently support posterior variance)      | diag |\n",
    "|*Measurement parameters* ||  |\n",
    "| nobs | Number of measurement | 100 |\n",
    "| R | Variance of measurement error (and model uncertainty) (m) | 0.04^2 |\n",
    "|*Inversion parameters* || |\n",
    "| maxiter | Maximum iteration number | 10|\n",
    "| restol | Tolerance (relative norm differnce) for stopping criteria | 0.01|\n",
    "| parallel | Use parallelization for inversion | True|\n",
    "| ncores | number of cores if parallel == True | None (if not defined, use all the physcial cores you have)|\n",
    "|precond | Use preconditioner | True |\n",
    "|LM | Use Levenberg-Marquardt |  True|\n",
    "| linesearch | Use linearseach | True|\n",
    "| verbose | Inversion message |  False|\n",
    "| forward_model_verbose | user-define forward model message |  False|\n",
    "| iter_save | Save intermediate solutions | True |\n",
    "\n",
    "\n"
   ]
  },
  {
   "cell_type": "markdown",
   "metadata": {},
   "source": [
    "+ Model domain and discretization"
   ]
  },
  {
   "cell_type": "code",
   "execution_count": 5,
   "metadata": {},
   "outputs": [],
   "source": [
    "# model domain and discretization\n",
    "m = 10001 # number of unknowns (unknown pumping rates over the time) \n",
    "N = np.array([m]) # discretization grids in each direction [nx,ny,nz] m = nx*ny*nz; for this 1D case, N = nx = [m]\n",
    "xmin = np.array([0]) # min x, y, z;  for this 1D case, min(x) = min(t)\n",
    "xmax = np.array([1000]) # max x, y, z; for this 1D case, max(x) = max(t)"
   ]
  },
  {
   "cell_type": "markdown",
   "metadata": {},
   "source": [
    "+ Covariance kernel and scale parameters"
   ]
  },
  {
   "cell_type": "code",
   "execution_count": 6,
   "metadata": {},
   "outputs": [],
   "source": [
    "# covairance kernel and scale parameters\n",
    "prior_std = 0.04\n",
    "prior_cov_scale = np.array([200.0])\n",
    "\n",
    "def kernel(r): return (prior_std ** 2) * np.exp(-r)"
   ]
  },
  {
   "cell_type": "markdown",
   "metadata": {},
   "source": [
    "+ Load \"true\" pumping history"
   ]
  },
  {
   "cell_type": "code",
   "execution_count": 7,
   "metadata": {},
   "outputs": [],
   "source": [
    "s_true = np.loadtxt('true.txt') "
   ]
  },
  {
   "cell_type": "code",
   "execution_count": 8,
   "metadata": {},
   "outputs": [
    {
     "data": {
      "text/plain": [
       "Text(0,0.5,'s ($m^3$/min)')"
      ]
     },
     "execution_count": 8,
     "metadata": {},
     "output_type": "execute_result"
    },
    {
     "data": {
      "image/png": "[encoded data removed]",
      "text/plain": [
       "<matplotlib.figure.Figure at 0x14a97ca49b0>"
      ]
     },
     "metadata": {},
     "output_type": "display_data"
    }
   ],
   "source": [
    "# for plotting\n",
    "x = np.linspace(xmin, xmax, m)\n",
    "pts = np.copy(x)\n",
    "\n",
    "plt.plot(x,s_true,'r-',label='true')\n",
    "plt.title('True pumping history at (0,0)')\n",
    "plt.xlabel('time (min)')\n",
    "plt.ylabel(r's ($m^3$/min)')"
   ]
  },
  {
   "cell_type": "markdown",
   "metadata": {},
   "source": [
    "+ Load 100 noisy observations recorded at every 10 mins (see drawdown.py)\n",
    "```python\n",
    "obs = np.dot(H,s_true) + 0.01*np.random.randn(m,1)\n",
    "```"
   ]
  },
  {
   "cell_type": "code",
   "execution_count": 9,
   "metadata": {},
   "outputs": [],
   "source": [
    "obs = np.loadtxt('obs.txt')"
   ]
  },
  {
   "cell_type": "markdown",
   "metadata": {},
   "source": [
    "+ Define a wrapper for a black-box forward model input in pyPCGA \n",
    "\n",
    "##### Note that one should follow this wrapper format to work with pyPCGA "
   ]
  },
  {
   "cell_type": "code",
   "execution_count": 10,
   "metadata": {},
   "outputs": [],
   "source": [
    "# forward model wrapper for pyPCGA\n",
    "def forward_model(s, parallelization, ncores=None):\n",
    "    params = {} # define some parameters for the forward problem here\n",
    "    model = dd.Model(params)\n",
    "\n",
    "    if parallelization:\n",
    "        simul_obs = model.run(s, parallelization, ncores)\n",
    "    else:\n",
    "        simul_obs = model.run(s, parallelization)\n",
    "    return simul_obs"
   ]
  },
  {
   "cell_type": "markdown",
   "metadata": {},
   "source": [
    "+ Inversion parameters "
   ]
  },
  {
   "cell_type": "code",
   "execution_count": 11,
   "metadata": {},
   "outputs": [],
   "source": [
    "params = {'R': (0.04) ** 2, 'n_pc': 50,\n",
    "        'maxiter': 10, 'restol': 0.01,\n",
    "        'matvec': 'FFT', 'xmin': xmin, 'xmax': xmax, 'N': N,\n",
    "        'prior_std': prior_std, 'prior_cov_scale': prior_cov_scale,\n",
    "        'kernel': kernel, 'post_cov': \"diag\",\n",
    "        'precond': True, 'LM': True,\n",
    "        'parallel': True, 'linesearch': True,\n",
    "        'forward_model_verbose': False, 'verbose': False,\n",
    "        'iter_save': True}\n",
    "\n",
    "# params['objeval'] = False, if true, it will compute accurate objective function\n",
    "# params['ncores'] = 4, with parallell True, it will determine maximum physcial core unless specified"
   ]
  },
  {
   "cell_type": "markdown",
   "metadata": {},
   "source": [
    "+ Initial guess"
   ]
  },
  {
   "cell_type": "code",
   "execution_count": 12,
   "metadata": {},
   "outputs": [],
   "source": [
    "s_init = np.mean(s_true) * np.ones((m, 1)) # you can provide any guess"
   ]
  },
  {
   "cell_type": "markdown",
   "metadata": {},
   "source": [
    "## Inversion"
   ]
  },
  {
   "cell_type": "markdown",
   "metadata": {},
   "source": [
    "+ Initialize pyPCGA"
   ]
  },
  {
   "cell_type": "code",
   "execution_count": 13,
   "metadata": {},
   "outputs": [
    {
     "name": "stdout",
     "output_type": "stream",
     "text": [
      "##### PCGA Inversion #####\n",
      "##### 1. Initialize forward and inversion parameters\n",
      "------------ Inversion Parameters -------------------------\n",
      "   Number of unknowns                               : 10001\n",
      "   Number of observations                           : 100\n",
      "   Number of principal components (n_pc)            : 50\n",
      "   Prior model                                      : def kernel(r): return (prior_std ** 2) * np.exp(-r)\n",
      "\n",
      "   Prior variance                                   : 1.600000e-03\n",
      "   Prior scale (correlation) parameter              : [200.]\n",
      "   Posterior cov computation                        : diag\n",
      "   Posterior variance computation                   : Direct\n",
      "   Number of CPU cores (n_core)                     : 4\n",
      "   Maximum GN iterations                            : 10\n",
      "   machine precision (delta = sqrt(precision))      : 1.000000e-08\n",
      "   Tol for iterations (norm(sol_diff)/norm(sol))    : 1.000000e-02\n",
      "   Levenberg-Marquardt (LM)                         : True\n",
      "   LM solution range constraints (LM_smin, LM_smax) : None, None\n",
      "   Line search                                      : True\n",
      "-----------------------------------------------------------\n"
     ]
    }
   ],
   "source": [
    "prob = PCGA(forward_model, s_init, pts, params, s_true, obs)"
   ]
  },
  {
   "cell_type": "markdown",
   "metadata": {},
   "source": [
    "+ Run pyPCGA"
   ]
  },
  {
   "cell_type": "code",
   "execution_count": 14,
   "metadata": {},
   "outputs": [
    {
     "name": "stdout",
     "output_type": "stream",
     "text": [
      "##### 2. Construct Prior Covariance Matrix\n",
      "- time for covariance matrix construction (m = 10001) is 0 sec\n",
      "##### 3. Eigendecomposition of Prior Covariance\n",
      "- time for eigendecomposition with k = 50 is 0 sec\n",
      "- 1st eigv : 5.29487, 50-th eigv : 0.00674062, ratio: 0.00127305\n",
      "##### 4. Start PCGA Inversion #####\n",
      "-- evaluate initial solution\n",
      "obs. RMSE (norm(obs. diff.)/sqrt(nobs)): 0.776609, normalized obs. RMSE (norm(obs. diff./sqrtR)/sqrt(nobs)): 19.4152\n",
      "***** Iteration 1 ******\n",
      "computed Jacobian-Matrix products in 0.896603 secs\n",
      "solve saddle point (co-kriging) systems with Levenberg-Marquardt\n",
      "evaluate LM solutions\n",
      "LM solution evaluted\n",
      "- Geostat. inversion at iteration 1 is 2 sec\n",
      "== iteration 1 summary ==\n",
      "= objective function is 6.433151e+01, relative L2-norm diff btw sol 0 and sol 1 is 1.55669\n",
      "= L2-norm error (w.r.t truth) is 118.755, obs. RMSE is 0.0331324, obs. normalized RMSE is 0.82831\n",
      "- save results in text at iteration 1\n",
      "***** Iteration 2 ******\n",
      "computed Jacobian-Matrix products in 0.855712 secs\n",
      "solve saddle point (co-kriging) systems with Levenberg-Marquardt\n",
      "evaluate LM solutions\n",
      "LM solution evaluted\n",
      "- Geostat. inversion at iteration 2 is 2 sec\n",
      "perform simple linesearch due to no progress in obj value\n",
      "evaluate linesearch solutions\n",
      "== iteration 2 summary ==\n",
      "= objective function is 6.433027e+01, relative L2-norm diff btw sol 1 and sol 2 is 4.52903e-11\n",
      "= L2-norm error (w.r.t truth) is 118.755, obs. RMSE is 0.0331324, obs. normalized RMSE is 0.82831\n",
      "- save results in text at iteration 2\n",
      "start direct posterior variance computation - this option works for O(nobs) ~ 100\n",
      "0-th element evaluated\n",
      "1000-th element evaluated\n",
      "2000-th element evaluated\n",
      "3000-th element evaluated\n",
      "4000-th element evaluated\n",
      "5000-th element evaluated\n",
      "6000-th element evaluated\n",
      "7000-th element evaluated\n",
      "8000-th element evaluated\n",
      "9000-th element evaluated\n",
      "10000-th element evaluated\n",
      "posterior diag. computed in 4.749365 secs\n",
      "------------ Inversion Summary ---------------------------\n",
      "** Found solution at iteration 2\n",
      "** Solution obs. RMSE 0.0331324 , initial obs. RMSE 0.776609, where RMSE = (norm(obs. diff.)/sqrt(nobs)), Solution obs. nRMSE 0.82831, init. obs. nRMSE 19.4152\n",
      "** Final objective function value is 6.433027e+01\n",
      "** Final predictive model checking Q2, cR is 1.299627e+00, 8.757637e-03\n",
      "** Total elapsed time is 10.729390 secs\n",
      "----------------------------------------------------------\n"
     ]
    }
   ],
   "source": [
    "# run inversion\n",
    "s_hat, simul_obs, post_diagv, iter_best = prob.Run()"
   ]
  },
  {
   "cell_type": "markdown",
   "metadata": {},
   "source": [
    "### Yes, this is so simple! You only need 2 lines of code (initialization, run) for inversion\n",
    "\n",
    "Because we solve a linear problem (using the nonlinear approach), it only took 2 iterations (linearization). pyPCGA also works for large-scale linear inverse problem with a black-box foward model. "
   ]
  },
  {
   "cell_type": "markdown",
   "metadata": {},
   "source": [
    "## Results\n",
    "\n",
    "- Plot the best (mean) estimate and its uncertainty interval"
   ]
  },
  {
   "cell_type": "code",
   "execution_count": 15,
   "metadata": {},
   "outputs": [
    {
     "data": {
      "text/plain": [
       "<matplotlib.legend.Legend at 0x14a9acea400>"
      ]
     },
     "execution_count": 15,
     "metadata": {},
     "output_type": "execute_result"
    },
    {
     "data": {
      "image/png": "[encoded data removed]",
      "text/plain": [
       "<matplotlib.figure.Figure at 0x14a9b4cdcc0>"
      ]
     },
     "metadata": {},
     "output_type": "display_data"
    }
   ],
   "source": [
    "# plot posterior uncertainty/std\n",
    "post_std = np.sqrt(post_diagv)\n",
    "\n",
    "plt.plot(x,s_hat,'k-',label='estimated')\n",
    "plt.plot(x,s_hat + 2.*post_std,'k--',label='95%')\n",
    "plt.plot(x,s_hat - 2.*post_std,'k--',label='')\n",
    "plt.plot(x,s_true,'r-',label='true')\n",
    "plt.title('pumping history')\n",
    "plt.xlabel('time (min)')\n",
    "plt.ylabel(r's ($m^3$/min)')\n",
    "plt.legend()\n"
   ]
  },
  {
   "cell_type": "markdown",
   "metadata": {},
   "source": [
    "+ Plot observation mismatch"
   ]
  },
  {
   "cell_type": "code",
   "execution_count": 16,
   "metadata": {},
   "outputs": [
    {
     "data": {
      "text/plain": [
       "(-1, 3)"
      ]
     },
     "execution_count": 16,
     "metadata": {},
     "output_type": "execute_result"
    },
    {
     "data": {
      "image/png": "[encoded data removed]",
      "text/plain": [
       "<matplotlib.figure.Figure at 0x14a9ad61400>"
      ]
     },
     "metadata": {},
     "output_type": "display_data"
    }
   ],
   "source": [
    "plt.title('obs. vs simul.')\n",
    "plt.plot(prob.obs, simul_obs, '.')\n",
    "plt.xlabel('observation')\n",
    "plt.ylabel('simulation')\n",
    "minobs = np.vstack((prob.obs, simul_obs)).min(0)\n",
    "maxobs = np.vstack((prob.obs, simul_obs)).max(0)\n",
    "plt.plot(np.linspace(minobs, maxobs, 20), np.linspace(minobs, maxobs, 20), 'k-')\n",
    "plt.axis('equal')\n",
    "axes = plt.gca()\n",
    "axes.set_xlim([math.floor(minobs), math.ceil(maxobs)])\n",
    "axes.set_ylim([math.floor(minobs), math.ceil(maxobs)])"
   ]
  }
 ],
 "metadata": {
  "kernelspec": {
   "display_name": "Python 3",
   "language": "python",
   "name": "python3"
  },
  "language_info": {
   "codemirror_mode": {
    "name": "ipython",
    "version": 3
   },
   "file_extension": ".py",
   "mimetype": "text/x-python",
   "name": "python",
   "nbconvert_exporter": "python",
   "pygments_lexer": "ipython3",
   "version": "3.6.4"
  }
 },
 "nbformat": 4,
 "nbformat_minor": 2
}
