{
 "cells": [
  {
   "cell_type": "markdown",
   "metadata": {},
   "source": [
    "# pyPCGA stwave inversion example"
   ]
  },
  {
   "cell_type": "code",
   "execution_count": null,
   "metadata": {
    "collapsed": true
   },
   "outputs": [],
   "source": [
    "%matplotlib inline"
   ]
  },
  {
   "cell_type": "markdown",
   "metadata": {},
   "source": [
    "- import relevant python packages after installing pyPCGA\n",
    "- stwave.py includes python wrapper to stwave model"
   ]
  },
  {
   "cell_type": "code",
   "execution_count": null,
   "metadata": {
    "collapsed": true
   },
   "outputs": [],
   "source": [
    "import matplotlib.pyplot as plt \n",
    "import matplotlib\n",
    "from scipy.io import savemat, loadmat\n",
    "import numpy as np\n",
    "import stwave as st\n",
    "from pyPCGA import PCGA\n",
    "import math\n",
    "import datetime as dt\n",
    "import os"
   ]
  },
  {
   "cell_type": "code",
   "execution_count": null,
   "metadata": {},
   "outputs": [],
   "source": [
    "matplotlib.rcParams['font.size'] = 16"
   ]
  },
  {
   "cell_type": "code",
   "execution_count": null,
   "metadata": {
    "collapsed": true
   },
   "outputs": [],
   "source": [
    "basedir = os.getcwd()\n",
    "workdir=os.path.join(basedir,'results','duck','run01')"
   ]
  },
  {
   "cell_type": "code",
   "execution_count": null,
   "metadata": {
    "collapsed": true
   },
   "outputs": [],
   "source": [
    "os.chdir(workdir)"
   ]
  },
  {
   "cell_type": "markdown",
   "metadata": {},
   "source": [
    "- model domain and discretization"
   ]
  },
  {
   "cell_type": "code",
   "execution_count": null,
   "metadata": {
    "collapsed": true
   },
   "outputs": [],
   "source": [
    "N = np.array([110,83])\n",
    "m = np.prod(N) \n",
    "dx = np.array([5.,5.])\n",
    "xmin = np.array([0. + dx[0]/2., 0. + dx[1]/2.])\n",
    "xmax = np.array([110.*5. - dx[0]/2., 83.*5. - dx[1]/2.])"
   ]
  },
  {
   "cell_type": "markdown",
   "metadata": {},
   "source": [
    "- covariance kernel and scale parameters following Hojat's CSKF paper"
   ]
  },
  {
   "cell_type": "code",
   "execution_count": null,
   "metadata": {
    "collapsed": true
   },
   "outputs": [],
   "source": [
    "prior_std = 1.5\n",
    "prior_cov_scale = np.array([18.*5., 18.*5.])\n",
    "def kernel(r): return (prior_std**2)*np.exp(-r**2)"
   ]
  },
  {
   "cell_type": "markdown",
   "metadata": {},
   "source": [
    "- grid coordinates for plotting purposes"
   ]
  },
  {
   "cell_type": "code",
   "execution_count": null,
   "metadata": {
    "collapsed": true
   },
   "outputs": [],
   "source": [
    "x = np.linspace(0. + dx[0]/2., 110*5 - dx[0]/2., N[0])\n",
    "y = np.linspace(0. + dx[1]/2., 83*5 - dx[0]/2., N[1])\n",
    "XX, YY = np.meshgrid(x, y)\n",
    "pts = np.hstack((XX.ravel()[:,np.newaxis], YY.ravel()[:,np.newaxis]))"
   ]
  },
  {
   "cell_type": "markdown",
   "metadata": {},
   "source": [
    "- load data, true field is optional"
   ]
  },
  {
   "cell_type": "code",
   "execution_count": null,
   "metadata": {
    "collapsed": true
   },
   "outputs": [],
   "source": [
    "obs = np.loadtxt('obs.txt')\n",
    "s_true = np.loadtxt('true_depth.txt')"
   ]
  },
  {
   "cell_type": "markdown",
   "metadata": {},
   "source": [
    "- define domain extent, discretization and measurement collection time"
   ]
  },
  {
   "cell_type": "code",
   "execution_count": null,
   "metadata": {},
   "outputs": [],
   "source": [
    "nx = 110\n",
    "ny = 83\n",
    "Lx = 550\n",
    "Ly = 415\n",
    "x0, y0 = (62.0, 568.0)\n",
    "t1 = dt.datetime(2015, 10, 07, 20, 00)\n",
    "t2 = dt.datetime(2015, 10, 07, 21, 00)\n",
    "\n",
    "stwave_params = {'nx': nx, 'ny': ny, 'Lx': Lx, 'Ly': Ly, 'x0': x0, 'y0': y0, 't1': t1, 't2': t2,\n",
    "          'offline_dataloc': \"./input_files/8m-array_2015100718_2015100722.nc\"}"
   ]
  },
  {
   "cell_type": "markdown",
   "metadata": {},
   "source": [
    "- parameters for the simulation"
   ]
  },
  {
   "cell_type": "code",
   "execution_count": null,
   "metadata": {
    "collapsed": true
   },
   "outputs": [],
   "source": [
    "params = {'R':(0.1)**2, 'n_pc':50,\n",
    "          'maxiter':10, 'restol':0.01,\n",
    "          'matvec':'FFT','xmin':xmin, 'xmax':xmax, 'N':N,\n",
    "          'prior_std':prior_std,'prior_cov_scale':prior_cov_scale,\n",
    "          'kernel':kernel, 'post_cov':\"diag\",\n",
    "          'precond':True, 'LM': True,\n",
    "          'parallel':True, 'linesearch' : True,\n",
    "          'forward_model_verbose': False, 'verbose': False,\n",
    "          'iter_save': True}"
   ]
  },
  {
   "cell_type": "markdown",
   "metadata": {},
   "source": [
    "- initial guess"
   ]
  },
  {
   "cell_type": "code",
   "execution_count": null,
   "metadata": {
    "collapsed": true
   },
   "outputs": [],
   "source": [
    "s_init = np.mean(s_true)*np.ones((m,1))"
   ]
  },
  {
   "cell_type": "markdown",
   "metadata": {},
   "source": [
    "- initialize PCGA object"
   ]
  },
  {
   "cell_type": "markdown",
   "metadata": {},
   "source": [
    "- run get inversion results"
   ]
  },
  {
   "cell_type": "code",
   "execution_count": null,
   "metadata": {
    "scrolled": true
   },
   "outputs": [],
   "source": [
    "s_hat     = np.loadtxt('shat3.txt')\n",
    "simul_obs = np.loadtxt('simulobs3.txt')\n",
    "post_diagv= np.loadtxt('postv.txt')\n",
    "error = s_true2d-s_hat2d"
   ]
  },
  {
   "cell_type": "code",
   "execution_count": null,
   "metadata": {},
   "outputs": [],
   "source": [
    "# converting to 2d array for plotting\n",
    "s_hat2d = s_hat.reshape(N[1],N[0])\n",
    "s_true2d = s_true.reshape(N[1],N[0])\n",
    "post_diagv[post_diagv <0.] = 0. # just in case\n",
    "post_std = np.sqrt(post_diagv)\n",
    "post_std2d = post_std.reshape(N[1],N[0])"
   ]
  },
  {
   "cell_type": "markdown",
   "metadata": {},
   "source": [
    "- plot results"
   ]
  },
  {
   "cell_type": "code",
   "execution_count": null,
   "metadata": {},
   "outputs": [],
   "source": [
    "minv = s_true.min()\n",
    "maxv = s_true.max()\n",
    "\n",
    "fig, axes = plt.subplots(1,2, figsize=(15,5))\n",
    "plt.suptitle('prior var.: (%g)^2, n_pc : %d' % (prior_std,params['n_pc']))\n",
    "im = axes[0].imshow(np.flipud(np.fliplr(-s_true2d)), extent=[0, 110, 0, 83], vmin=-7., vmax=0., cmap=plt.get_cmap('jet'))\n",
    "axes[0].set_title('(a) True', loc='left')\n",
    "axes[0].set_aspect('equal')\n",
    "axes[0].set_xlabel('Offshore distance (px)')\n",
    "axes[0].set_ylabel('Alongshore distance (px)')\n",
    "axes[1].imshow(np.flipud(np.fliplr(-s_hat2d)), extent=[0, 110, 0, 83], vmin=-7., vmax=0., cmap=plt.get_cmap('jet'))\n",
    "axes[1].set_title('(b) Estimate', loc='left')\n",
    "axes[1].set_xlabel('Offshore distance (px)')\n",
    "axes[1].set_aspect('equal')\n",
    "fig.subplots_adjust(right=0.8)\n",
    "cbar_ax = fig.add_axes([0.85, 0.15, 0.05, 0.7])\n",
    "fig.colorbar(im, cax=cbar_ax)\n"
   ]
  },
  {
   "cell_type": "markdown",
   "metadata": {},
   "source": [
    "- plot uncertainty"
   ]
  },
  {
   "cell_type": "code",
   "execution_count": null,
   "metadata": {
    "scrolled": true
   },
   "outputs": [],
   "source": [
    "fig = plt.figure()\n",
    "im = plt.imshow(np.flipud(np.fliplr(post_std2d)), extent=[0, 110, 0, 83], cmap=plt.get_cmap('jet'))\n",
    "plt.title('Uncertainty (std)', loc='left')\n",
    "plt.xlabel('Offshore distance (px)')\n",
    "plt.ylabel('Alongshore distance (px)')\n",
    "plt.gca().set_aspect('equal', adjustable='box')\n",
    "fig.colorbar(im)\n"
   ]
  },
  {
   "cell_type": "markdown",
   "metadata": {},
   "source": [
    "- plot transect at y = 25 px and 45 px"
   ]
  },
  {
   "cell_type": "code",
   "execution_count": null,
   "metadata": {
    "collapsed": true
   },
   "outputs": [],
   "source": [
    "def plot_1x1(nx,ny,dx,dy,s0,fig=None,tit0='Estimate',\n",
    "             vmin=[-7.],vmax=[0.],cmap_type='jet'):\n",
    "    if fig is None:\n",
    "        fig,axes = plt.subplots(1,1, figsize=(15,5))\n",
    "    else:\n",
    "        axes = fig.add_subplot(1,1,1,adjustable='box',aspect=1)\n",
    "\n",
    "\n",
    "    linex = np.arange(1,nx+1)*dx\n",
    "    liney = np.arange(1,ny+1)*dy\n",
    "    im0 = axes.imshow(np.flipud(np.fliplr(-s0)), extent=[0, linex[-1], 0, liney[-1]], vmin=vmin[0], vmax=vmax[0], \n",
    "                        cmap=plt.get_cmap(cmap_type))\n",
    "    axes.set_title('(a) {0}'.format(tit0), loc='left')\n",
    "    axes.set_aspect('equal')\n",
    "    axes.set_xlabel('Offshore distance [m]')\n",
    "    axes.set_ylabel('Alongshore distance [m]')\n",
    "    fig.subplots_adjust(right=0.8)\n",
    "    cbar_ax = fig.add_axes([0.65, 0.15, 0.05, 0.7])\n",
    "    fig.colorbar(im0, cax=cbar_ax)\n",
    "\n",
    "\n",
    "    return fig,axes\n",
    "\n"
   ]
  },
  {
   "cell_type": "code",
   "execution_count": null,
   "metadata": {
    "collapsed": true
   },
   "outputs": [],
   "source": [
    "def plot_2x1(nx,ny,dx,dy,s0,s1,fig=None,tit0='True',tit1='Estimate',\n",
    "             vmin=[-7.,-7.],vmax=[0.,0.],cmap_type='jet',colorbar_flag=0):\n",
    "    if fig is None:\n",
    "        fig,axes = plt.subplots(1,2, figsize=(15,5))\n",
    "    else:\n",
    "        axes = []\n",
    "        axes.append(fig.add_subplot(1,2,1,adjustable='box',aspect=1))\n",
    "        axes.append(fig.add_subplot(1,2,2,adjustable='box',aspect=1))\n",
    "\n",
    "\n",
    "    linex = np.arange(1,nx+1)*dx\n",
    "    liney = np.arange(1,ny+1)*dy\n",
    "    im0 = axes[0].imshow(np.flipud(np.fliplr(-s0)), extent=[0, linex[-1], 0, liney[-1]], vmin=vmin[0], vmax=vmax[0], \n",
    "                        cmap=plt.get_cmap(cmap_type))\n",
    "    axes[0].set_title('(a) {0}'.format(tit0), loc='left')\n",
    "    axes[0].set_aspect('equal')\n",
    "    axes[0].set_xlabel('Offshore distance [m]')\n",
    "    axes[0].set_ylabel('Alongshore distance [m]')\n",
    "    im1 = axes[1].imshow(np.flipud(np.fliplr(-s1)), extent=[0, linex[-1], 0, liney[-1]], vmin=vmin[1], vmax=vmax[1], \n",
    "                   cmap=plt.get_cmap(cmap_type))\n",
    "    axes[1].set_title('(b) Estimate'.format(tit1), loc='left')\n",
    "    axes[1].set_xlabel('Offshore distance [m]')\n",
    "    axes[1].set_aspect('equal')\n",
    "    fig.subplots_adjust(right=0.8)\n",
    "    cbar_ax = fig.add_axes([0.85, 0.15, 0.05, 0.7])\n",
    "    if colorbar_flag==1:\n",
    "        fig.colorbar(im1, cax=cbar_ax)\n",
    "    else:\n",
    "        fig.colorbar(im0, cax=cbar_ax)\n",
    "\n",
    "\n",
    "\n",
    "    return fig,axes\n"
   ]
  },
  {
   "cell_type": "code",
   "execution_count": null,
   "metadata": {},
   "outputs": [],
   "source": [
    "fig, axes = plot_2x1(nx,ny,dx[0],dx[1],s_true2d,s_hat2d,cmap_type='jet')"
   ]
  },
  {
   "cell_type": "code",
   "execution_count": null,
   "metadata": {
    "scrolled": true
   },
   "outputs": [],
   "source": [
    "fig, axes = plot_2x1(nx,ny,dx[0],dx[1],s_hat2d,error,tit0='Estimate',tit1='Error',colorbar_flag=1,\n",
    "                    vmin=[-7.,error.min().min()],vmax=[0.,error.max().max()])"
   ]
  },
  {
   "cell_type": "code",
   "execution_count": null,
   "metadata": {},
   "outputs": [],
   "source": [
    "fig, axes = plot_1x1(nx,ny,dx[0],dx[1],error,tit0='Error',\n",
    "                    vmin=[error.min().min()],vmax=[error.max().max()],cmap_type='coolwarm')"
   ]
  },
  {
   "cell_type": "code",
   "execution_count": null,
   "metadata": {
    "collapsed": true
   },
   "outputs": [],
   "source": [
    "def get_transect(nx,ny,dx,dy,s_true2d,post_std2d,ix):\n",
    "    linex = np.arange(1,nx+1)*dx\n",
    "    line1_true = s_true2d[ny-ix+1,:]\n",
    "    line1 = s_hat2d[ny-ix+1,:]\n",
    "    line1_u = s_hat2d[ny-ix+1,:] + 1.96*post_std2d[ny-ix+1,:]\n",
    "    line1_l = s_hat2d[ny-ix+1,:] - 1.96*post_std2d[ny-ix+1,:]\n",
    "\n",
    "    return linex,line1_true,line1,line1_u,line1_l\n",
    "\n"
   ]
  },
  {
   "cell_type": "code",
   "execution_count": null,
   "metadata": {
    "collapsed": true
   },
   "outputs": [],
   "source": [
    "def plot_transect(nx,ny,dx,dy,s_true2d,post_std2d,ix,axes=None,linewidth=3):\n",
    "    if axes is None:\n",
    "        axes = plt.gca()\n",
    "    linex,line1_true,line1,line1_u,line1_l = get_transect(nx,ny,dx,dy,s_true2d,post_std2d,ix)\n",
    "    axes.plot(linex, np.flipud(-line1_true),'r-', label='True',linewidth=linewidth)\n",
    "    axes.plot(linex, np.flipud(-line1),'k-', label='Estimated',linewidth=linewidth)\n",
    "    axes.plot(linex, np.flipud(-line1_u),'k--', label='95% credible interval',linewidth=linewidth)\n",
    "    axes.plot(linex, np.flipud(-line1_l),'k--',linewidth=linewidth)\n",
    "    #axes.plot(linex, np.flipud(-line1_X),'b--', label='Drift/Trend')\n",
    "    axes.set_title('(a) {0:4.1f} m'.format(ix*dy), loc='left')\n",
    "    handles, labels = axes.get_legend_handles_labels()\n",
    "    axes.legend(handles, labels)\n",
    "    axes.set_xlabel('Offshore distance [m]')\n",
    "    axes.set_ylabel('z [m]')\n",
    "    return axes"
   ]
  },
  {
   "cell_type": "code",
   "execution_count": null,
   "metadata": {
    "collapsed": true
   },
   "outputs": [],
   "source": []
  },
  {
   "cell_type": "code",
   "execution_count": null,
   "metadata": {},
   "outputs": [],
   "source": [
    "fig = plt.figure(figsize=(10,10))\n",
    "ax = fig.add_subplot(1,1,1,adjustable='box',aspect=20)\n",
    "ax = plot_transect(nx,ny,dx[0],dx[1],s_true2d,post_std2d,25,axes=ax)\n"
   ]
  },
  {
   "cell_type": "code",
   "execution_count": null,
   "metadata": {},
   "outputs": [],
   "source": [
    "fig = plt.figure(figsize=(10,10))\n",
    "ax = fig.add_subplot(1,1,1,adjustable='box',aspect=20)\n",
    "ax = plot_transect(nx,ny,dx[0],dx[1],s_true2d,post_std2d,45,axes=ax)\n",
    "\n"
   ]
  },
  {
   "cell_type": "code",
   "execution_count": null,
   "metadata": {},
   "outputs": [],
   "source": [
    "fig = plt.figure(figsize=(10,10))\n",
    "\n",
    "fig.suptitle('transect with prior var.: (%g)^2, n_pc : %d, lx = %f m, ly = %f m\\n\\n' % (prior_std, params['n_pc'],prior_cov_scale[0],prior_cov_scale[1]))\n",
    "\n",
    "linex,line1_true,line1,line1_u,line1_l = get_transect(nx,ny,dx[0],dx[1],s_true2d,post_std2d,25)\n",
    "linex,line2_true,line2,line2_u,line2_l = get_transect(nx,ny,dx[0],dx[1],s_true2d,post_std2d,45)\n",
    "axes = []\n",
    "axes.append(fig.add_subplot(2,1,1,adjustable='box',aspect=20))\n",
    "axes[0] = plot_transect(nx,ny,dx[0],dx[1],s_true2d,post_std2d,25,axes=axes[0])\n",
    "\n",
    "axes.append(fig.add_subplot(2,1,2,adjustable='box',aspect=20))\n",
    "axes[1] = plot_transect(nx,ny,dx[0],dx[1],s_true2d,post_std2d,45,axes=axes[1])\n",
    "\n"
   ]
  },
  {
   "cell_type": "code",
   "execution_count": null,
   "metadata": {},
   "outputs": [],
   "source": []
  },
  {
   "cell_type": "code",
   "execution_count": null,
   "metadata": {},
   "outputs": [],
   "source": [
    "nobs = obs.shape[0]\n",
    "fig = plt.figure()\n",
    "plt.title('obs. vs simul.')\n",
    "plt.plot(obs,simul_obs,'.',markersize=4)\n",
    "plt.xlabel('observation')\n",
    "plt.ylabel('simulation')\n",
    "minobs = np.vstack((obs,simul_obs)).min().min()\n",
    "maxobs = np.vstack((obs,simul_obs)).max().max()\n",
    "plt.plot(np.linspace(minobs,maxobs,20),np.linspace(minobs,maxobs,20),'k-',linewidth=3)\n",
    "plt.axis('equal')\n",
    "axes = plt.gca()\n",
    "axes.set_xlim([math.floor(minobs),math.ceil(maxobs)])\n",
    "axes.set_ylim([math.floor(minobs),math.ceil(maxobs)])"
   ]
  }
 ],
 "metadata": {
  "kernelspec": {
   "display_name": "Python 2",
   "language": "python",
   "name": "python2"
  },
  "language_info": {
   "codemirror_mode": {
    "name": "ipython",
    "version": 2
   },
   "file_extension": ".py",
   "mimetype": "text/x-python",
   "name": "python",
   "nbconvert_exporter": "python",
   "pygments_lexer": "ipython2",
   "version": "2.7.14"
  },
  "latex_envs": {
   "LaTeX_envs_menu_present": true,
   "autocomplete": true,
   "bibliofile": "biblio.bib",
   "cite_by": "apalike",
   "current_citInitial": 1,
   "eqLabelWithNumbers": true,
   "eqNumInitial": 1,
   "hotkeys": {
    "equation": "Ctrl-E",
    "itemize": "Ctrl-I"
   },
   "labels_anchors": false,
   "latex_user_defs": false,
   "report_style_numbering": false,
   "user_envs_cfg": false
  }
 },
 "nbformat": 4,
 "nbformat_minor": 2
}
