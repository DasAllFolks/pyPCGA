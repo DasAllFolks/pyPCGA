{
 "cells": [
  {
   "cell_type": "markdown",
   "metadata": {},
   "source": [
    "# pyPCGA stwave inversion example"
   ]
  },
  {
   "cell_type": "code",
   "execution_count": null,
   "metadata": {
    "collapsed": true
   },
   "outputs": [],
   "source": [
    "%matplotlib inline"
   ]
  },
  {
   "cell_type": "markdown",
   "metadata": {},
   "source": [
    "- import relevant python packages after installing pyPCGA\n",
    "- stwave.py includes python wrapper to stwave model"
   ]
  },
  {
   "cell_type": "code",
   "execution_count": null,
   "metadata": {
    "collapsed": true
   },
   "outputs": [],
   "source": [
    "import matplotlib.pyplot as plt \n",
    "import matplotlib\n",
    "from scipy.io import savemat, loadmat\n",
    "import numpy as np\n",
    "import stwave as st\n",
    "from pyPCGA import PCGA\n",
    "import math\n",
    "import datetime as dt\n",
    "import os\n",
    "import stwave_plot_utils as stplot"
   ]
  },
  {
   "cell_type": "code",
   "execution_count": null,
   "metadata": {
    "collapsed": true
   },
   "outputs": [],
   "source": [
    "matplotlib.rcParams['font.size'] = 16"
   ]
  },
  {
   "cell_type": "code",
   "execution_count": null,
   "metadata": {
    "collapsed": true
   },
   "outputs": [],
   "source": [
    "basedir = os.getcwd()\n",
    "workdir=basedir#os.path.join(basedir,'results','duck','run01')"
   ]
  },
  {
   "cell_type": "code",
   "execution_count": null,
   "metadata": {
    "collapsed": true
   },
   "outputs": [],
   "source": [
    "os.chdir(workdir)"
   ]
  },
  {
   "cell_type": "code",
   "execution_count": null,
   "metadata": {
    "collapsed": true
   },
   "outputs": [],
   "source": [
    "uas_dir =  os.path.join('uas','LENKF_uas_c_and_topo_20160722_2030_f_v20180130')\n"
   ]
  },
  {
   "cell_type": "markdown",
   "metadata": {},
   "source": [
    "- model domain and discretization"
   ]
  },
  {
   "cell_type": "code",
   "execution_count": null,
   "metadata": {
    "collapsed": true
   },
   "outputs": [],
   "source": [
    "Lx = 500.0\n",
    "Ly = 300.0\n",
    "nx = 100\n",
    "ny = 60\n",
    "x0, y0 = (80., 80.)\n",
    "z0 = 0.\n",
    "dx0 = (Lx-x0)/float(nx)\n",
    "\n",
    "N = np.array([nx,ny])\n",
    "m = np.prod(N) \n",
    "dx = np.array([dx0,dx0])\n",
    "xmin = np.array([0. + dx[0]/2., 0. + dx[1]/2.])\n",
    "xmax = np.array([x0+Lx*dx[0] - dx[0]/2., y0+Ly*dx[1] - dx[1]/2.])"
   ]
  },
  {
   "cell_type": "markdown",
   "metadata": {},
   "source": [
    "- covariance kernel and scale parameters following Hojat's CSKF paper"
   ]
  },
  {
   "cell_type": "code",
   "execution_count": null,
   "metadata": {
    "collapsed": true
   },
   "outputs": [],
   "source": [
    "prior_std = 1.5\n",
    "prior_cov_scale = np.array([100, 100])\n",
    "def kernel(r): return (prior_std**2)*np.exp(-r**2)"
   ]
  },
  {
   "cell_type": "markdown",
   "metadata": {},
   "source": [
    "- grid coordinates for plotting purposes"
   ]
  },
  {
   "cell_type": "code",
   "execution_count": null,
   "metadata": {
    "collapsed": true
   },
   "outputs": [],
   "source": [
    "x = np.linspace(x0 + dx[0]/2., x0+nx*dx[0] - dx[0]/2., N[0])\n",
    "y = np.linspace(y0 + dx[1]/2., y0+ny*dx[1] - dx[0]/2., N[1])\n",
    "XX, YY = np.meshgrid(x, y)\n",
    "pts = np.hstack((XX.ravel()[:,np.newaxis], YY.ravel()[:,np.newaxis]))"
   ]
  },
  {
   "cell_type": "markdown",
   "metadata": {},
   "source": [
    "- load data, true field is optional"
   ]
  },
  {
   "cell_type": "code",
   "execution_count": null,
   "metadata": {
    "collapsed": true
   },
   "outputs": [],
   "source": [
    "wave_obs_file  = os.path.join(uas_dir,'observation_files','wave_speed_measurements.txt')\n",
    "topo_obs_file  = os.path.join(uas_dir,'observation_files','topo_measurements.txt')\n"
   ]
  },
  {
   "cell_type": "code",
   "execution_count": null,
   "metadata": {},
   "outputs": [],
   "source": [
    "#observation indices\n",
    "wave_obs_inds_file  = os.path.join(uas_dir,'observation_files','wave_speed_measurement_cells.txt')\n",
    "topo_obs_inds_file  = os.path.join(uas_dir,'observation_files','topo_measurement_cells.txt')\n",
    "obs_inds  = np.loadtxt(obs_inds_file,dtype='i')\n"
   ]
  },
  {
   "cell_type": "code",
   "execution_count": null,
   "metadata": {
    "collapsed": true
   },
   "outputs": [],
   "source": [
    "include_topo_obs = True\n",
    "\n",
    "obs = np.loadtxt(wave_obs_file)\n",
    "wave_obs_inds  = np.loadtxt(wave_obs_inds_file,dtype='i')\n",
    "topo_obs_inds = None\n",
    "if include_topo_obs:\n",
    "    topo_obs = np.loadtxt(topo_obs_file)\n",
    "    topo_obs = z0-topo_obs #convert to bathymetry\n",
    "    obs = np.append(obs,topo_obs)\n",
    "    topo_obs_inds = np.loadtxt(topo_obs_inds_file,dtype='i')\n"
   ]
  },
  {
   "cell_type": "code",
   "execution_count": null,
   "metadata": {
    "collapsed": true
   },
   "outputs": [],
   "source": [
    "elev_file = os.path.join(uas_dir,'observation_files','true_bathymetry.txt')\n",
    "s_true = np.loadtxt(elev_file)\n",
    "s_true = z0-s_true\n",
    "#observations extracted onto stwave grid"
   ]
  },
  {
   "cell_type": "markdown",
   "metadata": {},
   "source": [
    "- define domain extent, discretization and measurement collection time"
   ]
  },
  {
   "cell_type": "code",
   "execution_count": null,
   "metadata": {},
   "outputs": [],
   "source": [
    "t1 = dt.datetime(2016, 07, 22, 19, 30)\n",
    "t2 = dt.datetime(2016, 07, 22, 20, 30)\n",
    "\n",
    "stwave_params = {'nx': nx, 'ny': ny, 'Lx': Lx, 'Ly': Ly, 'x0': x0, 'y0': y0, 't1': t1, 't2': t2,\n",
    "          'offline_dataloc':\"./input_files/FRF-ocean_waves_8m-array_201607.nc\"}"
   ]
  },
  {
   "cell_type": "markdown",
   "metadata": {},
   "source": [
    "- parameters for the simulation"
   ]
  },
  {
   "cell_type": "code",
   "execution_count": null,
   "metadata": {
    "collapsed": true
   },
   "outputs": [],
   "source": [
    "params = {'R':(0.2)**2, 'n_pc':200,\n",
    "          'maxiter':10, 'restol':0.01,\n",
    "          'matvec':'FFT','xmin':xmin, 'xmax':xmax, 'N':N,\n",
    "          'prior_std':prior_std,'prior_cov_scale':prior_cov_scale,\n",
    "          'kernel':kernel, 'post_cov':\"diag\",\n",
    "          'precond':True, 'LM': True,\n",
    "          'parallel':True, 'linesearch' : True,\n",
    "          'forward_model_verbose': False, 'verbose': False,\n",
    "          'iter_save': True}"
   ]
  },
  {
   "cell_type": "markdown",
   "metadata": {},
   "source": [
    "- initial guess"
   ]
  },
  {
   "cell_type": "code",
   "execution_count": null,
   "metadata": {
    "collapsed": true
   },
   "outputs": [],
   "source": [
    "s_init = np.mean(s_true)*np.ones((m,1))"
   ]
  },
  {
   "cell_type": "markdown",
   "metadata": {},
   "source": [
    "- initialize PCGA object"
   ]
  },
  {
   "cell_type": "markdown",
   "metadata": {},
   "source": [
    "- run get inversion results"
   ]
  },
  {
   "cell_type": "code",
   "execution_count": null,
   "metadata": {},
   "outputs": [],
   "source": [
    "ls -l shat*.txt"
   ]
  },
  {
   "cell_type": "code",
   "execution_count": null,
   "metadata": {
    "collapsed": true,
    "scrolled": true
   },
   "outputs": [],
   "source": [
    "s_hat     = np.loadtxt('shat3.txt')\n",
    "simul_obs = np.loadtxt('simulobs3.txt')\n",
    "post_diagv= np.loadtxt('postv.txt')"
   ]
  },
  {
   "cell_type": "code",
   "execution_count": null,
   "metadata": {
    "collapsed": true
   },
   "outputs": [],
   "source": [
    "# converting to 2d array for plotting\n",
    "s_hat2d = s_hat.reshape(N[1],N[0])\n",
    "s_true2d = s_true.reshape(N[1],N[0])\n",
    "post_diagv[post_diagv <0.] = 0. # just in case\n",
    "post_std = np.sqrt(post_diagv)\n",
    "post_std2d = post_std.reshape(N[1],N[0])\n",
    "error = s_true2d-s_hat2d"
   ]
  },
  {
   "cell_type": "code",
   "execution_count": null,
   "metadata": {
    "collapsed": true
   },
   "outputs": [],
   "source": []
  },
  {
   "cell_type": "markdown",
   "metadata": {},
   "source": [
    "- plot results"
   ]
  },
  {
   "cell_type": "code",
   "execution_count": null,
   "metadata": {},
   "outputs": [],
   "source": [
    "minv = s_true.min()\n",
    "maxv = s_true.max()\n",
    "\n",
    "fig, axes = plt.subplots(1,2, figsize=(15,5))\n",
    "plt.suptitle('prior var.: (%g)^2, n_pc : %d' % (prior_std,params['n_pc']))\n",
    "im = axes[0].imshow(np.flipud(np.fliplr(-s_true2d)), extent=[0, nx, 0, ny], vmin=-7., vmax=maxv, cmap=plt.get_cmap('jet'))\n",
    "axes[0].set_title('(a) True', loc='left')\n",
    "axes[0].set_aspect('equal')\n",
    "axes[0].set_xlabel('Offshore distance (px)')\n",
    "axes[0].set_ylabel('Alongshore distance (px)')\n",
    "axes[1].imshow(np.flipud(np.fliplr(-s_hat2d)), extent=[0, nx, 0, ny], vmin=-7., vmax=maxv, cmap=plt.get_cmap('jet'))\n",
    "axes[1].set_title('(b) Estimate', loc='left')\n",
    "axes[1].set_xlabel('Offshore distance (px)')\n",
    "axes[1].set_aspect('equal')\n",
    "fig.subplots_adjust(right=0.8)\n",
    "cbar_ax = fig.add_axes([0.85, 0.15, 0.05, 0.7])\n",
    "fig.colorbar(im, cax=cbar_ax)\n"
   ]
  },
  {
   "cell_type": "markdown",
   "metadata": {},
   "source": [
    "- plot uncertainty"
   ]
  },
  {
   "cell_type": "code",
   "execution_count": null,
   "metadata": {
    "scrolled": true
   },
   "outputs": [],
   "source": [
    "fig = plt.figure()\n",
    "im = plt.imshow(np.flipud(np.fliplr(post_std2d)), extent=[0, nx, 0, ny], cmap=plt.get_cmap('viridis'))\n",
    "plt.title('Uncertainty (std)', loc='left')\n",
    "plt.xlabel('Offshore distance (px)')\n",
    "plt.ylabel('Alongshore distance (px)')\n",
    "plt.gca().set_aspect('equal', adjustable='box')\n",
    "fig.colorbar(im)\n",
    "\n"
   ]
  },
  {
   "cell_type": "markdown",
   "metadata": {},
   "source": [
    "- plot versus physical distance"
   ]
  },
  {
   "cell_type": "code",
   "execution_count": null,
   "metadata": {},
   "outputs": [],
   "source": [
    "fig, axes = stplot.plot_2x1(nx,ny,dx[0],dx[1],s_true2d,s_hat2d,cmap_type='viridis')\n",
    "\n"
   ]
  },
  {
   "cell_type": "code",
   "execution_count": null,
   "metadata": {
    "scrolled": true
   },
   "outputs": [],
   "source": [
    "fig, axes = stplot.plot_2x1(nx,ny,dx[0],dx[1],s_hat2d,error,tit0='Estimate',tit1='Error',colorbar_flag=1,\n",
    "                            vmin=[-7.,error.min().min()],vmax=[0.,error.max().max()],cmap_type='viridis')\n",
    "\n"
   ]
  },
  {
   "cell_type": "code",
   "execution_count": null,
   "metadata": {},
   "outputs": [],
   "source": [
    "fig, axes = stplot.plot_1x1(nx,ny,dx[0],dx[1],error,tit0='Error',\n",
    "                            vmin=[error.min().min()],vmax=[error.max().max()],cmap_type='coolwarm')\n",
    "\n"
   ]
  },
  {
   "cell_type": "markdown",
   "metadata": {},
   "source": [
    "- plot transect at y = 25 px and 45 px"
   ]
  },
  {
   "cell_type": "code",
   "execution_count": null,
   "metadata": {},
   "outputs": [],
   "source": [
    "fig = plt.figure(figsize=(10,10))\n",
    "ax = fig.add_subplot(1,1,1,adjustable='box',aspect=20)\n",
    "ax = stplot.plot_transect(nx,ny,dx[0],dx[1],s_hat2d,s_true2d,post_std2d,25,axes=ax)\n"
   ]
  },
  {
   "cell_type": "code",
   "execution_count": null,
   "metadata": {},
   "outputs": [],
   "source": []
  },
  {
   "cell_type": "code",
   "execution_count": null,
   "metadata": {},
   "outputs": [],
   "source": [
    "fig = plt.figure(figsize=(10,10))\n",
    "ax = fig.add_subplot(1,1,1,adjustable='box',aspect=20)\n",
    "ax = stplot.plot_transect(nx,ny,dx[0],dx[1],s_hat2d,s_true2d,post_std2d,5,axes=ax)\n"
   ]
  },
  {
   "cell_type": "code",
   "execution_count": null,
   "metadata": {},
   "outputs": [],
   "source": [
    "fig = plt.figure(figsize=(10,10))\n",
    "\n",
    "fig.suptitle('transect with prior var.: (%g)^2, n_pc : %d, lx = %f m, ly = %f m\\n\\n' % (prior_std, params['n_pc'],prior_cov_scale[0],prior_cov_scale[1]))\n",
    "\n",
    "linex,line1_true,line1,line1_u,line1_l = stplot.get_transect(nx,ny,dx[0],dx[1],s_hat2d,s_true2d,post_std2d,25)\n",
    "linex,line2_true,line2,line2_u,line2_l = stplot.get_transect(nx,ny,dx[0],dx[1],s_hat2d,s_true2d,post_std2d,45)\n",
    "axes = []\n",
    "axes.append(fig.add_subplot(2,1,1,adjustable='box',aspect=20))\n",
    "axes[0] = stplot.plot_transect(nx,ny,dx[0],dx[1],s_hat2d,s_true2d,post_std2d,45,axes=axes[0])\n",
    "\n",
    "axes.append(fig.add_subplot(2,1,2,adjustable='box',aspect=20))\n",
    "axes[1] = stplot.plot_transect(nx,ny,dx[0],dx[1],s_hat2d,s_true2d,post_std2d,70,axes=axes[1])\n",
    "\n",
    "#plt.savefig('uas_20160722_std1p5_npc200_ix45ix70.png')"
   ]
  },
  {
   "cell_type": "code",
   "execution_count": null,
   "metadata": {
    "collapsed": true
   },
   "outputs": [],
   "source": []
  },
  {
   "cell_type": "code",
   "execution_count": null,
   "metadata": {},
   "outputs": [],
   "source": [
    "nobs = obs.shape[0]\n",
    "fig = plt.figure()\n",
    "plt.title('obs. vs simul.')\n",
    "plt.plot(obs,simul_obs,'.',markersize=4)\n",
    "plt.xlabel('observation')\n",
    "plt.ylabel('simulation')\n",
    "minobs = np.vstack((obs,simul_obs)).min().min()\n",
    "maxobs = np.vstack((obs,simul_obs)).max().max()\n",
    "plt.plot(np.linspace(minobs,maxobs,20),np.linspace(minobs,maxobs,20),'k-',linewidth=3)\n",
    "plt.axis('equal')\n",
    "axes = plt.gca()\n",
    "axes.set_xlim([math.floor(minobs),math.ceil(maxobs)])\n",
    "axes.set_ylim([math.floor(minobs),math.ceil(maxobs)])"
   ]
  },
  {
   "cell_type": "code",
   "execution_count": null,
   "metadata": {},
   "outputs": [],
   "source": [
    "wave_obs_locs_file= os.path.join(uas_dir,'observation_files','wave_speed_measurement_locations.dat')\n",
    "topo_obs_locs_file= os.path.join(uas_dir,'observation_files','topo_measurement_locations.dat')"
   ]
  },
  {
   "cell_type": "code",
   "execution_count": null,
   "metadata": {},
   "outputs": [],
   "source": [
    "wave_obs_locs=np.loadtxt(wave_obs_locs_file)\n",
    "obs_locs = wave_obs_locs\n",
    "if include_topo_obs:\n",
    "    topo_obs_locs=np.loadtxt(topo_obs_locs_file)\n",
    "    obs_locs = np.append(obs_locs,topo_obs_locs,axis=0)"
   ]
  },
  {
   "cell_type": "markdown",
   "metadata": {},
   "source": [
    "## Need to get coordinates right"
   ]
  },
  {
   "cell_type": "code",
   "execution_count": null,
   "metadata": {},
   "outputs": [],
   "source": [
    "fig = plt.figure(figsize=(10,6))\n",
    "ax1 = fig.add_subplot(1,2,1,adjustable='box')\n",
    "im = ax1.imshow(np.flipud(np.fliplr(-s_true2d)), extent=[x0+0.5*dx[0], x0+dx[0]*nx-dx[0]*0.5, y0+dx[1]*0.5, y0+ny*dx[1]-dx[1]*0.5], cmap=plt.get_cmap('jet'))\n",
    "ax.set_title('Observation locations', loc='left')\n",
    "ax.set_xlabel('Offshore distance (px)')\n",
    "ax.set_ylabel('Alongshore distance (px)')\n",
    "ax.set_aspect('equal', adjustable='box')\n",
    "\n",
    "ax2 = fig.add_subplot(1,2,2,adjustable='box')\n",
    "im2 = ax2.imshow(np.flipud(np.fliplr(post_std2d)), extent=[x0+0.5*dx[0], x0+dx[0]*nx-dx[0]*0.5, y0+dx[1]*0.5, y0+ny*dx[1]-dx[1]*0.5], cmap=plt.get_cmap('jet'))\n",
    "ax2.scatter(obs_locs[:,0],obs_locs[:,1],alpha=0.5)\n",
    "\n",
    "£plt.savefig('uas_20160722_std1p5_npc200_true_unc_with_topo_obs.png')"
   ]
  },
  {
   "cell_type": "code",
   "execution_count": null,
   "metadata": {
    "collapsed": true
   },
   "outputs": [],
   "source": [
    "from mpl_toolkits import mplot3d"
   ]
  },
  {
   "cell_type": "code",
   "execution_count": null,
   "metadata": {},
   "outputs": [],
   "source": [
    "fig = plt.figure(figsize=(10,6))\n",
    "ax1 = fig.add_subplot(1,1,1,projection='3d')\n",
    "ax1.scatter3D(obs_locs[:,0],obs_locs[:,1],obs)\n",
    "ax1.view_init(90,-90)\n"
   ]
  },
  {
   "cell_type": "code",
   "execution_count": null,
   "metadata": {
    "collapsed": true
   },
   "outputs": [],
   "source": []
  }
 ],
 "metadata": {
  "kernelspec": {
   "display_name": "Python 2",
   "language": "python",
   "name": "python2"
  },
  "language_info": {
   "codemirror_mode": {
    "name": "ipython",
    "version": 2
   },
   "file_extension": ".py",
   "mimetype": "text/x-python",
   "name": "python",
   "nbconvert_exporter": "python",
   "pygments_lexer": "ipython2",
   "version": "2.7.14"
  },
  "latex_envs": {
   "LaTeX_envs_menu_present": true,
   "autocomplete": true,
   "bibliofile": "biblio.bib",
   "cite_by": "apalike",
   "current_citInitial": 1,
   "eqLabelWithNumbers": true,
   "eqNumInitial": 1,
   "hotkeys": {
    "equation": "Ctrl-E",
    "itemize": "Ctrl-I"
   },
   "labels_anchors": false,
   "latex_user_defs": false,
   "report_style_numbering": false,
   "user_envs_cfg": false
  }
 },
 "nbformat": 4,
 "nbformat_minor": 2
}
