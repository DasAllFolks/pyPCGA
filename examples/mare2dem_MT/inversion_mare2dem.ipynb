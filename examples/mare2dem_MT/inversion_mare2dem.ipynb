{
 "cells": [
  {
   "cell_type": "markdown",
   "metadata": {},
   "source": [
    "# pyPCGA-MARE2DEM tutorial example - resistivity estimation for MT survey"
   ]
  },
  {
   "cell_type": "markdown",
   "metadata": {},
   "source": [
    "## Problem description"
   ]
  },
  {
   "cell_type": "markdown",
   "metadata": {},
   "source": [
    "+ Domain: 2 x 2 km\n",
    "+ 10000 (nx, nz = 100, 100) log-normal resistivity using Gaussian covariance kernel with scale parameter of [500, 200] m \n",
    "+ Number of unkonwns: 10,000 resistivities\n",
    "+ Measurements: 5,248 (21 recievers x 32 frequency bands, EM amplitude and phase) and noise level 0.1"
   ]
  },
  {
   "cell_type": "code",
   "execution_count": 1,
   "metadata": {
    "collapsed": true
   },
   "outputs": [],
   "source": [
    "%matplotlib inline"
   ]
  },
  {
   "cell_type": "markdown",
   "metadata": {},
   "source": [
    "- Test environments"
   ]
  },
  {
   "cell_type": "code",
   "execution_count": 2,
   "metadata": {
    "collapsed": false
   },
   "outputs": [
    {
     "name": "stdout",
     "output_type": "stream",
     "text": [
      "2.7.15 |Anaconda custom (64-bit)| (default, May  1 2018, 23:32:55) \n",
      "[GCC 7.2.0]\n"
     ]
    }
   ],
   "source": [
    "import sys\n",
    "print(sys.version)"
   ]
  },
  {
   "cell_type": "code",
   "execution_count": 3,
   "metadata": {
    "collapsed": false
   },
   "outputs": [
    {
     "name": "stdout",
     "output_type": "stream",
     "text": [
      "Linux-4.4.0-135-generic-x86_64-with-debian-stretch-sid\n"
     ]
    }
   ],
   "source": [
    "import platform\n",
    "print(platform.platform()) # ubuntu 18.04"
   ]
  },
  {
   "cell_type": "code",
   "execution_count": 4,
   "metadata": {
    "collapsed": false
   },
   "outputs": [
    {
     "name": "stdout",
     "output_type": "stream",
     "text": [
      "1.14.0\n"
     ]
    }
   ],
   "source": [
    "import numpy as np\n",
    "print(np.__version__)"
   ]
  },
  {
   "cell_type": "code",
   "execution_count": 5,
   "metadata": {
    "collapsed": false
   },
   "outputs": [
    {
     "name": "stdout",
     "output_type": "stream",
     "text": [
      "# of physcial CPU cores 36\n"
     ]
    }
   ],
   "source": [
    "import psutil\n",
    "print('# of physcial CPU cores %s' % (psutil.cpu_count(logical=False)))"
   ]
  },
  {
   "cell_type": "code",
   "execution_count": 6,
   "metadata": {
    "collapsed": false
   },
   "outputs": [],
   "source": [
    "import matplotlib.pyplot as plt\n",
    "import numpy as np\n",
    "import mare2dem\n",
    "from pyPCGA import PCGA\n",
    "import math\n",
    "import warnings; warnings.simplefilter('ignore')"
   ]
  },
  {
   "cell_type": "code",
   "execution_count": 7,
   "metadata": {
    "collapsed": true
   },
   "outputs": [],
   "source": [
    "# model domain and discretization\n",
    "nx = ny = 100    \n",
    "m = nx*ny\n",
    "N = np.array([nx,ny])\n",
    "xmin = np.array([0,0])\n",
    "xmax = np.array([2000.0,2000.0])\n",
    "pts = None # While MARE2DEM supports unstructured grids, here we use equally spaced points interpolated from FE grids to use FFT. will update it later  "
   ]
  },
  {
   "cell_type": "code",
   "execution_count": 8,
   "metadata": {
    "collapsed": false
   },
   "outputs": [],
   "source": [
    "# load observations and synthetic true and define intial guess\n",
    "s_true = np.loadtxt('true_100x100.txt')\n",
    "obs = np.loadtxt('obs.txt')\n",
    "s_init = np.mean(s_true) * np.ones((m, 1))"
   ]
  },
  {
   "cell_type": "markdown",
   "metadata": {},
   "source": [
    "- True resistivity field (nx = 100, nz = 100)\n",
    "- At the ground surface (z = 0 m), 21 recievers were employed to measure EM amplitude and phase (with 32 frequency bands)"
   ]
  },
  {
   "cell_type": "code",
   "execution_count": 9,
   "metadata": {
    "collapsed": false
   },
   "outputs": [
    {
     "data": {
      "image/png": "[encoded data removed]",
      "text/plain": [
       "<Figure size 432x288 with 2 Axes>"
      ]
     },
     "metadata": {},
     "output_type": "display_data"
    }
   ],
   "source": [
    "plt.title(r'True resistivity ' + r'$[\\Omega \\cdot m]$')\n",
    "im0 = plt.imshow(s_true.reshape(ny,nx), vmin = 0, vmax = np.log(1000), cmap=plt.get_cmap('jet'),extent=(0,2000,2000,0))\n",
    "plt.xticks(np.linspace(0,2000,3))\n",
    "plt.yticks(np.linspace(0,2000,3))\n",
    "plt.xlabel('x [m]')\n",
    "plt.ylabel('depth [m]')\n",
    "plt.gca().set_aspect('equal','box-forced')\n",
    "cbar = plt.colorbar(im0, ticks=[np.log(1),np.log(10), np.log(100),np.log(1000)])\n",
    "cbar.ax.set_yticklabels(['1','10','100','1000'])\n",
    "plt.tight_layout()\n",
    "plt.show()\n"
   ]
  },
  {
   "cell_type": "code",
   "execution_count": 10,
   "metadata": {
    "collapsed": true
   },
   "outputs": [],
   "source": [
    "# covairance kernel and scale parameters\n",
    "prior_std = 1.0\n",
    "prior_cov_scale = np.array([500.0,200.0])\n",
    "\n",
    "def kernel(r): return (prior_std ** 2) * np.exp(-r**2)\n"
   ]
  },
  {
   "cell_type": "code",
   "execution_count": 11,
   "metadata": {
    "collapsed": true
   },
   "outputs": [],
   "source": [
    "# forward model wrapper for pyPCGA\n",
    "# prepare interface to run as a function\n",
    "def forward_model(s, parallelization, ncores=None):\n",
    "    params = {'nx':nx,'ny':ny}\n",
    "    model = mare2dem.Model(params)\n",
    "\n",
    "    if parallelization:\n",
    "        simul_obs = model.run(s, parallelization, ncores)\n",
    "    else:\n",
    "        simul_obs = model.run(s, parallelization)\n",
    "    return simul_obs"
   ]
  },
  {
   "cell_type": "code",
   "execution_count": 12,
   "metadata": {
    "collapsed": true
   },
   "outputs": [],
   "source": [
    "# PCGA parameters\n",
    "params = {'R': (0.1) ** 2, 'n_pc': 50,\n",
    "        'maxiter': 4, 'restol': 0.1,\n",
    "        'matvec': 'FFT', 'xmin': xmin, 'xmax': xmax, 'N': N,\n",
    "        'prior_std': prior_std, 'prior_cov_scale': prior_cov_scale,\n",
    "        'kernel': kernel, 'post_cov': \"diag\",\n",
    "        'precond': True, 'LM': True,\n",
    "        'parallel': True, 'linesearch': True,\n",
    "        'forward_model_verbose': False, 'verbose': False,\n",
    "        'iter_save': True, 'precision':1.E-4}"
   ]
  },
  {
   "cell_type": "markdown",
   "metadata": {},
   "source": [
    "# Inversion\n",
    "- intialize pyPCGA"
   ]
  },
  {
   "cell_type": "code",
   "execution_count": 13,
   "metadata": {
    "collapsed": false
   },
   "outputs": [
    {
     "name": "stdout",
     "output_type": "stream",
     "text": [
      "##### PCGA Inversion #####\n",
      "##### 1. Initialize forward and inversion parameters\n",
      "------------ Inversion Parameters -------------------------\n",
      "   Number of unknowns                               : 10000\n",
      "   Number of observations                           : 5248\n",
      "   Number of principal components (n_pc)            : 50\n",
      "   Prior model                                      : def kernel(r): return (prior_std ** 2) * np.exp(-r**2)\n",
      "\n",
      "   Prior variance                                   : 1.000000e+00\n",
      "   Prior scale (correlation) parameter              : [500. 200.]\n",
      "   Posterior cov computation                        : diag\n",
      "   Posterior variance computation                   : Approx.\n",
      "   Number of CPU cores (n_core)                     : 36\n",
      "   Maximum GN iterations                            : 4\n",
      "   machine precision (delta = sqrt(precision))      : 1.000000e-04\n",
      "   Tol for iterations (norm(sol_diff)/norm(sol))    : 1.000000e-01\n",
      "   Levenberg-Marquardt (LM)                         : True\n",
      "   LM solution range constraints (LM_smin, LM_smax) : None, None\n",
      "   Line search                                      : True\n",
      "-----------------------------------------------------------\n"
     ]
    }
   ],
   "source": [
    "# initialize\n",
    "prob = PCGA(forward_model, s_init, pts, params, s_true, obs)\n"
   ]
  },
  {
   "cell_type": "markdown",
   "metadata": {},
   "source": [
    "- run pyPCGA"
   ]
  },
  {
   "cell_type": "code",
   "execution_count": 14,
   "metadata": {
    "collapsed": false
   },
   "outputs": [
    {
     "name": "stdout",
     "output_type": "stream",
     "text": [
      "##### 2. Construct Prior Covariance Matrix\n",
      "- time for covariance matrix construction (m = 10000) is 0 sec\n",
      "##### 3. Eigendecomposition of Prior Covariance\n",
      "- time for eigendecomposition with k = 50 is 1 sec\n",
      "- 1st eigv : 679.49, 50-th eigv : 26.2092, ratio: 0.0385719\n",
      "##### 4. Start PCGA Inversion #####\n",
      "-- evaluate initial solution\n",
      "obs. RMSE (norm(obs. diff.)/sqrt(nobs)): 1.58547, normalized obs. RMSE (norm(obs. diff./sqrtR)/sqrt(nobs)): 15.8547\n",
      "***** Iteration 1 ******\n",
      "computed Jacobian-Matrix products in 339.351796 secs\n",
      "solve saddle point (co-kriging) systems with Levenberg-Marquardt\n",
      "evaluate LM solutions\n",
      "LM solution evaluted\n",
      "- Geostat. inversion at iteration 1 is 584 sec\n",
      "== iteration 1 summary ==\n",
      "= objective function is 3.176244e+04, relative L2-norm diff btw sol 0 and sol 1 is 0.12728\n",
      "= L2-norm error (w.r.t truth) is 21.1994, obs. RMSE is 0.347885, obs. normalized RMSE is 3.47885\n",
      "- save results in text at iteration 1\n",
      "***** Iteration 2 ******\n",
      "computed Jacobian-Matrix products in 339.822775 secs\n",
      "solve saddle point (co-kriging) systems with Levenberg-Marquardt\n",
      "evaluate LM solutions\n",
      "LM solution evaluted\n",
      "- Geostat. inversion at iteration 2 is 585 sec\n",
      "perform simple linesearch due to no progress in obj value\n",
      "evaluate linesearch solutions\n",
      "== iteration 2 summary ==\n",
      "= objective function is 2.555886e+04, relative L2-norm diff btw sol 1 and sol 2 is 0.0494029\n",
      "= L2-norm error (w.r.t truth) is 21.0788, obs. RMSE is 0.312061, obs. normalized RMSE is 3.12061\n",
      "- save results in text at iteration 2\n",
      "start posterior variance computation\n",
      "posterior diag. computed in 31.931345 secs\n",
      "------------ Inversion Summary ---------------------------\n",
      "** Found solution at iteration 2\n",
      "** Solution obs. RMSE 0.312061 , initial obs. RMSE 1.58547, where RMSE = (norm(obs. diff.)/sqrt(nobs)), Solution obs. nRMSE 3.12061, init. obs. nRMSE 15.8547\n",
      "** Final objective function value is 2.555886e+04\n",
      "** Final predictive model checking Q2, cR is 1.487463e-02, 1.511533e-01\n",
      "** Total elapsed time is 1492.527673 secs\n",
      "----------------------------------------------------------\n"
     ]
    }
   ],
   "source": [
    "# run inversion\n",
    "s_hat, simul_obs, post_diagv, iter_best = prob.Run()"
   ]
  },
  {
   "cell_type": "markdown",
   "metadata": {},
   "source": [
    "# Post-processing"
   ]
  },
  {
   "cell_type": "code",
   "execution_count": 15,
   "metadata": {
    "collapsed": false
   },
   "outputs": [
    {
     "data": {
      "text/plain": [
       "[Text(1,0,'1'), Text(1,0,'10'), Text(1,0,'100'), Text(1,0,'1000')]"
      ]
     },
     "execution_count": 15,
     "metadata": {},
     "output_type": "execute_result"
    },
    {
     "data": {
      "image/png": "[encoded data removed]",
      "text/plain": [
       "<Figure size 432x288 with 3 Axes>"
      ]
     },
     "metadata": {},
     "output_type": "display_data"
    }
   ],
   "source": [
    "fig, ax = plt.subplots(nrows=1,ncols=2,sharey=True)\n",
    "im0 = ax[0].imshow(s_true.reshape(ny,nx),vmin=0,vmax=np.log(1000), cmap=plt.get_cmap('jet'),extent=(0,2000,2000,0))\n",
    "ax[0].set_title('true')\n",
    "ax[0].set_aspect('equal','box-forced')\n",
    "ax[1].imshow(s_hat.reshape(ny,nx),vmin=0,vmax=np.log(1000), cmap=plt.get_cmap('jet'),extent=(0,2000,2000,0))\n",
    "ax[1].set_title('estimated')\n",
    "ax[1].set_aspect('equal','box-forced')\n",
    "ax[0].set_xticks(np.linspace(0,2000,3))\n",
    "ax[0].set_yticks(np.linspace(0,2000,3))\n",
    "ax[1].set_xticks(np.linspace(0,2000,3))\n",
    "ax[0].set_ylabel('depth [m]')\n",
    "ax[0].set_xlabel('x [m]')\n",
    "ax[1].set_xlabel('x [m]')\n",
    "\n",
    "cbar = fig.colorbar(im0, ticks=[np.log(1),np.log(10), np.log(100),np.log(1000)],ax=ax.ravel().tolist(),shrink=0.5)\n",
    "cbar.ax.set_yticklabels(['1','10','100','1000'])"
   ]
  },
  {
   "cell_type": "code",
   "execution_count": 16,
   "metadata": {
    "collapsed": false
   },
   "outputs": [
    {
     "data": {
      "image/png": "[encoded data removed]",
      "text/plain": [
       "<Figure size 432x288 with 2 Axes>"
      ]
     },
     "metadata": {},
     "output_type": "display_data"
    }
   ],
   "source": [
    "post_std = np.sqrt(post_diagv)\n",
    "\n",
    "plt.title(r'Uncertainty - posterior std(estimate $\\ln \\; \\rho$)')\n",
    "im0 = plt.imshow(post_std.reshape(ny,nx), cmap=plt.get_cmap('jet'),extent=(0,2000,2000,0))\n",
    "plt.gca().set_aspect('equal','box-forced')\n",
    "plt.xticks(np.linspace(0,2000,3))\n",
    "plt.yticks(np.linspace(0,2000,3))\n",
    "plt.xlabel('x [m]')\n",
    "plt.ylabel('depth [m]')\n",
    "plt.colorbar(im0)\n",
    "plt.tight_layout()"
   ]
  },
  {
   "cell_type": "code",
   "execution_count": 17,
   "metadata": {
    "collapsed": false
   },
   "outputs": [
    {
     "data": {
      "image/png": "[encoded data removed]",
      "text/plain": [
       "<Figure size 432x288 with 1 Axes>"
      ]
     },
     "metadata": {},
     "output_type": "display_data"
    }
   ],
   "source": [
    "nobs = obs.shape[0]\n",
    "plt.title('obs. vs simul.')\n",
    "plt.plot(obs, simul_obs, '.')\n",
    "plt.xlabel('observed')\n",
    "plt.ylabel('simulated')\n",
    "minobs = np.hstack((obs, simul_obs.reshape(-1))).min()\n",
    "maxobs = np.hstack((obs, simul_obs.reshape(-1))).max()\n",
    "plt.plot(np.linspace(minobs, maxobs, 20), np.linspace(minobs, maxobs, 20), 'k-')\n",
    "axes = plt.gca()\n",
    "axes.set_xlim([math.floor(minobs), math.ceil(maxobs)])\n",
    "axes.set_ylim([math.floor(minobs), math.ceil(maxobs)])\n",
    "plt.gca().set_aspect('equal','box-forced')\n",
    "plt.xticks(np.linspace(0,60,3))\n",
    "plt.yticks(np.linspace(0,60,3))\n",
    "plt.tight_layout()"
   ]
  }
 ],
 "metadata": {
  "anaconda-cloud": {},
  "kernelspec": {
   "display_name": "Python [conda env:anaconda2]",
   "language": "python",
   "name": "conda-env-anaconda2-py"
  },
  "language_info": {
   "codemirror_mode": {
    "name": "ipython",
    "version": 2
   },
   "file_extension": ".py",
   "mimetype": "text/x-python",
   "name": "python",
   "nbconvert_exporter": "python",
   "pygments_lexer": "ipython2",
   "version": "2.7.15"
  }
 },
 "nbformat": 4,
 "nbformat_minor": 1
}
