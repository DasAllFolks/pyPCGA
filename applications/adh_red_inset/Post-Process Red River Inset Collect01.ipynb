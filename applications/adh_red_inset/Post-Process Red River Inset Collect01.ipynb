{
 "cells": [
  {
   "cell_type": "markdown",
   "metadata": {},
   "source": [
    "**TODO**\n",
    "- change photograph and initial plots to reflect the new domain"
   ]
  },
  {
   "cell_type": "markdown",
   "metadata": {},
   "source": [
    "# Post-process PCGA run\n",
    "\n",
    "## Red River Example\n",
    "This is a first cut at bathymetry inversion on a section of the Red River below Acme, LA.\n",
    "\n",
    "The reach is roughly 9 [km] long. The cross-channel distances range approximately between 100 and 300 m. \n"
   ]
  },
  {
   "cell_type": "markdown",
   "metadata": {},
   "source": [
    "### Reference bathymetry\n",
    "Our reference bathymetry is built by interpolating cross-sections from a detailed multibeam survey conducted by the ERDC Coastal and Hydraulics Lab. The problem domain and interpolated bathymetry on the a reference mesh are shown below."
   ]
  },
  {
   "cell_type": "markdown",
   "metadata": {},
   "source": [
    "<table>\n",
    "<tr><th> Red River Domain</th> <th> Survey-Generated Bathymetry</th>\n",
    "<tr>\n",
    "<td> <img src=\"./plots/inset_google_map.png\" alt=\"Red River Domain\" style=\"width:300px\"> </td>\n",
    "<td> <img src=\"./plots/bathymetry_true.png\" alt=\"Red River Bathymetry\" style=\"width:300px\"> </td>\n",
    "</table>"
   ]
  },
  {
   "cell_type": "markdown",
   "metadata": {},
   "source": [
    "## Auxiliary Conditions\n",
    "Boundary conditions for the problem were a constant discharge $Q_b= 829.4$ [m${}^3$/s] at the inflow (upper left) boundary and a constant tailwater (free-surface elevation) $z_b=4.5$ [m] at the outflow (lower right).\n",
    "\n",
    "The initial conditions were\n",
    "$$\n",
    "\\mathbf{v}=0 \\\\\n",
    "\\eta = z_b\n",
    "$$\n",
    "where $\\eta$ is the free-surface elevation, $\\eta = z+h$, and $\\mathbf{v}$ is the depth averaged velocity.\n",
    "\n",
    "The simulations were run for 1 hour using the Corps' `Adaptive Hydraulics (AdH)` 2d shallow water module.\n",
    "\n",
    "**Note** We will probably need to run the simulation longer or use a better initial condition from an offline 'spin-up' for the actual data collection."
   ]
  },
  {
   "cell_type": "markdown",
   "metadata": {},
   "source": [
    "### Velocity and Depth profiles\n",
    "The velocity and depth predicted by AdH on the reference bathymetry are below. \n",
    "\n",
    "**TODO** replace these with plots in consistent color scheme with bathymetry plot"
   ]
  },
  {
   "cell_type": "markdown",
   "metadata": {},
   "source": [
    "<table>\n",
    "<tr><th> Velocity </th> <th> Depth</th>\n",
    "<tr>\n",
    "<td> <img src=\"./plots/velocity_inset_true.png\" alt=\"Velocity for Collection Period\" style=\"width:300px\"> </td>\n",
    "<td> <img src=\"./plots/depth_inset_true.png\" alt=\"Depth for Collection Period\" style=\"width:300px\"> </td>\n",
    "</table>"
   ]
  },
  {
   "cell_type": "markdown",
   "metadata": {},
   "source": [
    "Import the necessary python modules"
   ]
  },
  {
   "cell_type": "code",
   "execution_count": null,
   "metadata": {
    "collapsed": true
   },
   "outputs": [],
   "source": [
    "%matplotlib inline\n",
    "import os\n",
    "import matplotlib\n",
    "import matplotlib.pyplot as plt\n",
    "from matplotlib.ticker import ScalarFormatter, FormatStrFormatter\n",
    "\n",
    "import numpy as np\n",
    "from scipy.io import savemat, loadmat\n",
    "import red_inset_plot_utils as rp"
   ]
  },
  {
   "cell_type": "code",
   "execution_count": null,
   "metadata": {
    "collapsed": true
   },
   "outputs": [],
   "source": [
    "matplotlib.rcParams.update({'font.size': 20})\n",
    "matplotlib.rcParams['legend.loc'] = 'best'"
   ]
  },
  {
   "cell_type": "code",
   "execution_count": null,
   "metadata": {},
   "outputs": [],
   "source": [
    "base_dir = os.getcwd()"
   ]
  },
  {
   "cell_type": "markdown",
   "metadata": {},
   "source": [
    "## Read in the results"
   ]
  },
  {
   "cell_type": "markdown",
   "metadata": {},
   "source": [
    "The location of the results and names of several files to be read\n"
   ]
  },
  {
   "cell_type": "code",
   "execution_count": null,
   "metadata": {
    "collapsed": true
   },
   "outputs": [],
   "source": [
    "res_dir = os.path.join(base_dir, 'results','inset_02262018','npc_100','no_vort')#os.getcwd()\n",
    "results_file = 'results.mat'\n",
    "soln_prefix = \"shat\"\n",
    "varfile     = \"postv.txt\"\n",
    "nodefile    = \"meshnode.txt\"\n",
    "elemfile    = \"triangles.txt\"\n",
    "truefile    = \"true.txt\"\n",
    "obs_locfile = \"observation_loc_N250_M8_J1_I10.dat\"\n",
    "obs_file    = \"observations.dat\"#\"obs.txt\"\n",
    "sim_obs_template = 'simulobs{0:d}.txt'\n",
    "true_file   = \"z_Inset_02262018\""
   ]
  },
  {
   "cell_type": "code",
   "execution_count": null,
   "metadata": {
    "collapsed": true
   },
   "outputs": [],
   "source": [
    "os.chdir(res_dir)"
   ]
  },
  {
   "cell_type": "markdown",
   "metadata": {},
   "source": [
    "Read in the results, stored in `soln_prefix*` and variance stored in var_file"
   ]
  },
  {
   "cell_type": "code",
   "execution_count": null,
   "metadata": {
    "collapsed": true
   },
   "outputs": [],
   "source": [
    "resfiles = [f for f in os.listdir(res_dir) if os.path.isfile(os.path.join(res_dir, f)) and f[:len(soln_prefix)] == soln_prefix]\n",
    "resfile = resfiles[-1]\n"
   ]
  },
  {
   "cell_type": "markdown",
   "metadata": {},
   "source": [
    "## set some problem information"
   ]
  },
  {
   "cell_type": "code",
   "execution_count": null,
   "metadata": {},
   "outputs": [],
   "source": [
    "nx,ny = 1001,51"
   ]
  },
  {
   "cell_type": "markdown",
   "metadata": {},
   "source": [
    "Go ahead and load in the results file to use if possible"
   ]
  },
  {
   "cell_type": "code",
   "execution_count": null,
   "metadata": {
    "collapsed": true
   },
   "outputs": [],
   "source": [
    "results = loadmat(results_file)"
   ]
  },
  {
   "cell_type": "markdown",
   "metadata": {
    "collapsed": true
   },
   "source": [
    "### the solution and posterior variance"
   ]
  },
  {
   "cell_type": "code",
   "execution_count": null,
   "metadata": {
    "collapsed": true
   },
   "outputs": [],
   "source": [
    "s_hat = results['s_hat']#np.loadtxt(os.path.join(res_dir,resfile))\n",
    "postv= np.loadtxt(os.path.join(res_dir,varfile))\n",
    "poststd = np.sqrt(postv)                  "
   ]
  },
  {
   "cell_type": "markdown",
   "metadata": {},
   "source": [
    "### the computational domain"
   ]
  },
  {
   "cell_type": "code",
   "execution_count": null,
   "metadata": {
    "collapsed": true
   },
   "outputs": [],
   "source": [
    "triangles = np.loadtxt(elemfile)\n",
    "meshnode = np.loadtxt(nodefile)\n"
   ]
  },
  {
   "cell_type": "markdown",
   "metadata": {},
   "source": [
    "### observation locations and values"
   ]
  },
  {
   "cell_type": "code",
   "execution_count": null,
   "metadata": {},
   "outputs": [],
   "source": [
    "velocity_obs_loc = np.loadtxt(obs_locfile)\n",
    "\n",
    "obs = np.loadtxt(obs_file)\n",
    "nobs = obs.shape[0]\n"
   ]
  },
  {
   "cell_type": "code",
   "execution_count": null,
   "metadata": {
    "collapsed": true
   },
   "outputs": [],
   "source": [
    "simul_obs_list = []\n",
    "for iter in range(len(resfiles)):\n",
    "    simul_obs_list.append(np.loadtxt(os.path.join(res_dir,sim_obs_template.format(iter+1))))\n",
    "simul_obs = simul_obs_list[-1]"
   ]
  },
  {
   "cell_type": "code",
   "execution_count": null,
   "metadata": {},
   "outputs": [],
   "source": [
    "fig = plt.figure(figsize=(10,6),dpi=300)\n",
    "ax = rp.plot_bathymetry_physical_domain(meshnode,triangles,title='True Red Inset Bathymetry and Obs')\n",
    "ax.scatter(velocity_obs_loc[:, 0], velocity_obs_loc[:, 1], c='k', s=0.5, alpha=0.7, label='obs.')"
   ]
  },
  {
   "cell_type": "code",
   "execution_count": null,
   "metadata": {
    "collapsed": true
   },
   "outputs": [],
   "source": []
  },
  {
   "cell_type": "markdown",
   "metadata": {},
   "source": [
    "## Visualization\n",
    "\n",
    "Start by setting some visualization parameters and reshaping for logically rectangular grid."
   ]
  },
  {
   "cell_type": "code",
   "execution_count": null,
   "metadata": {
    "collapsed": true
   },
   "outputs": [],
   "source": [
    "matplotlib.rcParams.update({'font.size': 16})"
   ]
  },
  {
   "cell_type": "code",
   "execution_count": null,
   "metadata": {},
   "outputs": [],
   "source": [
    "N = np.array([nx, ny])\n",
    "m = np.prod(N)\n",
    "\n",
    "s_true = np.loadtxt(true_file)\n",
    "\n",
    "s_hat2d = s_hat.reshape(N[1], N[0])\n",
    "s_true2d = s_true.reshape(N[1], N[0])\n",
    "#bounds for scaling\n",
    "minv = s_true.min()\n",
    "maxv = s_true.max()"
   ]
  },
  {
   "cell_type": "code",
   "execution_count": null,
   "metadata": {},
   "outputs": [],
   "source": [
    "fig = plt.figure(figsize=(10,6),dpi=300)\n",
    "ax = rp.plot_field_on_physical_domain(meshnode,triangles,s_true.flat,title='True Red Inset Bathymetry')\n",
    "ax.scatter(velocity_obs_loc[:, 0], velocity_obs_loc[:, 1], c='k', s=0.5, alpha=0.7, label='obs.')\n",
    "fig.savefig('./bathymetry_true.png', dpi=300, bbox_inches='tight', pad_inches=0.0)"
   ]
  },
  {
   "cell_type": "code",
   "execution_count": null,
   "metadata": {},
   "outputs": [],
   "source": [
    "fig = plt.figure(figsize=(10,6),dpi=300)\n",
    "ax = rp.plot_field_on_physical_domain(meshnode,triangles,s_hat.flat,title='Estimated Red Inset Bathymetry')\n",
    "fig.savefig('./bathymetry_estimate.png', dpi=300, bbox_inches='tight', pad_inches=0.0)\n",
    "                                        "
   ]
  },
  {
   "cell_type": "code",
   "execution_count": null,
   "metadata": {},
   "outputs": [],
   "source": []
  },
  {
   "cell_type": "code",
   "execution_count": null,
   "metadata": {},
   "outputs": [],
   "source": [
    "fig = plt.figure(figsize=(10,6),dpi=300)\n",
    "diff=s_hat.flat[:]-s_true.flat[:]\n",
    "ax = rp.plot_field_on_physical_domain(meshnode,triangles,diff.flat,title='Difference in Estimated Bathymetry')\n",
    "fig.savefig('./bathymetry_diff.png', dpi=300, bbox_inches='tight', pad_inches=0.0)\n",
    " "
   ]
  },
  {
   "cell_type": "markdown",
   "metadata": {},
   "source": [
    "### The uncertainty estimate"
   ]
  },
  {
   "cell_type": "code",
   "execution_count": null,
   "metadata": {
    "scrolled": true
   },
   "outputs": [],
   "source": [
    "fig = plt.figure(figsize=(10,6),dpi=300)\n",
    "title='Uncertainty Map (std): Red Inset Bathymetry'\n",
    "ax = rp.plot_field_on_physical_domain(meshnode,triangles,poststd,title=title)\n",
    "fig.savefig('./bathymetry_poststd.png', dpi=300, bbox_inches='tight', pad_inches=0.0)\n",
    "\n"
   ]
  },
  {
   "cell_type": "code",
   "execution_count": null,
   "metadata": {},
   "outputs": [],
   "source": [
    "titles=['True Red Inset Bathymetry','Esimtated Red Inset Bathymetry']\n",
    "s_list=[s_true.flat[:],s_hat.flat[:]]\n",
    "fig,axes = rp.plot_field_physical_domain_comparison_1x2(meshnode,triangles,s_list,titles)\n",
    "plt.savefig('./bathymetry_comparison.png', dpi = 300, bbox_inches='tight', pad_inches=0.0)"
   ]
  },
  {
   "cell_type": "code",
   "execution_count": null,
   "metadata": {},
   "outputs": [],
   "source": [
    "title ='measured vs simulated velocity, RMSE : {0:5.3e}'.format(np.linalg.norm(obs - simul_obs)/np.sqrt(nobs))\n",
    "fig = plt.figure(figsize=(10, 6.), dpi=300)\n",
    "ax = rp.plot_observations_comparison(obs,simul_obs,title=title)\n",
    "fig.savefig('obs.png', dpi=fig.dpi)"
   ]
  },
  {
   "cell_type": "markdown",
   "metadata": {},
   "source": [
    "Look at the progress of the optimization"
   ]
  },
  {
   "cell_type": "code",
   "execution_count": null,
   "metadata": {},
   "outputs": [],
   "source": [
    "fig = plt.figure(figsize=(10, 6.), dpi=300)\n",
    "plt.semilogy(range(len(results['objvals'][0])), results['objvals'][0], 'r-*')\n",
    "plt.title('obj values over iterations')\n",
    "plt.axis('tight')\n",
    "fig.savefig('obj.png', dpi=fig.dpi)"
   ]
  },
  {
   "cell_type": "markdown",
   "metadata": {},
   "source": [
    "Setup the coordinate information and arrays for visualization"
   ]
  },
  {
   "cell_type": "code",
   "execution_count": null,
   "metadata": {},
   "outputs": [],
   "source": [
    "soln = s_hat.flat[:]\n",
    "mesh_true = np.array(meshnode)\n",
    "mesh_est = np.array(meshnode)\n",
    "mesh_est_u = np.array(meshnode)\n",
    "mesh_est_l = np.array(meshnode)\n",
    "mesh_est[:, 2] = soln[:]\n",
    "mesh_est_u[:,2] = soln + 1.96*poststd[:]\n",
    "mesh_est_l[:,2] = soln - 1.96*poststd[:]\n"
   ]
  },
  {
   "cell_type": "markdown",
   "metadata": {},
   "source": [
    "### transverse mean comparison"
   ]
  },
  {
   "cell_type": "code",
   "execution_count": null,
   "metadata": {},
   "outputs": [],
   "source": [
    "fig = plt.figure(figsize=(10,6),dpi=300)\n",
    "ax = rp.plot_streamwise_section_comparison(mesh_true,mesh_est,\n",
    "                                           mesh_est_u,mesh_est_l,nx,ny,0,\n",
    "                                           use_transverse_average=True,\n",
    "                                           title='transverse avg. with std(error)= 0.05 m/s',\n",
    "                                           ylabel='$z_b$ [m]',xlabel='streamwise distance [m]')"
   ]
  },
  {
   "cell_type": "markdown",
   "metadata": {},
   "source": [
    "### centerline"
   ]
  },
  {
   "cell_type": "code",
   "execution_count": null,
   "metadata": {
    "scrolled": true
   },
   "outputs": [],
   "source": [
    "J_plot=int(ny/2)\n",
    "fig = plt.figure(figsize=(10,6),dpi=300)\n",
    "ax = rp.plot_streamwise_section_comparison(mesh_true,mesh_est,\n",
    "                                           mesh_est_u,mesh_est_l,nx,ny,J_plot,\n",
    "                                           title='centerline with std(error)= 0.05 m/s',\n",
    "                                           ylabel='$z_b$ [m]',xlabel='streamwise distance [m]')"
   ]
  },
  {
   "cell_type": "markdown",
   "metadata": {},
   "source": [
    "### a section south of the centerline"
   ]
  },
  {
   "cell_type": "code",
   "execution_count": null,
   "metadata": {},
   "outputs": [],
   "source": [
    "J_plot=20\n",
    "fig = plt.figure(figsize=(10,6),dpi=300)\n",
    "ax = rp.plot_streamwise_section_comparison(mesh_true,mesh_est,\n",
    "                                           mesh_est_u,mesh_est_l,nx,ny,J_plot,\n",
    "                                           title='{0:3.0f}% slice with std(error)= 0.05 m/s'.format(J_plot/float(ny)*100),\n",
    "                                           ylabel='$z_b$ [m]',xlabel='streamwise distance [m]')"
   ]
  },
  {
   "cell_type": "markdown",
   "metadata": {},
   "source": [
    "### a section north of the centerline"
   ]
  },
  {
   "cell_type": "code",
   "execution_count": null,
   "metadata": {},
   "outputs": [],
   "source": [
    "J_plot=30\n",
    "fig = plt.figure(figsize=(10,6),dpi=300)\n",
    "ax = rp.plot_streamwise_section_comparison(mesh_true,mesh_est,\n",
    "                                           mesh_est_u,mesh_est_l,nx,ny,J_plot,\n",
    "                                           title='{0:3.0f}% slice with std(error)= 0.05 m/s'.format(J_plot/float(ny)*100),\n",
    "                                           ylabel='$z_b$ [m]',xlabel='streamwise distance [m]')"
   ]
  },
  {
   "cell_type": "markdown",
   "metadata": {},
   "source": [
    "### compare four cross sections\n"
   ]
  },
  {
   "cell_type": "code",
   "execution_count": null,
   "metadata": {},
   "outputs": [],
   "source": [
    "J_list = [None,int(ny/2),20,30]\n",
    "fig,axes = rp.plot_streamwise_section_comparison_2x2(mesh_true,mesh_est,mesh_est_u,mesh_est_l,nx,ny,J_list,\n",
    "                                                     title_suffix = 'with std(error) = 0.05 m/s',\n",
    "                                                     ylabel='$z_b$ [m]',xlabel='streamwise distance [m]')\n",
    "plt.savefig('red_inset_alongchannel.png', bbox_inches='tight', pad_inches=0, dpi=300)"
   ]
  },
  {
   "cell_type": "markdown",
   "metadata": {},
   "source": [
    "## Compare cross sections now\n",
    "\n",
    "Choose a few cross-sections and label by relative distance down the channel"
   ]
  },
  {
   "cell_type": "code",
   "execution_count": null,
   "metadata": {},
   "outputs": [],
   "source": [
    "I_plot=153\n",
    "fig = plt.figure(figsize=(10,6),dpi=300)\n",
    "ax = rp.plot_channel_crosssection_comparison(mesh_true,mesh_est,mesh_est_u,mesh_est_l,\n",
    "                                             nx,ny,I_plot,title='{0:3.1f}% cross-section with std(error)= 0.05 [m/s]'.format(I_plot/float(nx)*100),\n",
    "                                             ylabel='$z_b$ [m]',\n",
    "                                             xlabel='cross-channel distance [m]',\n",
    "                                            loc='lower right')"
   ]
  },
  {
   "cell_type": "code",
   "execution_count": null,
   "metadata": {},
   "outputs": [],
   "source": [
    "I_plot=200\n",
    "fig = plt.figure(figsize=(10,6),dpi=300)\n",
    "ax = rp.plot_channel_crosssection_comparison(mesh_true,mesh_est,mesh_est_u,mesh_est_l,\n",
    "                                             nx,ny,I_plot,title='{0:3.1f}% cross-section with std(error)= 0.05 [m/s]'.format(I_plot/float(nx)*100),\n",
    "                                             ylabel='$z_b$ [m]',\n",
    "                                             xlabel='cross-channel distance [m]',\n",
    "                                             loc='lower right')"
   ]
  },
  {
   "cell_type": "code",
   "execution_count": null,
   "metadata": {
    "scrolled": true
   },
   "outputs": [],
   "source": [
    "I_plot=753\n",
    "fig = plt.figure(figsize=(8,6),dpi=300)\n",
    "ax = rp.plot_channel_crosssection_comparison(mesh_true,mesh_est,mesh_est_u,mesh_est_l,\n",
    "                                             nx,ny,I_plot,title='{0:3.1f}% cross-section with std(error)= 0.05 [m/s]'.format(I_plot/float(nx)*100),\n",
    "                                             ylabel='$z_b$ [m]',\n",
    "                                             xlabel='cross-channel distance [m]',\n",
    "                                            loc='lower right')"
   ]
  },
  {
   "cell_type": "code",
   "execution_count": null,
   "metadata": {},
   "outputs": [],
   "source": [
    "I_list=[153,200,753]\n",
    "fig,axes = rp.plot_channel_crosssection_comparison_3x1(mesh_true,mesh_est,mesh_est_u,mesh_est_l,\n",
    "                                                 nx,ny,I_list,title_suffix='with std(error)= 0.05 [m/s]',\n",
    "                                                 ylabel='$z_b$ [m]',xlabel='cross-channel distance [m]')\n",
    "plt.savefig('red_inset_acrosschannel.png', bbox_inches='tight', pad_inches=0, dpi=300)"
   ]
  },
  {
   "cell_type": "code",
   "execution_count": null,
   "metadata": {
    "collapsed": true
   },
   "outputs": [],
   "source": []
  }
 ],
 "metadata": {
  "kernelspec": {
   "display_name": "Python 2",
   "language": "python",
   "name": "python2"
  },
  "language_info": {
   "codemirror_mode": {
    "name": "ipython",
    "version": 2
   },
   "file_extension": ".py",
   "mimetype": "text/x-python",
   "name": "python",
   "nbconvert_exporter": "python",
   "pygments_lexer": "ipython2",
   "version": "2.7.14"
  },
  "latex_envs": {
   "LaTeX_envs_menu_present": true,
   "autocomplete": true,
   "bibliofile": "biblio.bib",
   "cite_by": "apalike",
   "current_citInitial": 1,
   "eqLabelWithNumbers": true,
   "eqNumInitial": 1,
   "hotkeys": {
    "equation": "Ctrl-E",
    "itemize": "Ctrl-I"
   },
   "labels_anchors": false,
   "latex_user_defs": false,
   "report_style_numbering": false,
   "user_envs_cfg": false
  }
 },
 "nbformat": 4,
 "nbformat_minor": 2
}
