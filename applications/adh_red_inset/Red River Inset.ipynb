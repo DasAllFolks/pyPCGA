{
 "cells": [
  {
   "cell_type": "markdown",
   "metadata": {},
   "source": [
    "# Red River Bathymetry Inversion Example\n",
    "This is a first cut at bathymetry inversion on a section of the Red River below Acme, LA.\n",
    "\n",
    "The reach is roughly 9 [km] long. The cross-channel distances range approximately between 100 and 300 m. \n"
   ]
  },
  {
   "cell_type": "markdown",
   "metadata": {},
   "source": [
    "### Reference bathymetry\n",
    "Our reference bathymetry is built by interpolating cross-sections from a detailed multibeam survey conducted by the ERDC Coastal and Hydraulics Lab. The problem domain and interpolated bathymetry on the a reference mesh are shown below."
   ]
  },
  {
   "cell_type": "markdown",
   "metadata": {},
   "source": [
    "<table>\n",
    "<tr><th> Red River Domain</th> <th> Survey-Generated Bathymetry</th>\n",
    "<tr>\n",
    "<td> <img src=\"./plots/inset_google_map.png\" alt=\"Red River Domain\" style=\"width:300px\"> </td>\n",
    "<td> <img src=\"./plots/bathymetry_true.png\" alt=\"Red River Bathymetry\" style=\"width:300px\"> </td>\n",
    "</table>"
   ]
  },
  {
   "cell_type": "markdown",
   "metadata": {},
   "source": [
    "## Auxiliary Conditions\n",
    "Boundary conditions for the problem were a constant discharge $Q_b= 829.4$ [m${}^3$/s] at the inflow (upper left) boundary and a constant tailwater (free-surface elevation) $z_b=4.5$ [m] at the outflow (lower right).\n",
    "\n",
    "The initial conditions were\n",
    "$$\n",
    "\\mathbf{v}=0 \\\\\n",
    "\\eta = z_b\n",
    "$$\n",
    "where $\\eta$ is the free-surface elevation, $\\eta = z+h$, and $\\mathbf{v}$ is the depth averaged velocity.\n",
    "\n",
    "The simulations were run for 1 hour using the Corps' `Adaptive Hydraulics (AdH)` 2d shallow water module.\n",
    "\n",
    "**Note** We will probably need to run the simulation longer or use a better initial condition from an offline 'spin-up' for the actual data collection."
   ]
  },
  {
   "cell_type": "markdown",
   "metadata": {},
   "source": [
    "### Velocity and Depth profiles\n",
    "The velocity and depth predicted by AdH on the reference bathymetry are below. \n",
    "\n",
    "**TODO** replace these with plots in consistent color scheme with bathymetry plot"
   ]
  },
  {
   "cell_type": "markdown",
   "metadata": {},
   "source": [
    "<table>\n",
    "<tr><th> Velocity </th> <th> Depth</th>\n",
    "<tr>\n",
    "<td> <img src=\"./plots/velocity_inset_true.png\" alt=\"Velocity for Collection Period\" style=\"width:300px\"> </td>\n",
    "<td> <img src=\"./plots/depth_inset_true.png\" alt=\"Depth for Collection Period\" style=\"width:300px\"> </td>\n",
    "</table>"
   ]
  },
  {
   "cell_type": "markdown",
   "metadata": {},
   "source": [
    "Import the necessary python modules"
   ]
  },
  {
   "cell_type": "code",
   "execution_count": null,
   "metadata": {},
   "outputs": [],
   "source": [
    "%matplotlib inline\n",
    "\n",
    "import matplotlib\n",
    "import matplotlib.pyplot as plt\n",
    "from matplotlib.ticker import ScalarFormatter, FormatStrFormatter\n",
    "\n",
    "import numpy as np\n",
    "from pyPCGA import PCGA\n",
    "from multiprocessing import Pool\n",
    "import math\n",
    "from scipy.io import savemat, loadmat\n",
    "import adh\n"
   ]
  },
  {
   "cell_type": "markdown",
   "metadata": {},
   "source": [
    "## Simulation parameters\n",
    "\n",
    "Parameters controlling the `AdH` simulations are\n",
    "\n",
    "| Option | Description |\n",
    "|--------|-------------|\n",
    "|`sim_dir` | where to run the simulations |\n",
    "|`adh_exec`| path to the `AdH` executable   |\n",
    "|`adh_version` | version of `AdH` being used|\n",
    "|`adh_grid`    | `gridgen` grid file for logically rectangular domain|\n",
    "|`adh_rect`    | `gridgen` bounding rectangle file |\n",
    "|`adh_mesh`    | `AdH` mesh in `xms` format | \n",
    "|`adh_bc`      | `AdH` input file| \n",
    "|`nx`          | number of nodes in the stream-wise direction|\n",
    "|`ny`          | number of nodes in the cross-channel direction|\n",
    "\n",
    "**Note** $nx$ and $ny$ must be consistent with the mesh and grid information specified in the file parameters.\n"
   ]
  },
  {
   "cell_type": "markdown",
   "metadata": {},
   "source": [
    "Parameters for the observations are\n",
    "\n",
    "|Option |Description  |\n",
    "|-------|-------------|\n",
    "|`velocity_obs_file` | location of velocity observations |\n",
    "|`elevation_obs_file`| location of elevation observations|\n",
    "|`true_soln_file_h5` | `hdf5` file holding the reference solution (for synthetic cases)|\n",
    "|`true_soln_meshbase`| basename for reference solution xms mesh\n"
   ]
  },
  {
   "cell_type": "code",
   "execution_count": null,
   "metadata": {
    "collapsed": true
   },
   "outputs": [],
   "source": [
    "adh_params = {'sim_dir': './simul',\n",
    "              'adh_exec': './bin/v4/adh',\n",
    "              'pre_adh_exec': './bin/v4/pre_adh',\n",
    "              'adh_version': 4.5,\n",
    "              'adh_grid': './mesh_files/nx1001_ny51/grid_Inset_nx1001_ny51',\n",
    "              'adh_rect': './mesh_files/nx1001_ny51/rect_Inset_nx1001_ny51',\n",
    "              'adh_mesh': './mesh_files/nx1001_ny51/Inset_nx1001_ny51.3dm',\n",
    "              'adh_bc': './true_files/nx1001_ny51/Inset_true_v46.bc',\n",
    "              'velocity_obs_file': './observation_files/observation_loc_N250_M8_J1_I10.dat',\n",
    "              'elevation_obs_file': './observation_files/observation_loc_none.dat',\n",
    "              'true_soln_file_h5': './true_files/nx1001_ny51/Inset_true_v46_p0.h5',\n",
    "              'true_soln_meshbase': './true_files/nx1001_ny51/Inset_true_v46'\n",
    "              }"
   ]
  },
  {
   "cell_type": "markdown",
   "metadata": {},
   "source": [
    "Setup the domain and coordinate information"
   ]
  },
  {
   "cell_type": "code",
   "execution_count": null,
   "metadata": {},
   "outputs": [],
   "source": [
    "nx,ny = 1001,51\n",
    "\n",
    "N = np.array([nx, ny])\n",
    "m = np.prod(N)\n",
    "dx = np.array([1., 1.])\n",
    "\n",
    "x = np.linspace(0., float(nx), N[0])\n",
    "y = np.linspace(0., float(ny), N[1])\n",
    "\n",
    "xmin = np.array([x[0], y[0]])\n",
    "xmax = np.array([x[-1], y[-1]])\n",
    "\n",
    "domain_output=\"\"\"\n",
    "Using nx,ny = {0},{1}.\n",
    "xmin,xmax   = {2},{3}\n",
    "\"\"\"\n",
    "\n",
    "print(domain_output.format(nx,ny,xmin,xmax))"
   ]
  },
  {
   "cell_type": "markdown",
   "metadata": {},
   "source": [
    "## Prior covariance\n",
    "\n",
    "Specify the covariance standard deviation and length scales in terms of the logically rectangular reference domain (pixels)"
   ]
  },
  {
   "cell_type": "code",
   "execution_count": null,
   "metadata": {
    "collapsed": true
   },
   "outputs": [],
   "source": [
    "prior_std = 5.0\n",
    "prior_cov_scale = np.array([40.,5.])"
   ]
  },
  {
   "cell_type": "code",
   "execution_count": null,
   "metadata": {
    "collapsed": true
   },
   "outputs": [],
   "source": [
    "def kernel(r): return (prior_std**2) * np.exp(-r**2)"
   ]
  },
  {
   "cell_type": "markdown",
   "metadata": {},
   "source": [
    "### Setup the computational domain, initial estimate"
   ]
  },
  {
   "cell_type": "markdown",
   "metadata": {},
   "source": [
    "The computational grid in the logically rectangular reference domain"
   ]
  },
  {
   "cell_type": "code",
   "execution_count": null,
   "metadata": {
    "collapsed": true
   },
   "outputs": [],
   "source": [
    "XX, YY = np.meshgrid(x, y)\n",
    "pts = np.hstack((XX.ravel()[:, np.newaxis], YY.ravel()[:, np.newaxis]))"
   ]
  },
  {
   "cell_type": "markdown",
   "metadata": {},
   "source": [
    "Use the a constaint value set to the mean for the true solution as the initial estimate for $z$."
   ]
  },
  {
   "cell_type": "code",
   "execution_count": null,
   "metadata": {},
   "outputs": [],
   "source": [
    "s_true = np.loadtxt('true.txt')\n",
    "s_true = s_true.reshape(-1, 1)"
   ]
  },
  {
   "cell_type": "code",
   "execution_count": null,
   "metadata": {},
   "outputs": [],
   "source": [
    "s_init = np.mean(s_true) * np.ones((m,1))"
   ]
  },
  {
   "cell_type": "markdown",
   "metadata": {},
   "source": [
    "## The observations "
   ]
  },
  {
   "cell_type": "code",
   "execution_count": null,
   "metadata": {
    "collapsed": true
   },
   "outputs": [],
   "source": [
    "obs = np.loadtxt('obs.txt')\n",
    "obs = obs.reshape(-1, 1)"
   ]
  },
  {
   "cell_type": "markdown",
   "metadata": {},
   "source": [
    "### The interface to the forward model"
   ]
  },
  {
   "cell_type": "code",
   "execution_count": null,
   "metadata": {
    "collapsed": true
   },
   "outputs": [],
   "source": [
    "def forward_model(s, parallelization, ncores=None):\n",
    "    mymodel = adh.Model(adh_params)\n",
    "\n",
    "    if parallelization:\n",
    "        if ncores is None:\n",
    "            from psutil import cpu_count  # physcial cpu counts\n",
    "            ncores = cpu_count(logical=False)\n",
    "        simul_obs = mymodel.run(s, parallelization, ncores)\n",
    "    else:\n",
    "        simul_obs = mymodel.run(s, parallelization)\n",
    "\n",
    "    if simul_obs.ndim == 1:\n",
    "        simul_obs = simul_obs.reshape(-1, 1)\n",
    "\n",
    "    return simul_obs\n"
   ]
  },
  {
   "cell_type": "markdown",
   "metadata": {},
   "source": [
    "## Inversion parameters\n",
    "\n",
    "Parameters controlling `PCGA` are\n",
    "\n",
    "|Option |Description |\n",
    "|-------|------------|\n",
    "|`R`    | observation variance    |\n",
    "|`n_pc` | number of modes to use  |\n",
    "|`max_iter`| max `PCGA` iterations|\n",
    "|`restol`  | convergence tolerance|\n",
    "|`matvec`  | matrix-vector product approach|\n",
    "|          | `FFT`,`Dense`|\n",
    "|`xmin`    | domain lower bounds|\n",
    "|`xmax`    | domain upper bounds|\n",
    "|`N`       | grid size|\n",
    "|`prior_std` | prior standard deviation|\n",
    "|`kernel`    | prior covariance kernel |\n",
    "|`post_cov`  | compute posterior covariance?|\n",
    "|`precond`   | use preconditioning?|\n",
    "|`parallel`  | run simulations in parallel?|\n",
    "|`LM`        | use Levenberg-Marquardt to solve Co-Kriging system?|\n",
    "|`linesearch`| include line-search in Co-Kriging solution?|\n",
    "|`forward_params`| dictionary of parameters to pass to forward model|\n",
    "|`forward_model_verbose` | run model in verbose mode? |\n",
    "|`verbose`   | run inversion in verbose mode?|\n",
    "|`iter_save` | save intermediate iteration results?|"
   ]
  },
  {
   "cell_type": "code",
   "execution_count": null,
   "metadata": {},
   "outputs": [],
   "source": [
    "params = {'R': (0.05) ** 2, 'n_pc': 100,\n",
    "          'maxiter': 10, 'restol': 5e-2,\n",
    "          'matvec': 'FFT', 'xmin': xmin,\n",
    "          'xmax': xmax, 'N': N,\n",
    "          'prior_std': prior_std, 'prior_cov_scale': prior_cov_scale,\n",
    "          'kernel': kernel, 'post_cov': True, 'precond': True,\n",
    "          'parallel': True, 'LM': True,\n",
    "          'linesearch': True,\n",
    "          'forward_params': adh_params,\n",
    "          'forward_model_verbose': False, 'verbose': False,\n",
    "          'iter_save': True\n",
    "          }"
   ]
  },
  {
   "cell_type": "markdown",
   "metadata": {},
   "source": [
    "## The inversion\n",
    "\n",
    "First initialize the solver.\n",
    "\n",
    "|Input | Description |\n",
    "|-------|-------------|\n",
    "|`forward_model` | function interface for calling forward model|\n",
    "|`s_init`| initial estimate|\n",
    "|`pts`| computational grid |\n",
    "|`params` | PCGA input paramater dictionary|\n",
    "|`s_true` | reference solution |\n",
    "|`obs`    | array of observations|\n"
   ]
  },
  {
   "cell_type": "code",
   "execution_count": null,
   "metadata": {
    "collapsed": true
   },
   "outputs": [],
   "source": [
    "prob = PCGA(forward_model, s_init, pts, params, s_true, obs)"
   ]
  },
  {
   "cell_type": "markdown",
   "metadata": {},
   "source": [
    "Run the inversion!\n",
    "\n",
    "|Output | Description |\n",
    "|-------|-------------|\n",
    "|`s_hat`| PCGA estimate|\n",
    "|`simul_obs` | observations obtained with `s_hat`|\n",
    "|`post_diagv`| diagonal of posterior covariance |\n",
    "|`iter_best` | iteration at which `s_hat` was found|\n",
    "\n"
   ]
  },
  {
   "cell_type": "code",
   "execution_count": null,
   "metadata": {
    "collapsed": true
   },
   "outputs": [],
   "source": [
    "s_hat, simul_obs, post_diagv, iter_best = prob.Run()"
   ]
  },
  {
   "cell_type": "markdown",
   "metadata": {},
   "source": [
    "## Postprocess the results\n",
    "\n",
    "Save some simulation details and results to disk. Values not described above are\n",
    "\n",
    "|Output | Description |\n",
    "|-------|-------------|\n",
    "|`objvals`|PCGA objective function history |\n",
    "|`Q2` | short description of Q2 maybe add equation/ref|\n",
    "|`cR`|  short description of Q2 maybe add equation/ref|\n",
    "|`i_best` | short description |\n",
    "\n"
   ]
  },
  {
   "cell_type": "code",
   "execution_count": null,
   "metadata": {
    "collapsed": true
   },
   "outputs": [],
   "source": [
    "savemat('results.mat', {'s_hat': s_hat, 'simul_obs': simul_obs,\n",
    "                        'iter_best': iter_best,\n",
    "                        'objvals': prob.objvals, 'R': prob.R,\n",
    "                        'n_pc': prob.n_pc,'matvec':prob.matvec,\n",
    "                        'prior_std': params['prior_std'], 'prior_cov_scale': params['prior_cov_scale'],\n",
    "                        'LM': prob.LM, 'linesearch': prob.linesearch,\n",
    "                        'Q2': prob.Q2_best, 'cR': prob.cR_best,\n",
    "                        'maxiter': prob.maxiter, 'i_best': prob.i_best,\n",
    "                        'restol': prob.restol, 'diagv': post_diagv})"
   ]
  },
  {
   "cell_type": "markdown",
   "metadata": {},
   "source": [
    "## Visualization\n",
    "\n",
    "Start by setting some visualization parameters and reshaping for logically rectangular grid."
   ]
  },
  {
   "cell_type": "code",
   "execution_count": null,
   "metadata": {
    "collapsed": true
   },
   "outputs": [],
   "source": [
    "matplotlib.rcParams.update({'font.size': 16})"
   ]
  },
  {
   "cell_type": "code",
   "execution_count": null,
   "metadata": {},
   "outputs": [],
   "source": [
    "s_hat2d = s_hat.reshape(N[1], N[0])\n",
    "s_true2d = s_true.reshape(N[1], N[0])\n",
    "#bounds for scaling\n",
    "minv = s_true.min()\n",
    "maxv = s_true.max()"
   ]
  },
  {
   "cell_type": "markdown",
   "metadata": {},
   "source": [
    "The unstructured (triangular) mesh representation and location of the observations."
   ]
  },
  {
   "cell_type": "code",
   "execution_count": null,
   "metadata": {
    "collapsed": true
   },
   "outputs": [],
   "source": [
    "triangles = np.loadtxt(\"triangles.txt\")\n",
    "meshnode = np.loadtxt(\"meshnode.txt\")\n",
    "velocity_obs_loc = np.loadtxt(\"./observation_loc_N250_M8_J1_I10.dat\")"
   ]
  },
  {
   "cell_type": "code",
   "execution_count": null,
   "metadata": {
    "collapsed": true
   },
   "outputs": [],
   "source": [
    "import red_inset_plot_utils as rp"
   ]
  },
  {
   "cell_type": "code",
   "execution_count": null,
   "metadata": {},
   "outputs": [],
   "source": [
    "fig = plt.figure(figsize=(10, 6.), dpi=300)\n",
    "ax = rp.plot_bathymetry_physical_domain(meshnode,triangles,s_true,title='True Red Inset Bathymetry')\n",
    "ax.scatter(velocity_obs_loc[:, 0], velocity_obs_loc[:, 1], c='k', s=0.5, alpha=0.7, label='obs.')\n",
    "plt.savefig('./bathymetry_true.png', dpi=300, bbox_inches='tight', pad_inches=0.0)"
   ]
  },
  {
   "cell_type": "code",
   "execution_count": null,
   "metadata": {},
   "outputs": [],
   "source": [
    "fig = plt.figure(figsize=(10, 6.), dpi=300)\n",
    "ax = rp.plot_bathymetry_physical_domain(meshnode,triangles,s_hat,title='Estimated Red Inset Bathymetry')\n",
    "plt.savefig('./bathymetry_estimate.png', dpi=300, bbox_inches='tight', pad_inches=0.0)\n",
    "                                        "
   ]
  },
  {
   "cell_type": "code",
   "execution_count": null,
   "metadata": {},
   "outputs": [],
   "source": [
    "fig = plt.figure(figsize=(10, 6.), dpi=300)\n",
    "ax = rp.plot_observations_comparison(obs,simul_obs)\n",
    "fig.savefig('obs.png', dpi=fig.dpi)"
   ]
  },
  {
   "cell_type": "markdown",
   "metadata": {},
   "source": [
    "Look at the progress of the optimization"
   ]
  },
  {
   "cell_type": "code",
   "execution_count": null,
   "metadata": {},
   "outputs": [],
   "source": [
    "fig = plt.figure(figsize=(10, 6.), dpi=300)\n",
    "plt.semilogy(range(len(prob.objvals)), prob.objvals, 'r-')\n",
    "plt.title('obj values over iterations')\n",
    "plt.axis('tight')\n",
    "fig.savefig('obj.png', dpi=fig.dpi)"
   ]
  },
  {
   "cell_type": "code",
   "execution_count": null,
   "metadata": {
    "collapsed": true
   },
   "outputs": [],
   "source": []
  },
  {
   "cell_type": "code",
   "execution_count": null,
   "metadata": {
    "collapsed": true
   },
   "outputs": [],
   "source": []
  }
 ],
 "metadata": {
  "kernelspec": {
   "display_name": "Python 2",
   "language": "python",
   "name": "python2"
  },
  "language_info": {
   "codemirror_mode": {
    "name": "ipython",
    "version": 2
   },
   "file_extension": ".py",
   "mimetype": "text/x-python",
   "name": "python",
   "nbconvert_exporter": "python",
   "pygments_lexer": "ipython2",
   "version": "2.7.13"
  }
 },
 "nbformat": 4,
 "nbformat_minor": 2
}
